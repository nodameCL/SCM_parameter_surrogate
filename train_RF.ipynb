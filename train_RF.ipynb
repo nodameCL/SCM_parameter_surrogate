{
 "cells": [
  {
   "cell_type": "code",
   "execution_count": 1,
   "metadata": {},
   "outputs": [],
   "source": [
    "from matplotlib.lines import Line2D\n",
    "import pandas as pd \n",
    "import numpy as np\n",
    "from sklearn.multioutput import MultiOutputRegressor\n",
    "from sklearn.ensemble import RandomForestRegressor\n",
    "import os \n",
    "from sklearn.metrics import mean_squared_error, r2_score, mean_absolute_error\n",
    "import matplotlib.pyplot as plt"
   ]
  },
  {
   "cell_type": "markdown",
   "metadata": {
    "tags": []
   },
   "source": [
    "# Training on 56points with PH values "
   ]
  },
  {
   "cell_type": "markdown",
   "metadata": {},
   "source": [
    "## split data 811 ratio"
   ]
  },
  {
   "cell_type": "code",
   "execution_count": 2,
   "metadata": {},
   "outputs": [],
   "source": [
    "# data_dir='/pscratch/sd/c/chunhui/SCM/56points/'\n",
    "data_dir='datasets/'\n",
    "\n",
    "train_csv_file = os.path.join(data_dir, 'train.pkl')\n",
    "val_csv_file = os.path.join(data_dir, 'val.pkl')\n",
    "test_csv_file = os.path.join(data_dir, 'test.pkl')\n",
    "\n",
    "df_train = pd.read_pickle(train_csv_file)\n",
    "df_val = pd.read_pickle(val_csv_file)\n",
    "df_test = pd.read_pickle(test_csv_file)"
   ]
  },
  {
   "cell_type": "code",
   "execution_count": 3,
   "metadata": {},
   "outputs": [
    {
     "data": {
      "text/plain": [
       "((90481, 12), (11309, 12), (11314, 12))"
      ]
     },
     "execution_count": 3,
     "metadata": {},
     "output_type": "execute_result"
    }
   ],
   "source": [
    "df_train.shape, df_val.shape, df_test.shape"
   ]
  },
  {
   "cell_type": "code",
   "execution_count": 5,
   "metadata": {},
   "outputs": [],
   "source": [
    "# df_test"
   ]
  },
  {
   "cell_type": "code",
   "execution_count": 6,
   "metadata": {},
   "outputs": [],
   "source": [
    "df_train_wVal = pd.concat([df_train, df_val])"
   ]
  },
  {
   "cell_type": "code",
   "execution_count": 7,
   "metadata": {},
   "outputs": [
    {
     "data": {
      "text/plain": [
       "'/pscratch/sd/c/chunhui/SCM/DNN/split_by_modelParams/test.pkl'"
      ]
     },
     "execution_count": 7,
     "metadata": {},
     "output_type": "execute_result"
    }
   ],
   "source": [
    "test_csv_file"
   ]
  },
  {
   "cell_type": "markdown",
   "metadata": {
    "tags": []
   },
   "source": [
    "# Extract 56*3 + 3 features as input"
   ]
  },
  {
   "cell_type": "code",
   "execution_count": 8,
   "metadata": {},
   "outputs": [],
   "source": [
    "x_train = df_train.drop(['C1', 'C2', 'logK1', 'logK2', 'logKc', 'logKa', 'pH', 'sigma', 'zeta'], axis = 1)\n",
    "y_train = df_train[['C1', 'logK1', 'logK2', 'logKc', 'logKa']]\n",
    "\n",
    "x_val = df_val.drop(['C1', 'C2', 'logK1', 'logK2', 'logKc', 'logKa', 'pH', 'sigma', 'zeta'], axis = 1)\n",
    "y_val = df_val[['C1', 'logK1', 'logK2', 'logKc', 'logKa']]\n",
    "\n",
    "x_test = df_test.drop(['C1', 'C2', 'logK1', 'logK2', 'logKc', 'logKa', 'pH', 'sigma', 'zeta'], axis = 1)\n",
    "y_test = df_test[['C1', 'logK1', 'logK2', 'logKc', 'logKa']]"
   ]
  },
  {
   "cell_type": "code",
   "execution_count": 9,
   "metadata": {},
   "outputs": [],
   "source": [
    "x_train = pd.concat([x_train, pd.DataFrame(df_train['pH'].to_list(), columns=['pH']*56), pd.DataFrame(df_train['sigma'].to_list(), columns=['sigma']*56), pd.DataFrame(df_train['zeta'].to_list(), columns=['zeta']*56)], axis=1)\n",
    "x_val = pd.concat([x_val, pd.DataFrame(df_val['pH'].to_list(), columns=['pH']*56), pd.DataFrame(df_val['sigma'].to_list(), columns=['sigma']*56), pd.DataFrame(df_val['zeta'].to_list(), columns=['zeta']*56)], axis=1)\n",
    "x_test = pd.concat([x_test, pd.DataFrame(df_test['pH'].to_list(), columns=['pH']*56), pd.DataFrame(df_test['sigma'].to_list(), columns=['sigma']*56), pd.DataFrame(df_test['zeta'].to_list(), columns=['zeta']*56)], axis=1)"
   ]
  },
  {
   "cell_type": "code",
   "execution_count": 11,
   "metadata": {},
   "outputs": [],
   "source": [
    "x_train_comb = pd.concat([x_train, x_val])\n",
    "y_train_comb = pd.concat([y_train, y_val])"
   ]
  },
  {
   "cell_type": "code",
   "execution_count": 12,
   "metadata": {},
   "outputs": [
    {
     "data": {
      "text/plain": [
       "((90481, 171), (11314, 171), (90481, 24), (11309, 171))"
      ]
     },
     "execution_count": 12,
     "metadata": {},
     "output_type": "execute_result"
    }
   ],
   "source": [
    "x_train.shape, x_test.shape, x_train_24.shape, x_val.shape"
   ]
  },
  {
   "cell_type": "code",
   "execution_count": 14,
   "metadata": {},
   "outputs": [
    {
     "ename": "NameError",
     "evalue": "name 'regr_gboost' is not defined",
     "output_type": "error",
     "traceback": [
      "\u001b[0;31m---------------------------------------------------------------------------\u001b[0m",
      "\u001b[0;31mNameError\u001b[0m                                 Traceback (most recent call last)",
      "\u001b[0;32m/tmp/ipykernel_51703/3176082989.py\u001b[0m in \u001b[0;36m<module>\u001b[0;34m\u001b[0m\n\u001b[1;32m     11\u001b[0m \u001b[0mer\u001b[0m \u001b[0;34m=\u001b[0m \u001b[0mVotingRegressor\u001b[0m\u001b[0;34m(\u001b[0m\u001b[0;34m[\u001b[0m\u001b[0;34m(\u001b[0m\u001b[0;34m'lr'\u001b[0m\u001b[0;34m,\u001b[0m \u001b[0mr1\u001b[0m\u001b[0;34m)\u001b[0m\u001b[0;34m,\u001b[0m \u001b[0;34m(\u001b[0m\u001b[0;34m'rf'\u001b[0m\u001b[0;34m,\u001b[0m \u001b[0mr2\u001b[0m\u001b[0;34m)\u001b[0m\u001b[0;34m,\u001b[0m \u001b[0;34m(\u001b[0m\u001b[0;34m'r3'\u001b[0m\u001b[0;34m,\u001b[0m \u001b[0mr3\u001b[0m\u001b[0;34m)\u001b[0m\u001b[0;34m]\u001b[0m\u001b[0;34m)\u001b[0m\u001b[0;34m\u001b[0m\u001b[0;34m\u001b[0m\u001b[0m\n\u001b[1;32m     12\u001b[0m \u001b[0mregr_voting\u001b[0m \u001b[0;34m=\u001b[0m \u001b[0mMultiOutputRegressor\u001b[0m\u001b[0;34m(\u001b[0m\u001b[0mer\u001b[0m\u001b[0;34m)\u001b[0m\u001b[0;34m.\u001b[0m\u001b[0mfit\u001b[0m\u001b[0;34m(\u001b[0m\u001b[0mx_train\u001b[0m\u001b[0;34m,\u001b[0m \u001b[0my_train\u001b[0m\u001b[0;34m)\u001b[0m\u001b[0;34m\u001b[0m\u001b[0;34m\u001b[0m\u001b[0m\n\u001b[0;32m---> 13\u001b[0;31m \u001b[0my_pred_voting\u001b[0m \u001b[0;34m=\u001b[0m \u001b[0mregr_gboost\u001b[0m\u001b[0;34m.\u001b[0m\u001b[0mpredict\u001b[0m\u001b[0;34m(\u001b[0m\u001b[0mx_test\u001b[0m\u001b[0;34m)\u001b[0m\u001b[0;34m\u001b[0m\u001b[0;34m\u001b[0m\u001b[0m\n\u001b[0m\u001b[1;32m     14\u001b[0m \u001b[0;34m\u001b[0m\u001b[0m\n\u001b[1;32m     15\u001b[0m \u001b[0mplot_figures\u001b[0m\u001b[0;34m(\u001b[0m\u001b[0my_test\u001b[0m\u001b[0;34m,\u001b[0m \u001b[0my_pred_voting\u001b[0m\u001b[0;34m,\u001b[0m \u001b[0;34m'voting_24inputs'\u001b[0m\u001b[0;34m,\u001b[0m \u001b[0;34m'tiff'\u001b[0m\u001b[0;34m)\u001b[0m\u001b[0;34m\u001b[0m\u001b[0;34m\u001b[0m\u001b[0m\n",
      "\u001b[0;31mNameError\u001b[0m: name 'regr_gboost' is not defined"
     ]
    }
   ],
   "source": [
    "from sklearn.ensemble import VotingRegressor\n",
    "from sklearn.linear_model import LinearRegression\n",
    "from sklearn.ensemble import RandomForestRegressor\n",
    "from sklearn.ensemble import VotingRegressor\n",
    "from sklearn.neighbors import KNeighborsRegressor\n",
    "\n",
    "r1 = LinearRegression()\n",
    "r2 = RandomForestRegressor(n_estimators=100, random_state=10)\n",
    "r3 = KNeighborsRegressor()\n",
    "\n",
    "er = VotingRegressor([('lr', r1), ('rf', r2), ('r3', r3)])\n",
    "regr_voting = MultiOutputRegressor(er).fit(x_train, y_train)\n",
    "y_pred_voting = regr_gboost.predict(x_test)\n",
    "\n",
    "plot_figures(y_test, y_pred_voting, 'voting_24inputs', 'tiff')"
   ]
  },
  {
   "cell_type": "code",
   "execution_count": null,
   "metadata": {},
   "outputs": [],
   "source": [
    "from sklearn import linear_model\n",
    "# Robustly fit linear model with RANSAC algorithm\n",
    "ransac = linear_model.RANSACRegressor()\n",
    "\n",
    "regr_ransac = MultiOutputRegressor(ransac).fit(x_train, y_train)\n",
    "y_pred_ransac = regr_ransac.predict(x_test)\n",
    "plot_figures(y_test, y_pred_ransac, 'ransac_24inputs', 'tiff')\n",
    "\n",
    "# ransac.fit(X, y)\n",
    "# inlier_mask = ransac.inlier_mask_\n",
    "# outlier_mask = np.logical_not(inlier_mask)\n",
    "\n",
    "# # Predict data of estimated models\n",
    "# line_X = np.arange(X.min(), X.max())[:, np.newaxis]\n",
    "# line_y = lr.predict(line_X)\n",
    "# line_y_ransac = ransac.predict(line_X)\n",
    "\n",
    "# # Compare estimated coefficients\n",
    "# print(\"Estimated coefficients (true, linear regression, RANSAC):\")\n",
    "# print(coef, lr.coef_, ransac.estimator_.coef_)"
   ]
  },
  {
   "cell_type": "markdown",
   "metadata": {
    "tags": []
   },
   "source": [
    "# train "
   ]
  },
  {
   "cell_type": "code",
   "execution_count": 13,
   "metadata": {},
   "outputs": [],
   "source": [
    "estimator_RF = RandomForestRegressor(n_estimators=100,oob_score=True, random_state=10)"
   ]
  },
  {
   "cell_type": "code",
   "execution_count": 14,
   "metadata": {},
   "outputs": [],
   "source": [
    "regr_RF = MultiOutputRegressor(estimator_RF).fit(x_train, y_train)"
   ]
  },
  {
   "cell_type": "code",
   "execution_count": 118,
   "metadata": {},
   "outputs": [
    {
     "data": {
      "text/plain": [
       "0.9328673429119327"
      ]
     },
     "execution_count": 118,
     "metadata": {},
     "output_type": "execute_result"
    }
   ],
   "source": [
    "result = regr_RF.score(x_test, y_test)\n",
    "result"
   ]
  },
  {
   "cell_type": "code",
   "execution_count": 16,
   "metadata": {},
   "outputs": [],
   "source": [
    "y_pred_RF_test = regr_RF.predict(x_test)"
   ]
  },
  {
   "cell_type": "code",
   "execution_count": 123,
   "metadata": {},
   "outputs": [],
   "source": [
    "# predict on test data \n",
    "y_pred_RF = regr_RF.predict(x_test)\n",
    "y_pred_train_RF = regr_RF.predict(x_train)"
   ]
  },
  {
   "cell_type": "code",
   "execution_count": 18,
   "metadata": {},
   "outputs": [],
   "source": [
    "# save the model to disk\n",
    "import pickle\n",
    "filename = 'finalized_model.sav'\n",
    "pickle.dump(regr_RF, open(filename, 'wb'))"
   ]
  },
  {
   "cell_type": "code",
   "execution_count": 19,
   "metadata": {},
   "outputs": [
    {
     "name": "stdout",
     "output_type": "stream",
     "text": [
      "Mean squared error: 0.000377504647205291\n",
      "Coefficient of determination: 0.99413866\n"
     ]
    }
   ],
   "source": [
    "# The mean squared error\n",
    "print('Mean squared error: %.18f'\n",
    "      % mean_squared_error(y_train, y_pred_train_RF))\n",
    "\n",
    "# The coefficient of determination: 1 is perfect prediction\n",
    "print('Coefficient of determination: %.8f'\n",
    "      % r2_score(y_train, y_pred_train_RF))"
   ]
  },
  {
   "cell_type": "code",
   "execution_count": 20,
   "metadata": {},
   "outputs": [],
   "source": [
    "def get_R2score(y_test, y_pred): \n",
    "    r2_test_c1 = r2_score(y_test['C1'], y_pred[:,0])\n",
    "    r2_test_logK1 = r2_score(y_test['logK1'], y_pred[:,1])\n",
    "    r2_test_logK2 = r2_score(y_test['logK2'], y_pred[:,2])\n",
    "    r2_test_logKc = r2_score(y_test['logKc'], y_pred[:,3])\n",
    "    r2_test_logKa = r2_score(y_test['logKa'], y_pred[:,4])\n",
    "    \n",
    "    return r2_test_c1, r2_test_logK1, r2_test_logK2, r2_test_logKc, r2_test_logKa"
   ]
  },
  {
   "cell_type": "code",
   "execution_count": 21,
   "metadata": {},
   "outputs": [
    {
     "name": "stdout",
     "output_type": "stream",
     "text": [
      "r2 score_noC2:  0.9499071609343012 0.8356501734438775 0.9345803882092508 0.9650250403239944 0.9791739516482398\n"
     ]
    }
   ],
   "source": [
    "r2_test_c1, r2_test_logK1, r2_test_logK2, r2_test_logKc, r2_test_logKa = get_R2score(y_test, y_pred_RF)\n",
    "print(\"r2 score_noC2: \", r2_test_c1, r2_test_logK1, r2_test_logK2, r2_test_logKc, r2_test_logKa)"
   ]
  },
  {
   "cell_type": "code",
   "execution_count": 122,
   "metadata": {},
   "outputs": [
    {
     "data": {
      "text/plain": [
       "0.9328673429119327"
      ]
     },
     "execution_count": 122,
     "metadata": {},
     "output_type": "execute_result"
    }
   ],
   "source": [
    "r2_score(y_test, y_pred_RF_test)"
   ]
  },
  {
   "cell_type": "markdown",
   "metadata": {
    "tags": []
   },
   "source": [
    "# plot predictions"
   ]
  },
  {
   "cell_type": "code",
   "execution_count": 19,
   "metadata": {},
   "outputs": [],
   "source": [
    "def plot_figures(y_test, y_pred, fname, fformat, size = 0.005, marksize = 0.1, lw = 1.5):\n",
    "    r2_test_c1 = r2_score(y_test['C1'], y_pred[:,0])\n",
    "    r2_test_logK1 = r2_score(y_test['logK1'], y_pred[:,1])\n",
    "    r2_test_logK2 = r2_score(y_test['logK2'], y_pred[:,2])\n",
    "    r2_test_logKc = r2_score(y_test['logKc'], y_pred[:,3])\n",
    "    r2_test_logKa = r2_score(y_test['logKa'], y_pred[:,4])\n",
    "\n",
    "    from matplotlib.gridspec import GridSpec\n",
    "    color = 'tab:blue'\n",
    "    font = {'weight': 'bold',\n",
    "            'size': 11,\n",
    "            }\n",
    "    # Setting up the plot surface\n",
    "    fig = plt.figure(figsize=(9, 6)) #figsize=(9, 6)\n",
    "    gs = GridSpec(ncols=6, nrows=2)\n",
    "    # First axes\n",
    "    ax0 = fig.add_subplot(gs[0,0:2])\n",
    "    ax0.plot([0, 1], [0, 1], 'r-', linewidth = lw)\n",
    "    # ax0.scatter(y_test['C1'], y_pred[:,0], label='c1', s=size)\n",
    "    ax0.plot(y_test['C1'], y_pred[:,0],'*', color=color, markersize=marksize)\n",
    "    # ax0.plot([0, 1], [0, 1], 'r--', linewidth = lw)\n",
    "    ax0.set_aspect(1)\n",
    "    ax0.set(xlabel='Ground Truth', ylabel='Prediction')\n",
    "    # ax0.set_xlabel('Ground Truth', fontdict = font)\n",
    "    ax0.set_title(r'$C_1$')\n",
    "    ax0.text(0.1, 0.7, r'$R^2={}%$'.format(round(r2_test_c1, 4)))\n",
    "    ax0.text(0.05, 0.9, '(a)')\n",
    "    ax0.set_xlim(0, 1)\n",
    "    ax0.set_ylim(0, 1)\n",
    "\n",
    "    # Second axes\n",
    "    ax1 = fig.add_subplot(gs[0,2:4])\n",
    "    ax1.plot([0, 1], [0, 1], 'r-', linewidth = lw)\n",
    "    # ax1.scatter(y_test['logK1'], y_pred[:,1], label='logK1', s=size)\n",
    "    ax1.plot(y_test['logK1'], y_pred[:,1],'*', color=color, markersize=marksize)\n",
    "    # ax1.plot([0, 1], [0, 1], 'r-', linewidth = lw)\n",
    "    ax1.set_aspect(1)\n",
    "    ax1.set(xlabel='Ground Truth')\n",
    "    ax1.set_title(r'$logK_1$')\n",
    "    ax1.text(0.1, 0.7, r'$R^2={}%$'.format(round(r2_test_logK1, 4))) # 0.1 0.85 \n",
    "    ax1.text(0.05, 0.9, '(b)')\n",
    "    ax1.set_xlim(0, 1)\n",
    "    ax1.set_ylim(0, 1)\n",
    "\n",
    "    # Third axes\n",
    "    ax2 = fig.add_subplot(gs[0, 4:])\n",
    "    ax2.plot([0, 1], [0, 1], 'r-', linewidth = lw)\n",
    "    # ax2.scatter(y_test['logK2'], y_pred[:,2], label='logK2', s=size)\n",
    "    ax2.plot(y_test['logK2'], y_pred[:,2],'*', color=color, markersize=marksize)\n",
    "    # ax2.plot([0, 1], [0, 1], 'r--', linewidth = lw)\n",
    "    ax2.set_aspect(1)\n",
    "    ax2.set(xlabel='Ground Truth')\n",
    "    ax2.set_title(r'$logK_2$')\n",
    "    ax2.text(0.1, 0.7, r'$R^2={}%$'.format(round(r2_test_logK2, 4)))\n",
    "    ax2.text(0.05, 0.9, '(c)')\n",
    "    ax2.set_xlim(0, 1)\n",
    "    ax2.set_ylim(0, 1)\n",
    "\n",
    "    # Fourth axes\n",
    "    ax3 = fig.add_subplot(gs[1,1:3])\n",
    "    ax3.plot([0, 1], [0, 1], 'r-', linewidth = lw)\n",
    "    # ax3.scatter(y_test['logKc'], y_pred[:,3], label='logKc', s=size)\n",
    "    ax3.plot(y_test['logKc'], y_pred[:,3],'*', color=color, markersize=marksize)\n",
    "    # ax3.plot([0, 1], [0, 1], 'r-', linewidth = lw)\n",
    "    ax3.set_aspect(1)\n",
    "    ax3.set(xlabel='Ground Truth', ylabel='Prediction')\n",
    "    ax3.set_title(r'$logK_c$')\n",
    "    ax3.text(0.1, 0.7, r'$R^2={}%$'.format(round(r2_test_logKc, 4)))\n",
    "    ax3.text(0.05, 0.9, '(d)')\n",
    "    ax3.set_xlim(0, 1)\n",
    "    ax3.set_ylim(0, 1)\n",
    "\n",
    "    # Fifth axes\n",
    "    ax4 = fig.add_subplot(gs[1,3:5])\n",
    "    ax4.plot([0, 1], [0, 1], 'r-', linewidth = lw)\n",
    "    # ax4.scatter(y_test['logKa'], y_pred[:,4], label='logKa', s=size)\n",
    "    ax4.plot(y_test['logKa'], y_pred[:,4],'*', color=color, markersize=marksize)\n",
    "    # ax4.plot([0, 1], [0, 1], 'r-', linewidth = lw)\n",
    "    ax4.set_aspect(1)\n",
    "    ax4.set(xlabel='Ground Truth')\n",
    "    ax4.set_title(r'$logK_a$')\n",
    "    ax4.text(0.1, 0.7, r'$R^2={}%$'.format(round(r2_test_logKa, 4)))\n",
    "    ax4.text(0.05, 0.9, '(e)')\n",
    "    ax4.set_xlim(0, 1)\n",
    "    ax4.set_ylim(0, 1)\n",
    "\n",
    "    fig.subplots_adjust(hspace=0.4) # 0.4\n",
    "    fig.subplots_adjust(wspace=0.4) # 0.4\n",
    "    # fig.savefig('../figures/{}.{}'.format(fname, fformat), dpi=600, format='{}'.format(fformat))\n",
    "    # fig.savefig('/home/chunhui/Documents/SCM/paper_figure/RF_24inputs_brown.svg', dpi=600, format='svg')\n",
    "    # fig.savefig('/home/chunhui/Documents/SCM/paper_figure/RF_24inputs_blue.eps', dpi=600, format='eps')\n",
    "    # fig.savefig('/home/chunhui/Documents/SCM/paper_figure/RF_24inputs_blue.svg', dpi=600, format='svg')\n",
    "    # fig.tight_layout()\n",
    "    plt.show()"
   ]
  },
  {
   "cell_type": "code",
   "execution_count": 23,
   "metadata": {},
   "outputs": [
    {
     "data": {
      "image/png": "[encoded data removed]",
      "text/plain": [
       "<Figure size 648x432 with 5 Axes>"
      ]
     },
     "metadata": {
      "needs_background": "light"
     },
     "output_type": "display_data"
    }
   ],
   "source": [
    "plot_figures(y_test, y_pred_RF_test, 'x', 'png')"
   ]
  },
  {
   "cell_type": "markdown",
   "metadata": {},
   "source": [
    "# test on expeirment data"
   ]
  },
  {
   "cell_type": "markdown",
   "metadata": {},
   "source": [
    "## cscl"
   ]
  },
  {
   "cell_type": "code",
   "execution_count": 4,
   "metadata": {},
   "outputs": [],
   "source": [
    "df_exp_cscl = pd.read_pickle('datasets/exp/rutitle_cscl/test.pkl')\n",
    "x_exp_cscl = df_exp_cscl.drop(['C1', 'C2', 'logK1', 'logK2', 'logKc', 'logKa', 'pH', 'sigma', 'zeta'], axis = 1)\n",
    "y_exp_cscl = df_exp_cscl[['C1', 'logK1', 'logK2', 'logKc', 'logKa']]"
   ]
  },
  {
   "cell_type": "code",
   "execution_count": 5,
   "metadata": {},
   "outputs": [],
   "source": [
    "x_exp_cscl = pd.concat([x_exp_cscl, \n",
    "                     pd.DataFrame(df_exp_cscl['pH'].to_list(), columns=['pH']*56), \n",
    "                     pd.DataFrame(df_exp_cscl['sigma'].to_list(), columns=['sigma']*56), \n",
    "                     pd.DataFrame(df_exp_cscl['zeta'].to_list(), columns=['zeta']*56)], axis=1)"
   ]
  },
  {
   "cell_type": "code",
   "execution_count": 6,
   "metadata": {},
   "outputs": [
    {
     "data": {
      "text/html": [
       "<div>\n",
       "<style scoped>\n",
       "    .dataframe tbody tr th:only-of-type {\n",
       "        vertical-align: middle;\n",
       "    }\n",
       "\n",
       "    .dataframe tbody tr th {\n",
       "        vertical-align: top;\n",
       "    }\n",
       "\n",
       "    .dataframe thead th {\n",
       "        text-align: right;\n",
       "    }\n",
       "</style>\n",
       "<table border=\"1\" class=\"dataframe\">\n",
       "  <thead>\n",
       "    <tr style=\"text-align: right;\">\n",
       "      <th></th>\n",
       "      <th>Ns</th>\n",
       "      <th>PZC</th>\n",
       "      <th>C</th>\n",
       "      <th>pH</th>\n",
       "      <th>pH</th>\n",
       "      <th>pH</th>\n",
       "      <th>pH</th>\n",
       "      <th>pH</th>\n",
       "      <th>pH</th>\n",
       "      <th>pH</th>\n",
       "      <th>...</th>\n",
       "      <th>zeta</th>\n",
       "      <th>zeta</th>\n",
       "      <th>zeta</th>\n",
       "      <th>zeta</th>\n",
       "      <th>zeta</th>\n",
       "      <th>zeta</th>\n",
       "      <th>zeta</th>\n",
       "      <th>zeta</th>\n",
       "      <th>zeta</th>\n",
       "      <th>zeta</th>\n",
       "    </tr>\n",
       "  </thead>\n",
       "  <tbody>\n",
       "    <tr>\n",
       "      <th>0</th>\n",
       "      <td>0.374779</td>\n",
       "      <td>0.400048</td>\n",
       "      <td>0.09991</td>\n",
       "      <td>0.260847</td>\n",
       "      <td>0.269058</td>\n",
       "      <td>0.27727</td>\n",
       "      <td>0.28548</td>\n",
       "      <td>0.293691</td>\n",
       "      <td>0.301902</td>\n",
       "      <td>0.310113</td>\n",
       "      <td>...</td>\n",
       "      <td>0.474024</td>\n",
       "      <td>0.471921</td>\n",
       "      <td>0.472298</td>\n",
       "      <td>0.471691</td>\n",
       "      <td>0.470905</td>\n",
       "      <td>0.470176</td>\n",
       "      <td>0.469558</td>\n",
       "      <td>0.46887</td>\n",
       "      <td>0.468603</td>\n",
       "      <td>0.467919</td>\n",
       "    </tr>\n",
       "  </tbody>\n",
       "</table>\n",
       "<p>1 rows × 171 columns</p>\n",
       "</div>"
      ],
      "text/plain": [
       "         Ns       PZC        C        pH        pH       pH       pH  \\\n",
       "0  0.374779  0.400048  0.09991  0.260847  0.269058  0.27727  0.28548   \n",
       "\n",
       "         pH        pH        pH  ...      zeta      zeta      zeta      zeta  \\\n",
       "0  0.293691  0.301902  0.310113  ...  0.474024  0.471921  0.472298  0.471691   \n",
       "\n",
       "       zeta      zeta      zeta     zeta      zeta      zeta  \n",
       "0  0.470905  0.470176  0.469558  0.46887  0.468603  0.467919  \n",
       "\n",
       "[1 rows x 171 columns]"
      ]
     },
     "execution_count": 6,
     "metadata": {},
     "output_type": "execute_result"
    }
   ],
   "source": [
    "x_exp_cscl"
   ]
  },
  {
   "cell_type": "code",
   "execution_count": 36,
   "metadata": {},
   "outputs": [
    {
     "name": "stdout",
     "output_type": "stream",
     "text": [
      "time used to predict results with single data entry:  0.03556724090594798 s\n"
     ]
    },
    {
     "data": {
      "text/plain": [
       "0.022284976879324382"
      ]
     },
     "execution_count": 36,
     "metadata": {},
     "output_type": "execute_result"
    }
   ],
   "source": [
    "import time \n",
    "start_time = time.perf_counter()\n",
    "pred_exp_cscl = regr_RF.predict(x_exp_cscl)\n",
    "end_time = time.perf_counter()\n",
    "print('time used to predict results with single data entry: ', (end_time - start_time), 's')\n",
    "mean_squared_error(y_exp_cscl, pred_exp_cscl)"
   ]
  },
  {
   "cell_type": "code",
   "execution_count": 37,
   "metadata": {},
   "outputs": [],
   "source": [
    "min_con = [0.40002009999999993, -2.99983111, 2.08210729, 0.50085873, 0.50023814]\n",
    "con_scale = [1.59997698,13.99264249, 24.80129247, 12.49877971, 12.498428239999999]"
   ]
  },
  {
   "cell_type": "code",
   "execution_count": 38,
   "metadata": {},
   "outputs": [
    {
     "data": {
      "text/html": [
       "<div>\n",
       "<style scoped>\n",
       "    .dataframe tbody tr th:only-of-type {\n",
       "        vertical-align: middle;\n",
       "    }\n",
       "\n",
       "    .dataframe tbody tr th {\n",
       "        vertical-align: top;\n",
       "    }\n",
       "\n",
       "    .dataframe thead th {\n",
       "        text-align: right;\n",
       "    }\n",
       "</style>\n",
       "<table border=\"1\" class=\"dataframe\">\n",
       "  <thead>\n",
       "    <tr style=\"text-align: right;\">\n",
       "      <th></th>\n",
       "      <th>C1</th>\n",
       "      <th>logK1</th>\n",
       "      <th>logK2</th>\n",
       "      <th>logKc</th>\n",
       "      <th>logKa</th>\n",
       "    </tr>\n",
       "  </thead>\n",
       "  <tbody>\n",
       "    <tr>\n",
       "      <th>0</th>\n",
       "      <td>0.95</td>\n",
       "      <td>2.8</td>\n",
       "      <td>9.2</td>\n",
       "      <td>2.9</td>\n",
       "      <td>2.8</td>\n",
       "    </tr>\n",
       "  </tbody>\n",
       "</table>\n",
       "</div>"
      ],
      "text/plain": [
       "     C1  logK1  logK2  logKc  logKa\n",
       "0  0.95    2.8    9.2    2.9    2.8"
      ]
     },
     "execution_count": 38,
     "metadata": {},
     "output_type": "execute_result"
    }
   ],
   "source": [
    "y_exp_cscl * con_scale + min_con"
   ]
  },
  {
   "cell_type": "code",
   "execution_count": 59,
   "metadata": {},
   "outputs": [
    {
     "data": {
      "text/plain": [
       "array([[ 0.4674811 ,  1.12733227, 10.87712456,  3.28308252,  3.12433679]])"
      ]
     },
     "execution_count": 59,
     "metadata": {},
     "output_type": "execute_result"
    }
   ],
   "source": [
    "pred_exp_cscl * con_scale + min_con"
   ]
  },
  {
   "cell_type": "code",
   "execution_count": 58,
   "metadata": {},
   "outputs": [
    {
     "data": {
      "text/plain": [
       "(array([[0.50791463, 0.59738133, 0.18229615, 0.13209742, 0.11583457]]),\n",
       " array([1.5355241]),\n",
       " array([1.02760947]))"
      ]
     },
     "execution_count": 58,
     "metadata": {},
     "output_type": "execute_result"
    }
   ],
   "source": [
    "abs_err = abs((pred_exp_cscl* con_scale - (y_exp_cscl * con_scale).to_numpy()))/((y_exp_cscl * con_scale).to_numpy() + min_con)\n",
    "abs_err, abs_err.sum(axis=1), abs_err.sum(axis=1)- abs_err[0][0]"
   ]
  },
  {
   "cell_type": "markdown",
   "metadata": {},
   "source": [
    "### LiCL"
   ]
  },
  {
   "cell_type": "code",
   "execution_count": 30,
   "metadata": {},
   "outputs": [],
   "source": [
    "df_exp_licl = pd.read_pickle('datasets/exp/rutitle_LiCl/test.pkl')\n",
    "x_exp_licl = df_exp_licl.drop(['C1', 'C2', 'logK1', 'logK2', 'logKc', 'logKa', 'pH', 'sigma', 'zeta'], axis = 1)\n",
    "y_exp_licl = df_exp_licl[['C1', 'logK1', 'logK2', 'logKc', 'logKa']]"
   ]
  },
  {
   "cell_type": "code",
   "execution_count": 31,
   "metadata": {},
   "outputs": [],
   "source": [
    "x_exp_licl = pd.concat([x_exp_licl, \n",
    "                     pd.DataFrame(df_exp_licl['pH'].to_list(), columns=['pH']*56), \n",
    "                     pd.DataFrame(df_exp_licl['sigma'].to_list(), columns=['sigma']*56), \n",
    "                     pd.DataFrame(df_exp_licl['zeta'].to_list(), columns=['zeta']*56)], axis=1)"
   ]
  },
  {
   "cell_type": "code",
   "execution_count": 62,
   "metadata": {},
   "outputs": [
    {
     "name": "stdout",
     "output_type": "stream",
     "text": [
      "time used to predict results with single data entry:  0.034999258001334965 s\n"
     ]
    },
    {
     "data": {
      "text/plain": [
       "0.09996373004949254"
      ]
     },
     "execution_count": 62,
     "metadata": {},
     "output_type": "execute_result"
    }
   ],
   "source": [
    "import time \n",
    "start_time = time.perf_counter()\n",
    "pred_exp_licl = regr_RF.predict(x_exp_licl)\n",
    "end_time = time.perf_counter()\n",
    "print('time used to predict results with single data entry: ', (end_time - start_time), 's')\n",
    "mean_squared_error(y_exp_licl, pred_exp_licl)"
   ]
  },
  {
   "cell_type": "code",
   "execution_count": 63,
   "metadata": {},
   "outputs": [
    {
     "data": {
      "text/html": [
       "<div>\n",
       "<style scoped>\n",
       "    .dataframe tbody tr th:only-of-type {\n",
       "        vertical-align: middle;\n",
       "    }\n",
       "\n",
       "    .dataframe tbody tr th {\n",
       "        vertical-align: top;\n",
       "    }\n",
       "\n",
       "    .dataframe thead th {\n",
       "        text-align: right;\n",
       "    }\n",
       "</style>\n",
       "<table border=\"1\" class=\"dataframe\">\n",
       "  <thead>\n",
       "    <tr style=\"text-align: right;\">\n",
       "      <th></th>\n",
       "      <th>C1</th>\n",
       "      <th>logK1</th>\n",
       "      <th>logK2</th>\n",
       "      <th>logKc</th>\n",
       "      <th>logKa</th>\n",
       "    </tr>\n",
       "  </thead>\n",
       "  <tbody>\n",
       "    <tr>\n",
       "      <th>0</th>\n",
       "      <td>1.55</td>\n",
       "      <td>2.8</td>\n",
       "      <td>9.2</td>\n",
       "      <td>3.2</td>\n",
       "      <td>2.6</td>\n",
       "    </tr>\n",
       "  </tbody>\n",
       "</table>\n",
       "</div>"
      ],
      "text/plain": [
       "     C1  logK1  logK2  logKc  logKa\n",
       "0  1.55    2.8    9.2    3.2    2.6"
      ]
     },
     "execution_count": 63,
     "metadata": {},
     "output_type": "execute_result"
    }
   ],
   "source": [
    "y_exp_licl * con_scale + min_con"
   ]
  },
  {
   "cell_type": "code",
   "execution_count": 64,
   "metadata": {},
   "outputs": [
    {
     "data": {
      "text/plain": [
       "array([[ 0.43400867,  1.53998791, 10.70894899,  3.45435893,  3.01101303]])"
      ]
     },
     "execution_count": 64,
     "metadata": {},
     "output_type": "execute_result"
    }
   ],
   "source": [
    "pred_exp_licl * con_scale + min_con"
   ]
  },
  {
   "cell_type": "code",
   "execution_count": 67,
   "metadata": {},
   "outputs": [
    {
     "data": {
      "text/plain": [
       "(array([[0.71999441, 0.45000432, 0.16401619, 0.07948716, 0.15808193]]),\n",
       " array([1.57158402]),\n",
       " array([0.85158961]))"
      ]
     },
     "execution_count": 67,
     "metadata": {},
     "output_type": "execute_result"
    }
   ],
   "source": [
    "abs_err_licl = abs((pred_exp_licl* con_scale - (y_exp_licl * con_scale).to_numpy()))/((y_exp_licl * con_scale).to_numpy() + min_con)\n",
    "abs_err_licl, abs_err_licl.sum(axis=1), abs_err_licl.sum(axis=1)- abs_err_licl[0][0]"
   ]
  }
 ],
 "metadata": {
  "interpreter": {
   "hash": "916dbcbb3f70747c44a77c7bcd40155683ae19c65e1c03b4aa3499c5328201f1"
  },
  "kernelspec": {
   "display_name": "NERSC Python",
   "language": "python",
   "name": "python3"
  },
  "language_info": {
   "codemirror_mode": {
    "name": "ipython",
    "version": 3
   },
   "file_extension": ".py",
   "mimetype": "text/x-python",
   "name": "python",
   "nbconvert_exporter": "python",
   "pygments_lexer": "ipython3",
   "version": "3.9.7"
  }
 },
 "nbformat": 4,
 "nbformat_minor": 4
}
