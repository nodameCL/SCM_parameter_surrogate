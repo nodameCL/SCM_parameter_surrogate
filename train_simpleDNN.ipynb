{
 "cells": [
  {
   "cell_type": "code",
   "execution_count": 1,
   "id": "aa15995c-79e6-46cd-9a24-7ce1b08aa892",
   "metadata": {},
   "outputs": [],
   "source": [
    "import os\n",
    "import torch\n",
    "import torch.nn as nn\n",
    "import torch.nn.parallel\n",
    "import torch.nn.functional as F\n",
    "import torch.optim as optim\n",
    "import torch.utils.data\n",
    "from model.pytorchtools import EarlyStopping\n",
    "import model.net as models \n",
    "from model.dataset import SurfaceComplexationDataset\n",
    "from tqdm import tqdm\n",
    "from sklearn.metrics import r2_score, mean_squared_error, mean_absolute_error\n",
    "import numpy as np"
   ]
  },
  {
   "cell_type": "code",
   "execution_count": 2,
   "id": "2dabf65c-4f77-410a-862a-9389d267c6a7",
   "metadata": {},
   "outputs": [],
   "source": [
    "def build_optimizer(network, optimizer, learning_rate):\n",
    "    if optimizer == \"sgd\":\n",
    "        optimizer = optim.SGD(network.parameters(),\n",
    "                              lr=learning_rate, momentum=0.9)\n",
    "    elif optimizer == \"adam\":\n",
    "        optimizer = optim.Adam(network.parameters(),\n",
    "                               lr=learning_rate)\n",
    "    \n",
    "    scheduler = optim.lr_scheduler.ReduceLROnPlateau(optimizer, 'min')\n",
    "    return optimizer, scheduler"
   ]
  },
  {
   "cell_type": "code",
   "execution_count": 3,
   "id": "6c161086-184b-4cec-a87a-22d1f679876b",
   "metadata": {},
   "outputs": [],
   "source": [
    "def load_data(data_dir): \n",
    "    train_set = SurfaceComplexationDataset(root_dir=data_dir)\n",
    "    test_set = SurfaceComplexationDataset(root_dir=data_dir, split='test')\n",
    "    val_set = SurfaceComplexationDataset(root_dir=data_dir, split='val')\n",
    "\n",
    "    return train_set, test_set, val_set"
   ]
  },
  {
   "cell_type": "code",
   "execution_count": 4,
   "id": "843d7819-23b1-47b1-b573-23dad110d636",
   "metadata": {},
   "outputs": [],
   "source": [
    "def train_epoch(train_loader, model, optimizer, device, epoch):\n",
    "    \"\"\" Train the model on num_steps batches \n",
    "    Args: \n",
    "        train_loader: a torch.utils.data.DataLoader object that fetches the data\n",
    "        model: the neural network \n",
    "        optimizer: adams \n",
    "    \"\"\"\n",
    "    model.train()\n",
    "    running_loss = 0.0\n",
    "    num_batch = len(train_loader)\n",
    "\n",
    "    for i, (inputs, targets) in enumerate(train_loader): \n",
    "        inputs, targets = inputs.to(device), targets.to(device)\n",
    "        # zero the paramter gradients \n",
    "        optimizer.zero_grad()\n",
    "\n",
    "        # forward + backward + optimize \n",
    "        pred = model(inputs)\n",
    "        loss = F.mse_loss(pred, targets)\n",
    "        loss.backward()\n",
    "        optimizer.step()\n",
    "\n",
    "        # print statistics \n",
    "        running_loss += loss.item()\n",
    "        # if i % 300 == 0: \n",
    "        #     print('[%d: %d/%d] train loss: %f ' % (epoch, i, num_batch, loss.item()))\n",
    "        # if i % 300 == 0: \n",
    "        #     print('[%d: %d/%d] train loss: %f lr = %f' % (epoch, i, num_batch, loss.item(), optimizer.param_groups[0][\"lr\"]))\n",
    "\n",
    "    return running_loss / num_batch "
   ]
  },
  {
   "cell_type": "code",
   "execution_count": 5,
   "id": "eb4f97b0-3644-4355-8cd4-04b109c23baf",
   "metadata": {},
   "outputs": [],
   "source": [
    "def validate(val_dataloader, model, device): \n",
    "    model.eval()\n",
    "    val_running_loss = 0.0 \n",
    "\n",
    "    with torch.no_grad(): \n",
    "        for inputs, targets in val_dataloader:\n",
    "            inputs, targets = inputs.to(device), targets.to(device)\n",
    "\n",
    "            outputs = model(inputs)\n",
    "            loss = F.mse_loss(outputs, targets)\n",
    "\n",
    "            val_running_loss += loss.item() * inputs.size(0)\n",
    "\n",
    "    return val_running_loss / len(val_dataloader.dataset)"
   ]
  },
  {
   "cell_type": "code",
   "execution_count": 6,
   "id": "820314e3-17ea-4f1e-9219-a416d5bf4dbb",
   "metadata": {},
   "outputs": [],
   "source": [
    "def plot_pramas(test_y, test_pred, foldername, outfile): \n",
    "    print(\"R2 of test is: \", r2_score(test_y, test_pred))\n",
    "\n",
    "    np.savetxt(f'{foldername}/test_pred_{outfile}.txt', test_pred)\n",
    "    np.savetxt(f'{foldername}/test_y_{outfile}.txt', test_y)\n",
    "\n",
    "    test_mse = mean_squared_error(test_y, test_pred)\n",
    "    test_mae = mean_absolute_error(test_y, test_pred)\n",
    "\n",
    "    print('Test set results for %i samples:' % test_pred.shape[0])\n",
    "    print('MSE:', test_mse)\n",
    "    print('MAE:', test_mae)"
   ]
  },
  {
   "cell_type": "code",
   "execution_count": 7,
   "id": "4a8ff46a-50a1-4231-b3d6-5024f3d8087a",
   "metadata": {},
   "outputs": [],
   "source": [
    "def test_accuracy(net, testloader, foldername, outfile, device): \n",
    "    test_pred = []\n",
    "    test_y = []\n",
    "    running_loss = 0 \n",
    "\n",
    "    with torch.no_grad():\n",
    "        for data in testloader:\n",
    "            inputs, targets = data\n",
    "            inputs, targets = inputs.to(device), targets.to(device)\n",
    "            outputs = net(inputs)\n",
    "            loss = F.mse_loss(outputs, targets)\n",
    "\n",
    "            running_loss += loss.item() \n",
    "\n",
    "            pred_val_numpy = outputs.data.cpu().numpy()\n",
    "            target_val_numpy = targets.data.cpu().numpy()\n",
    "\n",
    "            test_pred.append(pred_val_numpy)\n",
    "            test_y.append(target_val_numpy)\n",
    "\n",
    "    test_pred = np.concatenate(test_pred, axis=0)\n",
    "    test_y = np.concatenate(test_y, axis=0)\n",
    "\n",
    "    plot_pramas(test_y, test_pred, foldername, outfile)\n",
    "\n",
    "    print('MSE loss on test set is:', running_loss / len(testloader.dataset)) "
   ]
  },
  {
   "cell_type": "code",
   "execution_count": 8,
   "id": "4e33e978-778c-4195-8e6f-1c0da8141e92",
   "metadata": {},
   "outputs": [],
   "source": [
    "def train_model(model, device, train_loader, val_loader, test_loader, optimizer, lr_scheduler, isSch, res_dir, name, patience = 20, n_epochs = 100): \n",
    "    # to track the average training loss per epoch as the model trains\n",
    "    avg_train_losses = []\n",
    "    # to track the average validation loss per epoch as the model trains\n",
    "    avg_valid_losses = [] \n",
    "\n",
    "    blue = lambda x: '\\033[94m' + x + '\\033[0m'\n",
    "    \n",
    "    checkpoint_dir = os.path.join(res_dir, 'checkpoints')\n",
    "    try:\n",
    "        os.makedirs(res_dir)\n",
    "        os.makedirs(checkpoint_dir)\n",
    "    except OSError:\n",
    "        pass\n",
    "\n",
    "    checkpoint_path = os.path.join(checkpoint_dir, f'{name}.pt')\n",
    "    # initialize the early_stopping object\n",
    "    early_stopping = EarlyStopping(patience=patience, verbose=True, path = checkpoint_path)\n",
    "\n",
    "    for epoch in tqdm(range(1, n_epochs + 1)):\n",
    "        ###################\n",
    "        # train the model #\n",
    "        ###################\n",
    "        train_epoch_loss = train_epoch(train_loader, model, optimizer, device, epoch)\n",
    "        val_epoch_loss = validate(val_loader, model, device)\n",
    "\n",
    "        # print loss every epoch \n",
    "        print('[%d] train loss: %f ' % (epoch, train_epoch_loss))\n",
    "        print('[%d] %s loss: %f' % (epoch, blue('validate'), val_epoch_loss))\n",
    "\n",
    "        avg_train_losses.append(train_epoch_loss)\n",
    "        avg_valid_losses.append(val_epoch_loss)\n",
    "        \n",
    "        if isSch: \n",
    "            lr_scheduler.step(val_epoch_loss) \n",
    "        \n",
    "        # add early stopping \n",
    "        # early_stopping(val_epoch_loss, model)\n",
    "        early_stopping(train_epoch_loss, model)\n",
    "        if early_stopping.early_stop: \n",
    "            print(\"Early stopping\")\n",
    "            break \n",
    "\n",
    "    np.savetxt(os.path.join(res_dir, f'train_loss_{name}.csv'), avg_train_losses)\n",
    "    np.savetxt(os.path.join(res_dir, f'val_loss_{name}.csv'), avg_valid_losses) \n",
    "\n",
    "    # load the last checkpoint with the best model\n",
    "    model.load_state_dict(torch.load(checkpoint_path)) \n",
    "\n",
    "    # test on test set \n",
    "    test_accuracy(model, test_loader, res_dir, name, device)\n",
    "    # print(optimizer.state_dict())"
   ]
  },
  {
   "cell_type": "code",
   "execution_count": 9,
   "id": "2259efbe-9bc2-40ca-ab64-d0b0c9da05fa",
   "metadata": {},
   "outputs": [],
   "source": [
    "def train_main(config): \n",
    "    data_dir = 'datasets/train/'\n",
    "\n",
    "    # get dataset \n",
    "    train_set, val_set, test_set = load_data(data_dir)\n",
    "\n",
    "    train_loader = torch.utils.data.DataLoader(\n",
    "        train_set,\n",
    "        batch_size=int(config[\"batch_size\"]),\n",
    "        shuffle=True,\n",
    "        num_workers=4, \n",
    "        pin_memory=False)\n",
    "\n",
    "    val_loader = torch.utils.data.DataLoader(\n",
    "            val_set,\n",
    "            batch_size=int(config[\"batch_size\"]),\n",
    "            shuffle=True,\n",
    "            num_workers=4, \n",
    "            pin_memory=False)\n",
    "\n",
    "    test_loader = torch.utils.data.DataLoader(\n",
    "            test_set, \n",
    "            batch_size=int(config[\"batch_size\"]), \n",
    "            shuffle=True,\n",
    "            num_workers=4, \n",
    "            pin_memory=False)\n",
    "            \n",
    "    print(\"Creating model\")\n",
    "    Model = getattr(models, config['model'])\n",
    "    print('created model is: ', Model)\n",
    "    \n",
    "    if config['model'] == 'DeepNet4LayerTune': \n",
    "        model = Model(config['batch_norm'], config['layer_norm'], config['constraint'],\n",
    "                      config[\"l1\"], config[\"l2\"], config[\"l3\"],)\n",
    "    elif config['model'] == 'DeepNet5LayerTune': \n",
    "        model = Model(config['batch_norm'], config['layer_norm'], config['constraint'],\n",
    "                     config[\"l1\"], config[\"l2\"], config[\"l3\"], config[\"l4\"])\n",
    "    else: \n",
    "        model = Model(config['batch_norm'], config['layer_norm'], config['constraint'],\n",
    "                     config[\"l1\"], config[\"l2\"], config[\"l3\"], config[\"l4\"], config[\"l5\"])\n",
    "        \n",
    "    name = f\"{config['model']}_171inputs_{config['l1']}{config['l2']}{config['l3']}{config['l4']}{config['l5']}lr{config['lr']}BS{config['batch_size']}isB{config['batch_norm']}ln{config['layer_norm']}cons{config['constraint']}Opt{config['optimizer']}sch{config['lr_scheduler']}\"\n",
    "    \n",
    "\n",
    "    device = torch.device(\"cuda:1\" if torch.cuda.is_available() else \"cpu\")\n",
    "    # device = torch.device(\"cuda\")\n",
    "    # if torch.cuda.device_count() > 1:\n",
    "    #     model = nn.DataParallel(model)\n",
    "    model.to(device)\n",
    "\n",
    "    optimizer, lr_scheduler = build_optimizer(model, config['optimizer'], config['lr'])\n",
    "    res_dir = 'simpleDNN/res'\n",
    "    \n",
    "    train_model(model, device, train_loader, val_loader, test_loader, optimizer, lr_scheduler, config['lr_scheduler'], res_dir, name, 40, 5000)"
   ]
  },
  {
   "cell_type": "markdown",
   "id": "75e10d2d-72c3-473e-9b00-28b11768c541",
   "metadata": {},
   "source": [
    "# train DNN "
   ]
  },
  {
   "cell_type": "code",
   "execution_count": 10,
   "id": "6e9cd531-e606-4902-93a9-9a92c00194d6",
   "metadata": {},
   "outputs": [],
   "source": [
    "config = {'l1': 256, 'l2': 256, 'l3': 256, 'l4': 64, 'l5': 16, \n",
    "          'lr': 0.001, 'batch_size': 128, 'model': 'DeepNet5LayerTune', 'batch_norm': False, \n",
    "          'layer_norm': True, 'lr_scheduler': True, 'constraint': False, 'optimizer': 'adam'}"
   ]
  },
  {
   "cell_type": "code",
   "execution_count": 11,
   "id": "ad5f43dc-4a00-4354-98d9-b74941c8ba4f",
   "metadata": {},
   "outputs": [
    {
     "name": "stdout",
     "output_type": "stream",
     "text": [
      "Creating model\n",
      "created model is:  <class 'model.net.DeepNet5LayerTune'>\n"
     ]
    },
    {
     "name": "stderr",
     "output_type": "stream",
     "text": [
      "  0%|                                                                                                                                  | 1/5000 [00:03<5:32:28,  3.99s/it]"
     ]
    },
    {
     "name": "stdout",
     "output_type": "stream",
     "text": [
      "[1] train loss: 0.029184 \n",
      "[1] \u001b[94mvalidate\u001b[0m loss: 0.025162\n",
      "Validation loss decreased (inf --> 0.029184).  Saving model ...\n"
     ]
    },
    {
     "name": "stderr",
     "output_type": "stream",
     "text": [
      "  0%|                                                                                                                                  | 2/5000 [00:07<5:06:54,  3.68s/it]"
     ]
    },
    {
     "name": "stdout",
     "output_type": "stream",
     "text": [
      "[2] train loss: 0.020917 \n",
      "[2] \u001b[94mvalidate\u001b[0m loss: 0.017738\n",
      "Validation loss decreased (0.029184 --> 0.020917).  Saving model ...\n"
     ]
    },
    {
     "name": "stderr",
     "output_type": "stream",
     "text": [
      "  0%|                                                                                                                                  | 3/5000 [00:11<5:02:18,  3.63s/it]"
     ]
    },
    {
     "name": "stdout",
     "output_type": "stream",
     "text": [
      "[3] train loss: 0.017796 \n",
      "[3] \u001b[94mvalidate\u001b[0m loss: 0.014830\n",
      "Validation loss decreased (0.020917 --> 0.017796).  Saving model ...\n"
     ]
    },
    {
     "name": "stderr",
     "output_type": "stream",
     "text": [
      "  0%|                                                                                                                                  | 4/5000 [00:14<4:58:05,  3.58s/it]"
     ]
    },
    {
     "name": "stdout",
     "output_type": "stream",
     "text": [
      "[4] train loss: 0.016424 \n",
      "[4] \u001b[94mvalidate\u001b[0m loss: 0.017269\n",
      "Validation loss decreased (0.017796 --> 0.016424).  Saving model ...\n"
     ]
    },
    {
     "name": "stderr",
     "output_type": "stream",
     "text": [
      "  0%|▏                                                                                                                                 | 5/5000 [00:18<4:55:26,  3.55s/it]"
     ]
    },
    {
     "name": "stdout",
     "output_type": "stream",
     "text": [
      "[5] train loss: 0.015590 \n",
      "[5] \u001b[94mvalidate\u001b[0m loss: 0.017308\n",
      "Validation loss decreased (0.016424 --> 0.015590).  Saving model ...\n"
     ]
    },
    {
     "name": "stderr",
     "output_type": "stream",
     "text": [
      "  0%|▏                                                                                                                                 | 6/5000 [00:21<4:54:29,  3.54s/it]"
     ]
    },
    {
     "name": "stdout",
     "output_type": "stream",
     "text": [
      "[6] train loss: 0.014566 \n",
      "[6] \u001b[94mvalidate\u001b[0m loss: 0.013246\n",
      "Validation loss decreased (0.015590 --> 0.014566).  Saving model ...\n"
     ]
    },
    {
     "name": "stderr",
     "output_type": "stream",
     "text": [
      "  0%|▏                                                                                                                                 | 7/5000 [00:25<4:56:47,  3.57s/it]"
     ]
    },
    {
     "name": "stdout",
     "output_type": "stream",
     "text": [
      "[7] train loss: 0.014194 \n",
      "[7] \u001b[94mvalidate\u001b[0m loss: 0.014126\n",
      "Validation loss decreased (0.014566 --> 0.014194).  Saving model ...\n"
     ]
    },
    {
     "name": "stderr",
     "output_type": "stream",
     "text": [
      "  0%|▏                                                                                                                                 | 8/5000 [00:28<4:53:01,  3.52s/it]"
     ]
    },
    {
     "name": "stdout",
     "output_type": "stream",
     "text": [
      "[8] train loss: 0.013604 \n",
      "[8] \u001b[94mvalidate\u001b[0m loss: 0.015745\n",
      "Validation loss decreased (0.014194 --> 0.013604).  Saving model ...\n"
     ]
    },
    {
     "name": "stderr",
     "output_type": "stream",
     "text": [
      "  0%|▏                                                                                                                                 | 9/5000 [00:31<4:48:15,  3.47s/it]"
     ]
    },
    {
     "name": "stdout",
     "output_type": "stream",
     "text": [
      "[9] train loss: 0.013263 \n",
      "[9] \u001b[94mvalidate\u001b[0m loss: 0.013065\n",
      "Validation loss decreased (0.013604 --> 0.013263).  Saving model ...\n"
     ]
    },
    {
     "name": "stderr",
     "output_type": "stream",
     "text": [
      "  0%|▎                                                                                                                                | 10/5000 [00:35<4:51:02,  3.50s/it]"
     ]
    },
    {
     "name": "stdout",
     "output_type": "stream",
     "text": [
      "[10] train loss: 0.013174 \n",
      "[10] \u001b[94mvalidate\u001b[0m loss: 0.011421\n",
      "Validation loss decreased (0.013263 --> 0.013174).  Saving model ...\n"
     ]
    },
    {
     "name": "stderr",
     "output_type": "stream",
     "text": [
      "  0%|▎                                                                                                                                | 11/5000 [00:38<4:49:32,  3.48s/it]"
     ]
    },
    {
     "name": "stdout",
     "output_type": "stream",
     "text": [
      "[11] train loss: 0.012975 \n",
      "[11] \u001b[94mvalidate\u001b[0m loss: 0.012769\n",
      "Validation loss decreased (0.013174 --> 0.012975).  Saving model ...\n"
     ]
    },
    {
     "name": "stderr",
     "output_type": "stream",
     "text": [
      "  0%|▎                                                                                                                                | 12/5000 [00:42<4:52:27,  3.52s/it]"
     ]
    },
    {
     "name": "stdout",
     "output_type": "stream",
     "text": [
      "[12] train loss: 0.012989 \n",
      "[12] \u001b[94mvalidate\u001b[0m loss: 0.012607\n",
      "EarlyStopping counter: 1 out of 40\n"
     ]
    },
    {
     "name": "stderr",
     "output_type": "stream",
     "text": [
      "  0%|▎                                                                                                                                | 13/5000 [00:46<4:54:19,  3.54s/it]"
     ]
    },
    {
     "name": "stdout",
     "output_type": "stream",
     "text": [
      "[13] train loss: 0.012699 \n",
      "[13] \u001b[94mvalidate\u001b[0m loss: 0.012033\n",
      "Validation loss decreased (0.012975 --> 0.012699).  Saving model ...\n"
     ]
    },
    {
     "name": "stderr",
     "output_type": "stream",
     "text": [
      "  0%|▎                                                                                                                                | 14/5000 [00:49<4:54:41,  3.55s/it]"
     ]
    },
    {
     "name": "stdout",
     "output_type": "stream",
     "text": [
      "[14] train loss: 0.012295 \n",
      "[14] \u001b[94mvalidate\u001b[0m loss: 0.011724\n",
      "Validation loss decreased (0.012699 --> 0.012295).  Saving model ...\n"
     ]
    },
    {
     "name": "stderr",
     "output_type": "stream",
     "text": [
      "  0%|▍                                                                                                                                | 15/5000 [00:53<5:03:11,  3.65s/it]"
     ]
    },
    {
     "name": "stdout",
     "output_type": "stream",
     "text": [
      "[15] train loss: 0.012121 \n",
      "[15] \u001b[94mvalidate\u001b[0m loss: 0.013016\n",
      "Validation loss decreased (0.012295 --> 0.012121).  Saving model ...\n"
     ]
    },
    {
     "name": "stderr",
     "output_type": "stream",
     "text": [
      "  0%|▍                                                                                                                                | 16/5000 [00:57<5:06:05,  3.68s/it]"
     ]
    },
    {
     "name": "stdout",
     "output_type": "stream",
     "text": [
      "[16] train loss: 0.012505 \n",
      "[16] \u001b[94mvalidate\u001b[0m loss: 0.011536\n",
      "EarlyStopping counter: 1 out of 40\n"
     ]
    },
    {
     "name": "stderr",
     "output_type": "stream",
     "text": [
      "  0%|▍                                                                                                                                | 17/5000 [01:01<5:05:28,  3.68s/it]"
     ]
    },
    {
     "name": "stdout",
     "output_type": "stream",
     "text": [
      "[17] train loss: 0.012003 \n",
      "[17] \u001b[94mvalidate\u001b[0m loss: 0.012286\n",
      "Validation loss decreased (0.012121 --> 0.012003).  Saving model ...\n"
     ]
    },
    {
     "name": "stderr",
     "output_type": "stream",
     "text": [
      "  0%|▍                                                                                                                                | 18/5000 [01:04<5:02:11,  3.64s/it]"
     ]
    },
    {
     "name": "stdout",
     "output_type": "stream",
     "text": [
      "[18] train loss: 0.011953 \n",
      "[18] \u001b[94mvalidate\u001b[0m loss: 0.011108\n",
      "Validation loss decreased (0.012003 --> 0.011953).  Saving model ...\n"
     ]
    },
    {
     "name": "stderr",
     "output_type": "stream",
     "text": [
      "  0%|▍                                                                                                                                | 19/5000 [01:07<4:37:53,  3.35s/it]"
     ]
    },
    {
     "name": "stdout",
     "output_type": "stream",
     "text": [
      "[19] train loss: 0.011696 \n",
      "[19] \u001b[94mvalidate\u001b[0m loss: 0.011242\n",
      "Validation loss decreased (0.011953 --> 0.011696).  Saving model ...\n"
     ]
    },
    {
     "name": "stderr",
     "output_type": "stream",
     "text": [
      "  0%|▌                                                                                                                                | 20/5000 [01:10<4:40:36,  3.38s/it]"
     ]
    },
    {
     "name": "stdout",
     "output_type": "stream",
     "text": [
      "[20] train loss: 0.011756 \n",
      "[20] \u001b[94mvalidate\u001b[0m loss: 0.011447\n",
      "EarlyStopping counter: 1 out of 40\n"
     ]
    },
    {
     "name": "stderr",
     "output_type": "stream",
     "text": [
      "  0%|▌                                                                                                                                | 21/5000 [01:14<4:49:27,  3.49s/it]"
     ]
    },
    {
     "name": "stdout",
     "output_type": "stream",
     "text": [
      "[21] train loss: 0.011275 \n",
      "[21] \u001b[94mvalidate\u001b[0m loss: 0.011416\n",
      "Validation loss decreased (0.011696 --> 0.011275).  Saving model ...\n"
     ]
    },
    {
     "name": "stderr",
     "output_type": "stream",
     "text": [
      "  0%|▌                                                                                                                                | 22/5000 [01:17<4:41:36,  3.39s/it]"
     ]
    },
    {
     "name": "stdout",
     "output_type": "stream",
     "text": [
      "[22] train loss: 0.011607 \n",
      "[22] \u001b[94mvalidate\u001b[0m loss: 0.010765\n",
      "EarlyStopping counter: 1 out of 40\n"
     ]
    },
    {
     "name": "stderr",
     "output_type": "stream",
     "text": [
      "  0%|▌                                                                                                                                | 23/5000 [01:21<4:45:24,  3.44s/it]"
     ]
    },
    {
     "name": "stdout",
     "output_type": "stream",
     "text": [
      "[23] train loss: 0.011407 \n",
      "[23] \u001b[94mvalidate\u001b[0m loss: 0.010660\n",
      "EarlyStopping counter: 2 out of 40\n"
     ]
    },
    {
     "name": "stderr",
     "output_type": "stream",
     "text": [
      "  0%|▌                                                                                                                                | 24/5000 [01:24<4:50:48,  3.51s/it]"
     ]
    },
    {
     "name": "stdout",
     "output_type": "stream",
     "text": [
      "[24] train loss: 0.011264 \n",
      "[24] \u001b[94mvalidate\u001b[0m loss: 0.010598\n",
      "Validation loss decreased (0.011275 --> 0.011264).  Saving model ...\n"
     ]
    },
    {
     "name": "stderr",
     "output_type": "stream",
     "text": [
      "  0%|▋                                                                                                                                | 25/5000 [01:27<4:42:03,  3.40s/it]"
     ]
    },
    {
     "name": "stdout",
     "output_type": "stream",
     "text": [
      "[25] train loss: 0.011158 \n",
      "[25] \u001b[94mvalidate\u001b[0m loss: 0.011327\n",
      "Validation loss decreased (0.011264 --> 0.011158).  Saving model ...\n"
     ]
    },
    {
     "name": "stderr",
     "output_type": "stream",
     "text": [
      "  1%|▋                                                                                                                                | 26/5000 [01:31<4:43:39,  3.42s/it]"
     ]
    },
    {
     "name": "stdout",
     "output_type": "stream",
     "text": [
      "[26] train loss: 0.010987 \n",
      "[26] \u001b[94mvalidate\u001b[0m loss: 0.012251\n",
      "Validation loss decreased (0.011158 --> 0.010987).  Saving model ...\n"
     ]
    },
    {
     "name": "stderr",
     "output_type": "stream",
     "text": [
      "  1%|▋                                                                                                                                | 27/5000 [01:34<4:42:32,  3.41s/it]"
     ]
    },
    {
     "name": "stdout",
     "output_type": "stream",
     "text": [
      "[27] train loss: 0.010899 \n",
      "[27] \u001b[94mvalidate\u001b[0m loss: 0.012013\n",
      "Validation loss decreased (0.010987 --> 0.010899).  Saving model ...\n"
     ]
    },
    {
     "name": "stderr",
     "output_type": "stream",
     "text": [
      "  1%|▋                                                                                                                                | 28/5000 [01:38<4:45:53,  3.45s/it]"
     ]
    },
    {
     "name": "stdout",
     "output_type": "stream",
     "text": [
      "[28] train loss: 0.010439 \n",
      "[28] \u001b[94mvalidate\u001b[0m loss: 0.010996\n",
      "Validation loss decreased (0.010899 --> 0.010439).  Saving model ...\n"
     ]
    },
    {
     "name": "stderr",
     "output_type": "stream",
     "text": [
      "  1%|▋                                                                                                                                | 29/5000 [01:42<4:53:34,  3.54s/it]"
     ]
    },
    {
     "name": "stdout",
     "output_type": "stream",
     "text": [
      "[29] train loss: 0.010590 \n",
      "[29] \u001b[94mvalidate\u001b[0m loss: 0.011578\n",
      "EarlyStopping counter: 1 out of 40\n"
     ]
    },
    {
     "name": "stderr",
     "output_type": "stream",
     "text": [
      "  1%|▊                                                                                                                                | 30/5000 [01:45<4:56:49,  3.58s/it]"
     ]
    },
    {
     "name": "stdout",
     "output_type": "stream",
     "text": [
      "[30] train loss: 0.010421 \n",
      "[30] \u001b[94mvalidate\u001b[0m loss: 0.010490\n",
      "Validation loss decreased (0.010439 --> 0.010421).  Saving model ...\n"
     ]
    },
    {
     "name": "stderr",
     "output_type": "stream",
     "text": [
      "  1%|▊                                                                                                                                | 31/5000 [01:49<4:58:17,  3.60s/it]"
     ]
    },
    {
     "name": "stdout",
     "output_type": "stream",
     "text": [
      "[31] train loss: 0.010538 \n",
      "[31] \u001b[94mvalidate\u001b[0m loss: 0.015333\n",
      "EarlyStopping counter: 1 out of 40\n"
     ]
    },
    {
     "name": "stderr",
     "output_type": "stream",
     "text": [
      "  1%|▊                                                                                                                                | 32/5000 [01:52<4:53:44,  3.55s/it]"
     ]
    },
    {
     "name": "stdout",
     "output_type": "stream",
     "text": [
      "[32] train loss: 0.010214 \n",
      "[32] \u001b[94mvalidate\u001b[0m loss: 0.009273\n",
      "Validation loss decreased (0.010421 --> 0.010214).  Saving model ...\n"
     ]
    },
    {
     "name": "stderr",
     "output_type": "stream",
     "text": [
      "  1%|▊                                                                                                                                | 33/5000 [01:55<4:19:23,  3.13s/it]"
     ]
    },
    {
     "name": "stdout",
     "output_type": "stream",
     "text": [
      "[33] train loss: 0.010292 \n",
      "[33] \u001b[94mvalidate\u001b[0m loss: 0.009534\n",
      "EarlyStopping counter: 1 out of 40\n"
     ]
    },
    {
     "name": "stderr",
     "output_type": "stream",
     "text": [
      "  1%|▉                                                                                                                                | 34/5000 [01:58<4:26:44,  3.22s/it]"
     ]
    },
    {
     "name": "stdout",
     "output_type": "stream",
     "text": [
      "[34] train loss: 0.010139 \n",
      "[34] \u001b[94mvalidate\u001b[0m loss: 0.009203\n",
      "Validation loss decreased (0.010214 --> 0.010139).  Saving model ...\n"
     ]
    },
    {
     "name": "stderr",
     "output_type": "stream",
     "text": [
      "  1%|▉                                                                                                                                | 35/5000 [02:01<4:21:07,  3.16s/it]"
     ]
    },
    {
     "name": "stdout",
     "output_type": "stream",
     "text": [
      "[35] train loss: 0.010281 \n",
      "[35] \u001b[94mvalidate\u001b[0m loss: 0.008462\n",
      "EarlyStopping counter: 1 out of 40\n"
     ]
    },
    {
     "name": "stderr",
     "output_type": "stream",
     "text": [
      "  1%|▉                                                                                                                                | 36/5000 [02:05<4:31:23,  3.28s/it]"
     ]
    },
    {
     "name": "stdout",
     "output_type": "stream",
     "text": [
      "[36] train loss: 0.009952 \n",
      "[36] \u001b[94mvalidate\u001b[0m loss: 0.009962\n",
      "Validation loss decreased (0.010139 --> 0.009952).  Saving model ...\n"
     ]
    },
    {
     "name": "stderr",
     "output_type": "stream",
     "text": [
      "  1%|▉                                                                                                                                | 37/5000 [02:08<4:38:37,  3.37s/it]"
     ]
    },
    {
     "name": "stdout",
     "output_type": "stream",
     "text": [
      "[37] train loss: 0.009745 \n",
      "[37] \u001b[94mvalidate\u001b[0m loss: 0.009413\n",
      "Validation loss decreased (0.009952 --> 0.009745).  Saving model ...\n"
     ]
    },
    {
     "name": "stderr",
     "output_type": "stream",
     "text": [
      "  1%|▉                                                                                                                                | 38/5000 [02:12<4:45:00,  3.45s/it]"
     ]
    },
    {
     "name": "stdout",
     "output_type": "stream",
     "text": [
      "[38] train loss: 0.010275 \n",
      "[38] \u001b[94mvalidate\u001b[0m loss: 0.014283\n",
      "EarlyStopping counter: 1 out of 40\n"
     ]
    },
    {
     "name": "stderr",
     "output_type": "stream",
     "text": [
      "  1%|█                                                                                                                                | 39/5000 [02:15<4:46:31,  3.47s/it]"
     ]
    },
    {
     "name": "stdout",
     "output_type": "stream",
     "text": [
      "[39] train loss: 0.009774 \n",
      "[39] \u001b[94mvalidate\u001b[0m loss: 0.010344\n",
      "EarlyStopping counter: 2 out of 40\n"
     ]
    },
    {
     "name": "stderr",
     "output_type": "stream",
     "text": [
      "  1%|█                                                                                                                                | 40/5000 [02:19<4:46:34,  3.47s/it]"
     ]
    },
    {
     "name": "stdout",
     "output_type": "stream",
     "text": [
      "[40] train loss: 0.009946 \n",
      "[40] \u001b[94mvalidate\u001b[0m loss: 0.009729\n",
      "EarlyStopping counter: 3 out of 40\n"
     ]
    },
    {
     "name": "stderr",
     "output_type": "stream",
     "text": [
      "  1%|█                                                                                                                                | 41/5000 [02:22<4:49:08,  3.50s/it]"
     ]
    },
    {
     "name": "stdout",
     "output_type": "stream",
     "text": [
      "[41] train loss: 0.009827 \n",
      "[41] \u001b[94mvalidate\u001b[0m loss: 0.012733\n",
      "EarlyStopping counter: 4 out of 40\n"
     ]
    },
    {
     "name": "stderr",
     "output_type": "stream",
     "text": [
      "  1%|█                                                                                                                                | 42/5000 [02:26<4:53:29,  3.55s/it]"
     ]
    },
    {
     "name": "stdout",
     "output_type": "stream",
     "text": [
      "[42] train loss: 0.009638 \n",
      "[42] \u001b[94mvalidate\u001b[0m loss: 0.009160\n",
      "Validation loss decreased (0.009745 --> 0.009638).  Saving model ...\n"
     ]
    },
    {
     "name": "stderr",
     "output_type": "stream",
     "text": [
      "  1%|█                                                                                                                                | 43/5000 [02:29<4:52:40,  3.54s/it]"
     ]
    },
    {
     "name": "stdout",
     "output_type": "stream",
     "text": [
      "[43] train loss: 0.009811 \n",
      "[43] \u001b[94mvalidate\u001b[0m loss: 0.012106\n",
      "EarlyStopping counter: 1 out of 40\n"
     ]
    },
    {
     "name": "stderr",
     "output_type": "stream",
     "text": [
      "  1%|█▏                                                                                                                               | 44/5000 [02:33<4:52:39,  3.54s/it]"
     ]
    },
    {
     "name": "stdout",
     "output_type": "stream",
     "text": [
      "[44] train loss: 0.009570 \n",
      "[44] \u001b[94mvalidate\u001b[0m loss: 0.008995\n",
      "Validation loss decreased (0.009638 --> 0.009570).  Saving model ...\n"
     ]
    },
    {
     "name": "stderr",
     "output_type": "stream",
     "text": [
      "  1%|█▏                                                                                                                               | 45/5000 [02:37<4:52:25,  3.54s/it]"
     ]
    },
    {
     "name": "stdout",
     "output_type": "stream",
     "text": [
      "[45] train loss: 0.009551 \n",
      "[45] \u001b[94mvalidate\u001b[0m loss: 0.010555\n",
      "Validation loss decreased (0.009570 --> 0.009551).  Saving model ...\n"
     ]
    },
    {
     "name": "stderr",
     "output_type": "stream",
     "text": [
      "  1%|█▏                                                                                                                               | 46/5000 [02:40<4:55:26,  3.58s/it]"
     ]
    },
    {
     "name": "stdout",
     "output_type": "stream",
     "text": [
      "[46] train loss: 0.009662 \n",
      "[46] \u001b[94mvalidate\u001b[0m loss: 0.011046\n",
      "EarlyStopping counter: 1 out of 40\n"
     ]
    },
    {
     "name": "stderr",
     "output_type": "stream",
     "text": [
      "  1%|█▏                                                                                                                               | 47/5000 [02:44<4:52:30,  3.54s/it]"
     ]
    },
    {
     "name": "stdout",
     "output_type": "stream",
     "text": [
      "[47] train loss: 0.006926 \n",
      "[47] \u001b[94mvalidate\u001b[0m loss: 0.007094\n",
      "Validation loss decreased (0.009551 --> 0.006926).  Saving model ...\n"
     ]
    },
    {
     "name": "stderr",
     "output_type": "stream",
     "text": [
      "  1%|█▏                                                                                                                               | 48/5000 [02:47<4:58:05,  3.61s/it]"
     ]
    },
    {
     "name": "stdout",
     "output_type": "stream",
     "text": [
      "[48] train loss: 0.006643 \n",
      "[48] \u001b[94mvalidate\u001b[0m loss: 0.006852\n",
      "Validation loss decreased (0.006926 --> 0.006643).  Saving model ...\n"
     ]
    },
    {
     "name": "stderr",
     "output_type": "stream",
     "text": [
      "  1%|█▎                                                                                                                               | 49/5000 [02:51<4:54:09,  3.56s/it]"
     ]
    },
    {
     "name": "stdout",
     "output_type": "stream",
     "text": [
      "[49] train loss: 0.006531 \n",
      "[49] \u001b[94mvalidate\u001b[0m loss: 0.007345\n",
      "Validation loss decreased (0.006643 --> 0.006531).  Saving model ...\n"
     ]
    },
    {
     "name": "stderr",
     "output_type": "stream",
     "text": [
      "  1%|█▎                                                                                                                               | 50/5000 [02:54<4:38:32,  3.38s/it]"
     ]
    },
    {
     "name": "stdout",
     "output_type": "stream",
     "text": [
      "[50] train loss: 0.006435 \n",
      "[50] \u001b[94mvalidate\u001b[0m loss: 0.006907\n",
      "Validation loss decreased (0.006531 --> 0.006435).  Saving model ...\n"
     ]
    },
    {
     "name": "stderr",
     "output_type": "stream",
     "text": [
      "  1%|█▎                                                                                                                               | 51/5000 [02:57<4:32:08,  3.30s/it]"
     ]
    },
    {
     "name": "stdout",
     "output_type": "stream",
     "text": [
      "[51] train loss: 0.006379 \n",
      "[51] \u001b[94mvalidate\u001b[0m loss: 0.007258\n",
      "Validation loss decreased (0.006435 --> 0.006379).  Saving model ...\n"
     ]
    },
    {
     "name": "stderr",
     "output_type": "stream",
     "text": [
      "  1%|█▎                                                                                                                               | 52/5000 [03:01<4:45:49,  3.47s/it]"
     ]
    },
    {
     "name": "stdout",
     "output_type": "stream",
     "text": [
      "[52] train loss: 0.006330 \n",
      "[52] \u001b[94mvalidate\u001b[0m loss: 0.006447\n",
      "Validation loss decreased (0.006379 --> 0.006330).  Saving model ...\n"
     ]
    },
    {
     "name": "stderr",
     "output_type": "stream",
     "text": [
      "  1%|█▎                                                                                                                               | 53/5000 [03:04<4:48:45,  3.50s/it]"
     ]
    },
    {
     "name": "stdout",
     "output_type": "stream",
     "text": [
      "[53] train loss: 0.006291 \n",
      "[53] \u001b[94mvalidate\u001b[0m loss: 0.006314\n",
      "Validation loss decreased (0.006330 --> 0.006291).  Saving model ...\n"
     ]
    },
    {
     "name": "stderr",
     "output_type": "stream",
     "text": [
      "  1%|█▍                                                                                                                               | 54/5000 [03:08<4:52:05,  3.54s/it]"
     ]
    },
    {
     "name": "stdout",
     "output_type": "stream",
     "text": [
      "[54] train loss: 0.006228 \n",
      "[54] \u001b[94mvalidate\u001b[0m loss: 0.006211\n",
      "Validation loss decreased (0.006291 --> 0.006228).  Saving model ...\n"
     ]
    },
    {
     "name": "stderr",
     "output_type": "stream",
     "text": [
      "  1%|█▍                                                                                                                               | 55/5000 [03:12<4:55:46,  3.59s/it]"
     ]
    },
    {
     "name": "stdout",
     "output_type": "stream",
     "text": [
      "[55] train loss: 0.006291 \n",
      "[55] \u001b[94mvalidate\u001b[0m loss: 0.006267\n",
      "EarlyStopping counter: 1 out of 40\n"
     ]
    },
    {
     "name": "stderr",
     "output_type": "stream",
     "text": [
      "  1%|█▍                                                                                                                               | 56/5000 [03:15<4:56:11,  3.59s/it]"
     ]
    },
    {
     "name": "stdout",
     "output_type": "stream",
     "text": [
      "[56] train loss: 0.006148 \n",
      "[56] \u001b[94mvalidate\u001b[0m loss: 0.006572\n",
      "Validation loss decreased (0.006228 --> 0.006148).  Saving model ...\n"
     ]
    },
    {
     "name": "stderr",
     "output_type": "stream",
     "text": [
      "  1%|█▍                                                                                                                               | 57/5000 [03:19<4:56:31,  3.60s/it]"
     ]
    },
    {
     "name": "stdout",
     "output_type": "stream",
     "text": [
      "[57] train loss: 0.006160 \n",
      "[57] \u001b[94mvalidate\u001b[0m loss: 0.006346\n",
      "EarlyStopping counter: 1 out of 40\n"
     ]
    },
    {
     "name": "stderr",
     "output_type": "stream",
     "text": [
      "  1%|█▍                                                                                                                               | 58/5000 [03:22<4:50:03,  3.52s/it]"
     ]
    },
    {
     "name": "stdout",
     "output_type": "stream",
     "text": [
      "[58] train loss: 0.006155 \n",
      "[58] \u001b[94mvalidate\u001b[0m loss: 0.006554\n",
      "EarlyStopping counter: 2 out of 40\n"
     ]
    },
    {
     "name": "stderr",
     "output_type": "stream",
     "text": [
      "  1%|█▌                                                                                                                               | 59/5000 [03:26<4:51:50,  3.54s/it]"
     ]
    },
    {
     "name": "stdout",
     "output_type": "stream",
     "text": [
      "[59] train loss: 0.006118 \n",
      "[59] \u001b[94mvalidate\u001b[0m loss: 0.006503\n",
      "Validation loss decreased (0.006148 --> 0.006118).  Saving model ...\n"
     ]
    },
    {
     "name": "stderr",
     "output_type": "stream",
     "text": [
      "  1%|█▌                                                                                                                               | 60/5000 [03:29<4:52:29,  3.55s/it]"
     ]
    },
    {
     "name": "stdout",
     "output_type": "stream",
     "text": [
      "[60] train loss: 0.006062 \n",
      "[60] \u001b[94mvalidate\u001b[0m loss: 0.007225\n",
      "Validation loss decreased (0.006118 --> 0.006062).  Saving model ...\n"
     ]
    },
    {
     "name": "stderr",
     "output_type": "stream",
     "text": [
      "  1%|█▌                                                                                                                               | 61/5000 [03:33<4:51:35,  3.54s/it]"
     ]
    },
    {
     "name": "stdout",
     "output_type": "stream",
     "text": [
      "[61] train loss: 0.006034 \n",
      "[61] \u001b[94mvalidate\u001b[0m loss: 0.006690\n",
      "Validation loss decreased (0.006062 --> 0.006034).  Saving model ...\n"
     ]
    },
    {
     "name": "stderr",
     "output_type": "stream",
     "text": [
      "  1%|█▌                                                                                                                               | 62/5000 [03:37<4:51:52,  3.55s/it]"
     ]
    },
    {
     "name": "stdout",
     "output_type": "stream",
     "text": [
      "[62] train loss: 0.006065 \n",
      "[62] \u001b[94mvalidate\u001b[0m loss: 0.006603\n",
      "EarlyStopping counter: 1 out of 40\n"
     ]
    },
    {
     "name": "stderr",
     "output_type": "stream",
     "text": [
      "  1%|█▋                                                                                                                               | 63/5000 [03:40<4:51:29,  3.54s/it]"
     ]
    },
    {
     "name": "stdout",
     "output_type": "stream",
     "text": [
      "[63] train loss: 0.006046 \n",
      "[63] \u001b[94mvalidate\u001b[0m loss: 0.006630\n",
      "EarlyStopping counter: 2 out of 40\n"
     ]
    },
    {
     "name": "stderr",
     "output_type": "stream",
     "text": [
      "  1%|█▋                                                                                                                               | 64/5000 [03:44<4:57:31,  3.62s/it]"
     ]
    },
    {
     "name": "stdout",
     "output_type": "stream",
     "text": [
      "[64] train loss: 0.005942 \n",
      "[64] \u001b[94mvalidate\u001b[0m loss: 0.006386\n",
      "Validation loss decreased (0.006034 --> 0.005942).  Saving model ...\n"
     ]
    },
    {
     "name": "stderr",
     "output_type": "stream",
     "text": [
      "  1%|█▋                                                                                                                               | 65/5000 [03:47<4:55:40,  3.59s/it]"
     ]
    },
    {
     "name": "stdout",
     "output_type": "stream",
     "text": [
      "[65] train loss: 0.005908 \n",
      "[65] \u001b[94mvalidate\u001b[0m loss: 0.006173\n",
      "Validation loss decreased (0.005942 --> 0.005908).  Saving model ...\n"
     ]
    },
    {
     "name": "stderr",
     "output_type": "stream",
     "text": [
      "  1%|█▋                                                                                                                               | 66/5000 [03:51<4:54:44,  3.58s/it]"
     ]
    },
    {
     "name": "stdout",
     "output_type": "stream",
     "text": [
      "[66] train loss: 0.005931 \n",
      "[66] \u001b[94mvalidate\u001b[0m loss: 0.006247\n",
      "EarlyStopping counter: 1 out of 40\n"
     ]
    },
    {
     "name": "stderr",
     "output_type": "stream",
     "text": [
      "  1%|█▋                                                                                                                               | 67/5000 [03:54<4:45:15,  3.47s/it]"
     ]
    },
    {
     "name": "stdout",
     "output_type": "stream",
     "text": [
      "[67] train loss: 0.005873 \n",
      "[67] \u001b[94mvalidate\u001b[0m loss: 0.006313\n",
      "Validation loss decreased (0.005908 --> 0.005873).  Saving model ...\n"
     ]
    },
    {
     "name": "stderr",
     "output_type": "stream",
     "text": [
      "  1%|█▊                                                                                                                               | 68/5000 [03:58<4:47:54,  3.50s/it]"
     ]
    },
    {
     "name": "stdout",
     "output_type": "stream",
     "text": [
      "[68] train loss: 0.005849 \n",
      "[68] \u001b[94mvalidate\u001b[0m loss: 0.006345\n",
      "Validation loss decreased (0.005873 --> 0.005849).  Saving model ...\n"
     ]
    },
    {
     "name": "stderr",
     "output_type": "stream",
     "text": [
      "  1%|█▊                                                                                                                               | 69/5000 [04:01<4:50:41,  3.54s/it]"
     ]
    },
    {
     "name": "stdout",
     "output_type": "stream",
     "text": [
      "[69] train loss: 0.005855 \n",
      "[69] \u001b[94mvalidate\u001b[0m loss: 0.006046\n",
      "EarlyStopping counter: 1 out of 40\n"
     ]
    },
    {
     "name": "stderr",
     "output_type": "stream",
     "text": [
      "  1%|█▊                                                                                                                               | 70/5000 [04:04<4:24:05,  3.21s/it]"
     ]
    },
    {
     "name": "stdout",
     "output_type": "stream",
     "text": [
      "[70] train loss: 0.005954 \n",
      "[70] \u001b[94mvalidate\u001b[0m loss: 0.006278\n",
      "EarlyStopping counter: 2 out of 40\n"
     ]
    },
    {
     "name": "stderr",
     "output_type": "stream",
     "text": [
      "  1%|█▊                                                                                                                               | 71/5000 [04:07<4:32:14,  3.31s/it]"
     ]
    },
    {
     "name": "stdout",
     "output_type": "stream",
     "text": [
      "[71] train loss: 0.005844 \n",
      "[71] \u001b[94mvalidate\u001b[0m loss: 0.005865\n",
      "Validation loss decreased (0.005849 --> 0.005844).  Saving model ...\n"
     ]
    },
    {
     "name": "stderr",
     "output_type": "stream",
     "text": [
      "  1%|█▊                                                                                                                               | 72/5000 [04:11<4:40:04,  3.41s/it]"
     ]
    },
    {
     "name": "stdout",
     "output_type": "stream",
     "text": [
      "[72] train loss: 0.005899 \n",
      "[72] \u001b[94mvalidate\u001b[0m loss: 0.006093\n",
      "EarlyStopping counter: 1 out of 40\n"
     ]
    },
    {
     "name": "stderr",
     "output_type": "stream",
     "text": [
      "  1%|█▉                                                                                                                               | 73/5000 [04:15<4:42:27,  3.44s/it]"
     ]
    },
    {
     "name": "stdout",
     "output_type": "stream",
     "text": [
      "[73] train loss: 0.005852 \n",
      "[73] \u001b[94mvalidate\u001b[0m loss: 0.005956\n",
      "EarlyStopping counter: 2 out of 40\n"
     ]
    },
    {
     "name": "stderr",
     "output_type": "stream",
     "text": [
      "  1%|█▉                                                                                                                               | 74/5000 [04:18<4:47:39,  3.50s/it]"
     ]
    },
    {
     "name": "stdout",
     "output_type": "stream",
     "text": [
      "[74] train loss: 0.005792 \n",
      "[74] \u001b[94mvalidate\u001b[0m loss: 0.006339\n",
      "Validation loss decreased (0.005844 --> 0.005792).  Saving model ...\n"
     ]
    },
    {
     "name": "stderr",
     "output_type": "stream",
     "text": [
      "  2%|█▉                                                                                                                               | 75/5000 [04:22<4:46:54,  3.50s/it]"
     ]
    },
    {
     "name": "stdout",
     "output_type": "stream",
     "text": [
      "[75] train loss: 0.005802 \n",
      "[75] \u001b[94mvalidate\u001b[0m loss: 0.006091\n",
      "EarlyStopping counter: 1 out of 40\n"
     ]
    },
    {
     "name": "stderr",
     "output_type": "stream",
     "text": [
      "  2%|█▉                                                                                                                               | 76/5000 [04:25<4:50:28,  3.54s/it]"
     ]
    },
    {
     "name": "stdout",
     "output_type": "stream",
     "text": [
      "[76] train loss: 0.005735 \n",
      "[76] \u001b[94mvalidate\u001b[0m loss: 0.005866\n",
      "Validation loss decreased (0.005792 --> 0.005735).  Saving model ...\n"
     ]
    },
    {
     "name": "stderr",
     "output_type": "stream",
     "text": [
      "  2%|█▉                                                                                                                               | 77/5000 [04:29<4:47:38,  3.51s/it]"
     ]
    },
    {
     "name": "stdout",
     "output_type": "stream",
     "text": [
      "[77] train loss: 0.005751 \n",
      "[77] \u001b[94mvalidate\u001b[0m loss: 0.005932\n",
      "EarlyStopping counter: 1 out of 40\n"
     ]
    },
    {
     "name": "stderr",
     "output_type": "stream",
     "text": [
      "  2%|██                                                                                                                               | 78/5000 [04:32<4:48:21,  3.52s/it]"
     ]
    },
    {
     "name": "stdout",
     "output_type": "stream",
     "text": [
      "[78] train loss: 0.005715 \n",
      "[78] \u001b[94mvalidate\u001b[0m loss: 0.005985\n",
      "Validation loss decreased (0.005735 --> 0.005715).  Saving model ...\n"
     ]
    },
    {
     "name": "stderr",
     "output_type": "stream",
     "text": [
      "  2%|██                                                                                                                               | 79/5000 [04:36<4:49:34,  3.53s/it]"
     ]
    },
    {
     "name": "stdout",
     "output_type": "stream",
     "text": [
      "[79] train loss: 0.005776 \n",
      "[79] \u001b[94mvalidate\u001b[0m loss: 0.006146\n",
      "EarlyStopping counter: 1 out of 40\n"
     ]
    },
    {
     "name": "stderr",
     "output_type": "stream",
     "text": [
      "  2%|██                                                                                                                               | 80/5000 [04:39<4:48:54,  3.52s/it]"
     ]
    },
    {
     "name": "stdout",
     "output_type": "stream",
     "text": [
      "[80] train loss: 0.005710 \n",
      "[80] \u001b[94mvalidate\u001b[0m loss: 0.005791\n",
      "Validation loss decreased (0.005715 --> 0.005710).  Saving model ...\n"
     ]
    },
    {
     "name": "stderr",
     "output_type": "stream",
     "text": [
      "  2%|██                                                                                                                               | 81/5000 [04:43<4:52:15,  3.56s/it]"
     ]
    },
    {
     "name": "stdout",
     "output_type": "stream",
     "text": [
      "[81] train loss: 0.005843 \n",
      "[81] \u001b[94mvalidate\u001b[0m loss: 0.005951\n",
      "EarlyStopping counter: 1 out of 40\n"
     ]
    },
    {
     "name": "stderr",
     "output_type": "stream",
     "text": [
      "  2%|██                                                                                                                               | 82/5000 [04:47<4:52:56,  3.57s/it]"
     ]
    },
    {
     "name": "stdout",
     "output_type": "stream",
     "text": [
      "[82] train loss: 0.005702 \n",
      "[82] \u001b[94mvalidate\u001b[0m loss: 0.005837\n",
      "Validation loss decreased (0.005710 --> 0.005702).  Saving model ...\n"
     ]
    },
    {
     "name": "stderr",
     "output_type": "stream",
     "text": [
      "  2%|██▏                                                                                                                              | 83/5000 [04:49<4:23:21,  3.21s/it]"
     ]
    },
    {
     "name": "stdout",
     "output_type": "stream",
     "text": [
      "[83] train loss: 0.005693 \n",
      "[83] \u001b[94mvalidate\u001b[0m loss: 0.005853\n",
      "Validation loss decreased (0.005702 --> 0.005693).  Saving model ...\n"
     ]
    },
    {
     "name": "stderr",
     "output_type": "stream",
     "text": [
      "  2%|██▏                                                                                                                              | 84/5000 [04:53<4:32:20,  3.32s/it]"
     ]
    },
    {
     "name": "stdout",
     "output_type": "stream",
     "text": [
      "[84] train loss: 0.005722 \n",
      "[84] \u001b[94mvalidate\u001b[0m loss: 0.005988\n",
      "EarlyStopping counter: 1 out of 40\n"
     ]
    },
    {
     "name": "stderr",
     "output_type": "stream",
     "text": [
      "  2%|██▏                                                                                                                              | 85/5000 [04:56<4:39:20,  3.41s/it]"
     ]
    },
    {
     "name": "stdout",
     "output_type": "stream",
     "text": [
      "[85] train loss: 0.005697 \n",
      "[85] \u001b[94mvalidate\u001b[0m loss: 0.006332\n",
      "EarlyStopping counter: 2 out of 40\n"
     ]
    },
    {
     "name": "stderr",
     "output_type": "stream",
     "text": [
      "  2%|██▏                                                                                                                              | 86/5000 [05:00<4:47:29,  3.51s/it]"
     ]
    },
    {
     "name": "stdout",
     "output_type": "stream",
     "text": [
      "[86] train loss: 0.005658 \n",
      "[86] \u001b[94mvalidate\u001b[0m loss: 0.006075\n",
      "Validation loss decreased (0.005693 --> 0.005658).  Saving model ...\n"
     ]
    },
    {
     "name": "stderr",
     "output_type": "stream",
     "text": [
      "  2%|██▏                                                                                                                              | 87/5000 [05:04<4:50:16,  3.55s/it]"
     ]
    },
    {
     "name": "stdout",
     "output_type": "stream",
     "text": [
      "[87] train loss: 0.005629 \n",
      "[87] \u001b[94mvalidate\u001b[0m loss: 0.006102\n",
      "Validation loss decreased (0.005658 --> 0.005629).  Saving model ...\n"
     ]
    },
    {
     "name": "stderr",
     "output_type": "stream",
     "text": [
      "  2%|██▎                                                                                                                              | 88/5000 [05:07<4:53:18,  3.58s/it]"
     ]
    },
    {
     "name": "stdout",
     "output_type": "stream",
     "text": [
      "[88] train loss: 0.005661 \n",
      "[88] \u001b[94mvalidate\u001b[0m loss: 0.006013\n",
      "EarlyStopping counter: 1 out of 40\n"
     ]
    },
    {
     "name": "stderr",
     "output_type": "stream",
     "text": [
      "  2%|██▎                                                                                                                              | 89/5000 [05:11<4:53:24,  3.58s/it]"
     ]
    },
    {
     "name": "stdout",
     "output_type": "stream",
     "text": [
      "[89] train loss: 0.005653 \n",
      "[89] \u001b[94mvalidate\u001b[0m loss: 0.006057\n",
      "EarlyStopping counter: 2 out of 40\n"
     ]
    },
    {
     "name": "stderr",
     "output_type": "stream",
     "text": [
      "  2%|██▎                                                                                                                              | 90/5000 [05:14<4:31:41,  3.32s/it]"
     ]
    },
    {
     "name": "stdout",
     "output_type": "stream",
     "text": [
      "[90] train loss: 0.005689 \n",
      "[90] \u001b[94mvalidate\u001b[0m loss: 0.007360\n",
      "EarlyStopping counter: 3 out of 40\n"
     ]
    },
    {
     "name": "stderr",
     "output_type": "stream",
     "text": [
      "  2%|██▎                                                                                                                              | 91/5000 [05:17<4:37:53,  3.40s/it]"
     ]
    },
    {
     "name": "stdout",
     "output_type": "stream",
     "text": [
      "[91] train loss: 0.005634 \n",
      "[91] \u001b[94mvalidate\u001b[0m loss: 0.005983\n",
      "EarlyStopping counter: 4 out of 40\n"
     ]
    },
    {
     "name": "stderr",
     "output_type": "stream",
     "text": [
      "  2%|██▎                                                                                                                              | 92/5000 [05:20<4:37:00,  3.39s/it]"
     ]
    },
    {
     "name": "stdout",
     "output_type": "stream",
     "text": [
      "[92] train loss: 0.004985 \n",
      "[92] \u001b[94mvalidate\u001b[0m loss: 0.005610\n",
      "Validation loss decreased (0.005629 --> 0.004985).  Saving model ...\n"
     ]
    },
    {
     "name": "stderr",
     "output_type": "stream",
     "text": [
      "  2%|██▍                                                                                                                              | 93/5000 [05:24<4:39:27,  3.42s/it]"
     ]
    },
    {
     "name": "stdout",
     "output_type": "stream",
     "text": [
      "[93] train loss: 0.004930 \n",
      "[93] \u001b[94mvalidate\u001b[0m loss: 0.005899\n",
      "Validation loss decreased (0.004985 --> 0.004930).  Saving model ...\n"
     ]
    },
    {
     "name": "stderr",
     "output_type": "stream",
     "text": [
      "  2%|██▍                                                                                                                              | 94/5000 [05:28<4:46:08,  3.50s/it]"
     ]
    },
    {
     "name": "stdout",
     "output_type": "stream",
     "text": [
      "[94] train loss: 0.004901 \n",
      "[94] \u001b[94mvalidate\u001b[0m loss: 0.005526\n",
      "Validation loss decreased (0.004930 --> 0.004901).  Saving model ...\n"
     ]
    },
    {
     "name": "stderr",
     "output_type": "stream",
     "text": [
      "  2%|██▍                                                                                                                              | 95/5000 [05:31<4:43:48,  3.47s/it]"
     ]
    },
    {
     "name": "stdout",
     "output_type": "stream",
     "text": [
      "[95] train loss: 0.004889 \n",
      "[95] \u001b[94mvalidate\u001b[0m loss: 0.005519\n",
      "Validation loss decreased (0.004901 --> 0.004889).  Saving model ...\n"
     ]
    },
    {
     "name": "stderr",
     "output_type": "stream",
     "text": [
      "  2%|██▍                                                                                                                              | 96/5000 [05:35<4:49:50,  3.55s/it]"
     ]
    },
    {
     "name": "stdout",
     "output_type": "stream",
     "text": [
      "[96] train loss: 0.004884 \n",
      "[96] \u001b[94mvalidate\u001b[0m loss: 0.005609\n",
      "Validation loss decreased (0.004889 --> 0.004884).  Saving model ...\n"
     ]
    },
    {
     "name": "stderr",
     "output_type": "stream",
     "text": [
      "  2%|██▌                                                                                                                              | 97/5000 [05:38<4:54:42,  3.61s/it]"
     ]
    },
    {
     "name": "stdout",
     "output_type": "stream",
     "text": [
      "[97] train loss: 0.004865 \n",
      "[97] \u001b[94mvalidate\u001b[0m loss: 0.005541\n",
      "Validation loss decreased (0.004884 --> 0.004865).  Saving model ...\n"
     ]
    },
    {
     "name": "stderr",
     "output_type": "stream",
     "text": [
      "  2%|██▌                                                                                                                              | 98/5000 [05:41<4:21:24,  3.20s/it]"
     ]
    },
    {
     "name": "stdout",
     "output_type": "stream",
     "text": [
      "[98] train loss: 0.004854 \n",
      "[98] \u001b[94mvalidate\u001b[0m loss: 0.005567\n",
      "Validation loss decreased (0.004865 --> 0.004854).  Saving model ...\n"
     ]
    },
    {
     "name": "stderr",
     "output_type": "stream",
     "text": [
      "  2%|██▌                                                                                                                              | 99/5000 [05:44<4:30:56,  3.32s/it]"
     ]
    },
    {
     "name": "stdout",
     "output_type": "stream",
     "text": [
      "[99] train loss: 0.004855 \n",
      "[99] \u001b[94mvalidate\u001b[0m loss: 0.005501\n",
      "EarlyStopping counter: 1 out of 40\n"
     ]
    },
    {
     "name": "stderr",
     "output_type": "stream",
     "text": [
      "  2%|██▌                                                                                                                             | 100/5000 [05:47<4:05:15,  3.00s/it]"
     ]
    },
    {
     "name": "stdout",
     "output_type": "stream",
     "text": [
      "[100] train loss: 0.004840 \n",
      "[100] \u001b[94mvalidate\u001b[0m loss: 0.005429\n",
      "Validation loss decreased (0.004854 --> 0.004840).  Saving model ...\n"
     ]
    },
    {
     "name": "stderr",
     "output_type": "stream",
     "text": [
      "  2%|██▌                                                                                                                             | 101/5000 [05:50<4:19:19,  3.18s/it]"
     ]
    },
    {
     "name": "stdout",
     "output_type": "stream",
     "text": [
      "[101] train loss: 0.004839 \n",
      "[101] \u001b[94mvalidate\u001b[0m loss: 0.005526\n",
      "Validation loss decreased (0.004840 --> 0.004839).  Saving model ...\n"
     ]
    },
    {
     "name": "stderr",
     "output_type": "stream",
     "text": [
      "  2%|██▌                                                                                                                             | 102/5000 [05:54<4:23:35,  3.23s/it]"
     ]
    },
    {
     "name": "stdout",
     "output_type": "stream",
     "text": [
      "[102] train loss: 0.004840 \n",
      "[102] \u001b[94mvalidate\u001b[0m loss: 0.005463\n",
      "EarlyStopping counter: 1 out of 40\n"
     ]
    },
    {
     "name": "stderr",
     "output_type": "stream",
     "text": [
      "  2%|██▋                                                                                                                             | 103/5000 [05:57<4:34:28,  3.36s/it]"
     ]
    },
    {
     "name": "stdout",
     "output_type": "stream",
     "text": [
      "[103] train loss: 0.004821 \n",
      "[103] \u001b[94mvalidate\u001b[0m loss: 0.005470\n",
      "Validation loss decreased (0.004839 --> 0.004821).  Saving model ...\n"
     ]
    },
    {
     "name": "stderr",
     "output_type": "stream",
     "text": [
      "  2%|██▋                                                                                                                             | 104/5000 [06:01<4:40:20,  3.44s/it]"
     ]
    },
    {
     "name": "stdout",
     "output_type": "stream",
     "text": [
      "[104] train loss: 0.004823 \n",
      "[104] \u001b[94mvalidate\u001b[0m loss: 0.005427\n",
      "EarlyStopping counter: 1 out of 40\n"
     ]
    },
    {
     "name": "stderr",
     "output_type": "stream",
     "text": [
      "  2%|██▋                                                                                                                             | 105/5000 [06:04<4:44:40,  3.49s/it]"
     ]
    },
    {
     "name": "stdout",
     "output_type": "stream",
     "text": [
      "[105] train loss: 0.004812 \n",
      "[105] \u001b[94mvalidate\u001b[0m loss: 0.005568\n",
      "Validation loss decreased (0.004821 --> 0.004812).  Saving model ...\n"
     ]
    },
    {
     "name": "stderr",
     "output_type": "stream",
     "text": [
      "  2%|██▋                                                                                                                             | 106/5000 [06:08<4:49:24,  3.55s/it]"
     ]
    },
    {
     "name": "stdout",
     "output_type": "stream",
     "text": [
      "[106] train loss: 0.004807 \n",
      "[106] \u001b[94mvalidate\u001b[0m loss: 0.005417\n",
      "Validation loss decreased (0.004812 --> 0.004807).  Saving model ...\n"
     ]
    },
    {
     "name": "stderr",
     "output_type": "stream",
     "text": [
      "  2%|██▋                                                                                                                             | 107/5000 [06:12<4:50:12,  3.56s/it]"
     ]
    },
    {
     "name": "stdout",
     "output_type": "stream",
     "text": [
      "[107] train loss: 0.004790 \n",
      "[107] \u001b[94mvalidate\u001b[0m loss: 0.005582\n",
      "Validation loss decreased (0.004807 --> 0.004790).  Saving model ...\n"
     ]
    },
    {
     "name": "stderr",
     "output_type": "stream",
     "text": [
      "  2%|██▊                                                                                                                             | 108/5000 [06:15<4:48:14,  3.54s/it]"
     ]
    },
    {
     "name": "stdout",
     "output_type": "stream",
     "text": [
      "[108] train loss: 0.004790 \n",
      "[108] \u001b[94mvalidate\u001b[0m loss: 0.005515\n",
      "Validation loss decreased (0.004790 --> 0.004790).  Saving model ...\n"
     ]
    },
    {
     "name": "stderr",
     "output_type": "stream",
     "text": [
      "  2%|██▊                                                                                                                             | 109/5000 [06:19<4:48:38,  3.54s/it]"
     ]
    },
    {
     "name": "stdout",
     "output_type": "stream",
     "text": [
      "[109] train loss: 0.004786 \n",
      "[109] \u001b[94mvalidate\u001b[0m loss: 0.005550\n",
      "Validation loss decreased (0.004790 --> 0.004786).  Saving model ...\n"
     ]
    },
    {
     "name": "stderr",
     "output_type": "stream",
     "text": [
      "  2%|██▊                                                                                                                             | 110/5000 [06:22<4:46:55,  3.52s/it]"
     ]
    },
    {
     "name": "stdout",
     "output_type": "stream",
     "text": [
      "[110] train loss: 0.004797 \n",
      "[110] \u001b[94mvalidate\u001b[0m loss: 0.005430\n",
      "EarlyStopping counter: 1 out of 40\n"
     ]
    },
    {
     "name": "stderr",
     "output_type": "stream",
     "text": [
      "  2%|██▊                                                                                                                             | 111/5000 [06:25<4:29:08,  3.30s/it]"
     ]
    },
    {
     "name": "stdout",
     "output_type": "stream",
     "text": [
      "[111] train loss: 0.004774 \n",
      "[111] \u001b[94mvalidate\u001b[0m loss: 0.005484\n",
      "Validation loss decreased (0.004786 --> 0.004774).  Saving model ...\n"
     ]
    },
    {
     "name": "stderr",
     "output_type": "stream",
     "text": [
      "  2%|██▊                                                                                                                             | 112/5000 [06:27<4:03:58,  2.99s/it]"
     ]
    },
    {
     "name": "stdout",
     "output_type": "stream",
     "text": [
      "[112] train loss: 0.004775 \n",
      "[112] \u001b[94mvalidate\u001b[0m loss: 0.005425\n",
      "EarlyStopping counter: 1 out of 40\n"
     ]
    },
    {
     "name": "stderr",
     "output_type": "stream",
     "text": [
      "  2%|██▉                                                                                                                             | 113/5000 [06:31<4:22:10,  3.22s/it]"
     ]
    },
    {
     "name": "stdout",
     "output_type": "stream",
     "text": [
      "[113] train loss: 0.004786 \n",
      "[113] \u001b[94mvalidate\u001b[0m loss: 0.005546\n",
      "EarlyStopping counter: 2 out of 40\n"
     ]
    },
    {
     "name": "stderr",
     "output_type": "stream",
     "text": [
      "  2%|██▉                                                                                                                             | 114/5000 [06:35<4:28:48,  3.30s/it]"
     ]
    },
    {
     "name": "stdout",
     "output_type": "stream",
     "text": [
      "[114] train loss: 0.004767 \n",
      "[114] \u001b[94mvalidate\u001b[0m loss: 0.005359\n",
      "Validation loss decreased (0.004774 --> 0.004767).  Saving model ...\n"
     ]
    },
    {
     "name": "stderr",
     "output_type": "stream",
     "text": [
      "  2%|██▉                                                                                                                             | 115/5000 [06:38<4:32:00,  3.34s/it]"
     ]
    },
    {
     "name": "stdout",
     "output_type": "stream",
     "text": [
      "[115] train loss: 0.004772 \n",
      "[115] \u001b[94mvalidate\u001b[0m loss: 0.005622\n",
      "EarlyStopping counter: 1 out of 40\n"
     ]
    },
    {
     "name": "stderr",
     "output_type": "stream",
     "text": [
      "  2%|██▉                                                                                                                             | 116/5000 [06:41<4:35:03,  3.38s/it]"
     ]
    },
    {
     "name": "stdout",
     "output_type": "stream",
     "text": [
      "[116] train loss: 0.004774 \n",
      "[116] \u001b[94mvalidate\u001b[0m loss: 0.005380\n",
      "EarlyStopping counter: 2 out of 40\n"
     ]
    },
    {
     "name": "stderr",
     "output_type": "stream",
     "text": [
      "  2%|██▉                                                                                                                             | 117/5000 [06:45<4:36:04,  3.39s/it]"
     ]
    },
    {
     "name": "stdout",
     "output_type": "stream",
     "text": [
      "[117] train loss: 0.004752 \n",
      "[117] \u001b[94mvalidate\u001b[0m loss: 0.005447\n",
      "Validation loss decreased (0.004767 --> 0.004752).  Saving model ...\n"
     ]
    },
    {
     "name": "stderr",
     "output_type": "stream",
     "text": [
      "  2%|███                                                                                                                             | 118/5000 [06:48<4:39:48,  3.44s/it]"
     ]
    },
    {
     "name": "stdout",
     "output_type": "stream",
     "text": [
      "[118] train loss: 0.004757 \n",
      "[118] \u001b[94mvalidate\u001b[0m loss: 0.005483\n",
      "EarlyStopping counter: 1 out of 40\n"
     ]
    },
    {
     "name": "stderr",
     "output_type": "stream",
     "text": [
      "  2%|███                                                                                                                             | 119/5000 [06:52<4:40:16,  3.45s/it]"
     ]
    },
    {
     "name": "stdout",
     "output_type": "stream",
     "text": [
      "[119] train loss: 0.004767 \n",
      "[119] \u001b[94mvalidate\u001b[0m loss: 0.005422\n",
      "EarlyStopping counter: 2 out of 40\n"
     ]
    },
    {
     "name": "stderr",
     "output_type": "stream",
     "text": [
      "  2%|███                                                                                                                             | 120/5000 [06:55<4:43:46,  3.49s/it]"
     ]
    },
    {
     "name": "stdout",
     "output_type": "stream",
     "text": [
      "[120] train loss: 0.004749 \n",
      "[120] \u001b[94mvalidate\u001b[0m loss: 0.005412\n",
      "Validation loss decreased (0.004752 --> 0.004749).  Saving model ...\n"
     ]
    },
    {
     "name": "stderr",
     "output_type": "stream",
     "text": [
      "  2%|███                                                                                                                             | 121/5000 [06:59<4:43:46,  3.49s/it]"
     ]
    },
    {
     "name": "stdout",
     "output_type": "stream",
     "text": [
      "[121] train loss: 0.004733 \n",
      "[121] \u001b[94mvalidate\u001b[0m loss: 0.005377\n",
      "Validation loss decreased (0.004749 --> 0.004733).  Saving model ...\n"
     ]
    },
    {
     "name": "stderr",
     "output_type": "stream",
     "text": [
      "  2%|███                                                                                                                             | 122/5000 [07:03<4:48:17,  3.55s/it]"
     ]
    },
    {
     "name": "stdout",
     "output_type": "stream",
     "text": [
      "[122] train loss: 0.004747 \n",
      "[122] \u001b[94mvalidate\u001b[0m loss: 0.005430\n",
      "EarlyStopping counter: 1 out of 40\n"
     ]
    },
    {
     "name": "stderr",
     "output_type": "stream",
     "text": [
      "  2%|███▏                                                                                                                            | 123/5000 [07:06<4:49:51,  3.57s/it]"
     ]
    },
    {
     "name": "stdout",
     "output_type": "stream",
     "text": [
      "[123] train loss: 0.004735 \n",
      "[123] \u001b[94mvalidate\u001b[0m loss: 0.005590\n",
      "EarlyStopping counter: 2 out of 40\n"
     ]
    },
    {
     "name": "stderr",
     "output_type": "stream",
     "text": [
      "  2%|███▏                                                                                                                            | 124/5000 [07:10<4:47:12,  3.53s/it]"
     ]
    },
    {
     "name": "stdout",
     "output_type": "stream",
     "text": [
      "[124] train loss: 0.004730 \n",
      "[124] \u001b[94mvalidate\u001b[0m loss: 0.005382\n",
      "Validation loss decreased (0.004733 --> 0.004730).  Saving model ...\n"
     ]
    },
    {
     "name": "stderr",
     "output_type": "stream",
     "text": [
      "  2%|███▏                                                                                                                            | 125/5000 [07:13<4:51:03,  3.58s/it]"
     ]
    },
    {
     "name": "stdout",
     "output_type": "stream",
     "text": [
      "[125] train loss: 0.004746 \n",
      "[125] \u001b[94mvalidate\u001b[0m loss: 0.005341\n",
      "EarlyStopping counter: 1 out of 40\n"
     ]
    },
    {
     "name": "stderr",
     "output_type": "stream",
     "text": [
      "  3%|███▏                                                                                                                            | 126/5000 [07:17<4:52:36,  3.60s/it]"
     ]
    },
    {
     "name": "stdout",
     "output_type": "stream",
     "text": [
      "[126] train loss: 0.004728 \n",
      "[126] \u001b[94mvalidate\u001b[0m loss: 0.005438\n",
      "Validation loss decreased (0.004730 --> 0.004728).  Saving model ...\n"
     ]
    },
    {
     "name": "stderr",
     "output_type": "stream",
     "text": [
      "  3%|███▎                                                                                                                            | 127/5000 [07:21<4:50:56,  3.58s/it]"
     ]
    },
    {
     "name": "stdout",
     "output_type": "stream",
     "text": [
      "[127] train loss: 0.004728 \n",
      "[127] \u001b[94mvalidate\u001b[0m loss: 0.005390\n",
      "EarlyStopping counter: 1 out of 40\n"
     ]
    },
    {
     "name": "stderr",
     "output_type": "stream",
     "text": [
      "  3%|███▎                                                                                                                            | 128/5000 [07:24<4:58:55,  3.68s/it]"
     ]
    },
    {
     "name": "stdout",
     "output_type": "stream",
     "text": [
      "[128] train loss: 0.004704 \n",
      "[128] \u001b[94mvalidate\u001b[0m loss: 0.005345\n",
      "Validation loss decreased (0.004728 --> 0.004704).  Saving model ...\n"
     ]
    },
    {
     "name": "stderr",
     "output_type": "stream",
     "text": [
      "  3%|███▎                                                                                                                            | 129/5000 [07:28<4:59:15,  3.69s/it]"
     ]
    },
    {
     "name": "stdout",
     "output_type": "stream",
     "text": [
      "[129] train loss: 0.004711 \n",
      "[129] \u001b[94mvalidate\u001b[0m loss: 0.005404\n",
      "EarlyStopping counter: 1 out of 40\n"
     ]
    },
    {
     "name": "stderr",
     "output_type": "stream",
     "text": [
      "  3%|███▎                                                                                                                            | 130/5000 [07:31<4:27:45,  3.30s/it]"
     ]
    },
    {
     "name": "stdout",
     "output_type": "stream",
     "text": [
      "[130] train loss: 0.004724 \n",
      "[130] \u001b[94mvalidate\u001b[0m loss: 0.005441\n",
      "EarlyStopping counter: 2 out of 40\n"
     ]
    },
    {
     "name": "stderr",
     "output_type": "stream",
     "text": [
      "  3%|███▎                                                                                                                            | 131/5000 [07:33<4:15:58,  3.15s/it]"
     ]
    },
    {
     "name": "stdout",
     "output_type": "stream",
     "text": [
      "[131] train loss: 0.004723 \n",
      "[131] \u001b[94mvalidate\u001b[0m loss: 0.005335\n",
      "EarlyStopping counter: 3 out of 40\n"
     ]
    },
    {
     "name": "stderr",
     "output_type": "stream",
     "text": [
      "  3%|███▍                                                                                                                            | 132/5000 [07:37<4:26:02,  3.28s/it]"
     ]
    },
    {
     "name": "stdout",
     "output_type": "stream",
     "text": [
      "[132] train loss: 0.004711 \n",
      "[132] \u001b[94mvalidate\u001b[0m loss: 0.005466\n",
      "EarlyStopping counter: 4 out of 40\n"
     ]
    },
    {
     "name": "stderr",
     "output_type": "stream",
     "text": [
      "  3%|███▍                                                                                                                            | 133/5000 [07:40<4:28:57,  3.32s/it]"
     ]
    },
    {
     "name": "stdout",
     "output_type": "stream",
     "text": [
      "[133] train loss: 0.004705 \n",
      "[133] \u001b[94mvalidate\u001b[0m loss: 0.005407\n",
      "EarlyStopping counter: 5 out of 40\n"
     ]
    },
    {
     "name": "stderr",
     "output_type": "stream",
     "text": [
      "  3%|███▍                                                                                                                            | 134/5000 [07:44<4:28:31,  3.31s/it]"
     ]
    },
    {
     "name": "stdout",
     "output_type": "stream",
     "text": [
      "[134] train loss: 0.004713 \n",
      "[134] \u001b[94mvalidate\u001b[0m loss: 0.005350\n",
      "EarlyStopping counter: 6 out of 40\n"
     ]
    },
    {
     "name": "stderr",
     "output_type": "stream",
     "text": [
      "  3%|███▍                                                                                                                            | 135/5000 [07:47<4:35:57,  3.40s/it]"
     ]
    },
    {
     "name": "stdout",
     "output_type": "stream",
     "text": [
      "[135] train loss: 0.004684 \n",
      "[135] \u001b[94mvalidate\u001b[0m loss: 0.005467\n",
      "Validation loss decreased (0.004704 --> 0.004684).  Saving model ...\n"
     ]
    },
    {
     "name": "stderr",
     "output_type": "stream",
     "text": [
      "  3%|███▍                                                                                                                            | 136/5000 [07:51<4:41:16,  3.47s/it]"
     ]
    },
    {
     "name": "stdout",
     "output_type": "stream",
     "text": [
      "[136] train loss: 0.004705 \n",
      "[136] \u001b[94mvalidate\u001b[0m loss: 0.005547\n",
      "EarlyStopping counter: 1 out of 40\n"
     ]
    },
    {
     "name": "stderr",
     "output_type": "stream",
     "text": [
      "  3%|███▌                                                                                                                            | 137/5000 [07:54<4:33:38,  3.38s/it]"
     ]
    },
    {
     "name": "stdout",
     "output_type": "stream",
     "text": [
      "[137] train loss: 0.004678 \n",
      "[137] \u001b[94mvalidate\u001b[0m loss: 0.005457\n",
      "Validation loss decreased (0.004684 --> 0.004678).  Saving model ...\n"
     ]
    },
    {
     "name": "stderr",
     "output_type": "stream",
     "text": [
      "  3%|███▌                                                                                                                            | 138/5000 [07:58<4:39:09,  3.44s/it]"
     ]
    },
    {
     "name": "stdout",
     "output_type": "stream",
     "text": [
      "[138] train loss: 0.004687 \n",
      "[138] \u001b[94mvalidate\u001b[0m loss: 0.005389\n",
      "EarlyStopping counter: 1 out of 40\n"
     ]
    },
    {
     "name": "stderr",
     "output_type": "stream",
     "text": [
      "  3%|███▌                                                                                                                            | 139/5000 [08:01<4:42:08,  3.48s/it]"
     ]
    },
    {
     "name": "stdout",
     "output_type": "stream",
     "text": [
      "[139] train loss: 0.004689 \n",
      "[139] \u001b[94mvalidate\u001b[0m loss: 0.005435\n",
      "EarlyStopping counter: 2 out of 40\n"
     ]
    },
    {
     "name": "stderr",
     "output_type": "stream",
     "text": [
      "  3%|███▌                                                                                                                            | 140/5000 [08:05<4:52:38,  3.61s/it]"
     ]
    },
    {
     "name": "stdout",
     "output_type": "stream",
     "text": [
      "[140] train loss: 0.004700 \n",
      "[140] \u001b[94mvalidate\u001b[0m loss: 0.005610\n",
      "EarlyStopping counter: 3 out of 40\n"
     ]
    },
    {
     "name": "stderr",
     "output_type": "stream",
     "text": [
      "  3%|███▌                                                                                                                            | 141/5000 [08:09<4:51:32,  3.60s/it]"
     ]
    },
    {
     "name": "stdout",
     "output_type": "stream",
     "text": [
      "[141] train loss: 0.004667 \n",
      "[141] \u001b[94mvalidate\u001b[0m loss: 0.005300\n",
      "Validation loss decreased (0.004678 --> 0.004667).  Saving model ...\n"
     ]
    },
    {
     "name": "stderr",
     "output_type": "stream",
     "text": [
      "  3%|███▋                                                                                                                            | 142/5000 [08:12<4:49:43,  3.58s/it]"
     ]
    },
    {
     "name": "stdout",
     "output_type": "stream",
     "text": [
      "[142] train loss: 0.004678 \n",
      "[142] \u001b[94mvalidate\u001b[0m loss: 0.005443\n",
      "EarlyStopping counter: 1 out of 40\n"
     ]
    },
    {
     "name": "stderr",
     "output_type": "stream",
     "text": [
      "  3%|███▋                                                                                                                            | 143/5000 [08:16<4:49:33,  3.58s/it]"
     ]
    },
    {
     "name": "stdout",
     "output_type": "stream",
     "text": [
      "[143] train loss: 0.004662 \n",
      "[143] \u001b[94mvalidate\u001b[0m loss: 0.005435\n",
      "Validation loss decreased (0.004667 --> 0.004662).  Saving model ...\n"
     ]
    },
    {
     "name": "stderr",
     "output_type": "stream",
     "text": [
      "  3%|███▋                                                                                                                            | 144/5000 [08:19<4:49:35,  3.58s/it]"
     ]
    },
    {
     "name": "stdout",
     "output_type": "stream",
     "text": [
      "[144] train loss: 0.004665 \n",
      "[144] \u001b[94mvalidate\u001b[0m loss: 0.005515\n",
      "EarlyStopping counter: 1 out of 40\n"
     ]
    },
    {
     "name": "stderr",
     "output_type": "stream",
     "text": [
      "  3%|███▋                                                                                                                            | 145/5000 [08:23<4:48:35,  3.57s/it]"
     ]
    },
    {
     "name": "stdout",
     "output_type": "stream",
     "text": [
      "[145] train loss: 0.004687 \n",
      "[145] \u001b[94mvalidate\u001b[0m loss: 0.005441\n",
      "EarlyStopping counter: 2 out of 40\n"
     ]
    },
    {
     "name": "stderr",
     "output_type": "stream",
     "text": [
      "  3%|███▋                                                                                                                            | 146/5000 [08:27<4:52:08,  3.61s/it]"
     ]
    },
    {
     "name": "stdout",
     "output_type": "stream",
     "text": [
      "[146] train loss: 0.004655 \n",
      "[146] \u001b[94mvalidate\u001b[0m loss: 0.005360\n",
      "Validation loss decreased (0.004662 --> 0.004655).  Saving model ...\n"
     ]
    },
    {
     "name": "stderr",
     "output_type": "stream",
     "text": [
      "  3%|███▊                                                                                                                            | 147/5000 [08:30<4:47:35,  3.56s/it]"
     ]
    },
    {
     "name": "stdout",
     "output_type": "stream",
     "text": [
      "[147] train loss: 0.004656 \n",
      "[147] \u001b[94mvalidate\u001b[0m loss: 0.005351\n",
      "EarlyStopping counter: 1 out of 40\n"
     ]
    },
    {
     "name": "stderr",
     "output_type": "stream",
     "text": [
      "  3%|███▊                                                                                                                            | 148/5000 [08:34<4:52:23,  3.62s/it]"
     ]
    },
    {
     "name": "stdout",
     "output_type": "stream",
     "text": [
      "[148] train loss: 0.004665 \n",
      "[148] \u001b[94mvalidate\u001b[0m loss: 0.005517\n",
      "EarlyStopping counter: 2 out of 40\n"
     ]
    },
    {
     "name": "stderr",
     "output_type": "stream",
     "text": [
      "  3%|███▊                                                                                                                            | 149/5000 [08:37<4:47:07,  3.55s/it]"
     ]
    },
    {
     "name": "stdout",
     "output_type": "stream",
     "text": [
      "[149] train loss: 0.004667 \n",
      "[149] \u001b[94mvalidate\u001b[0m loss: 0.005322\n",
      "EarlyStopping counter: 3 out of 40\n"
     ]
    },
    {
     "name": "stderr",
     "output_type": "stream",
     "text": [
      "  3%|███▊                                                                                                                            | 150/5000 [08:41<4:43:33,  3.51s/it]"
     ]
    },
    {
     "name": "stdout",
     "output_type": "stream",
     "text": [
      "[150] train loss: 0.004651 \n",
      "[150] \u001b[94mvalidate\u001b[0m loss: 0.005354\n",
      "Validation loss decreased (0.004655 --> 0.004651).  Saving model ...\n"
     ]
    },
    {
     "name": "stderr",
     "output_type": "stream",
     "text": [
      "  3%|███▊                                                                                                                            | 151/5000 [08:44<4:44:41,  3.52s/it]"
     ]
    },
    {
     "name": "stdout",
     "output_type": "stream",
     "text": [
      "[151] train loss: 0.004636 \n",
      "[151] \u001b[94mvalidate\u001b[0m loss: 0.005389\n",
      "Validation loss decreased (0.004651 --> 0.004636).  Saving model ...\n"
     ]
    },
    {
     "name": "stderr",
     "output_type": "stream",
     "text": [
      "  3%|███▉                                                                                                                            | 152/5000 [08:46<4:12:51,  3.13s/it]"
     ]
    },
    {
     "name": "stdout",
     "output_type": "stream",
     "text": [
      "[152] train loss: 0.004651 \n",
      "[152] \u001b[94mvalidate\u001b[0m loss: 0.005376\n",
      "EarlyStopping counter: 1 out of 40\n"
     ]
    },
    {
     "name": "stderr",
     "output_type": "stream",
     "text": [
      "  3%|███▉                                                                                                                            | 153/5000 [08:50<4:18:37,  3.20s/it]"
     ]
    },
    {
     "name": "stdout",
     "output_type": "stream",
     "text": [
      "[153] train loss: 0.004537 \n",
      "[153] \u001b[94mvalidate\u001b[0m loss: 0.005295\n",
      "Validation loss decreased (0.004636 --> 0.004537).  Saving model ...\n"
     ]
    },
    {
     "name": "stderr",
     "output_type": "stream",
     "text": [
      "  3%|███▉                                                                                                                            | 154/5000 [08:53<4:28:36,  3.33s/it]"
     ]
    },
    {
     "name": "stdout",
     "output_type": "stream",
     "text": [
      "[154] train loss: 0.004530 \n",
      "[154] \u001b[94mvalidate\u001b[0m loss: 0.005278\n",
      "Validation loss decreased (0.004537 --> 0.004530).  Saving model ...\n"
     ]
    },
    {
     "name": "stderr",
     "output_type": "stream",
     "text": [
      "  3%|███▉                                                                                                                            | 155/5000 [08:57<4:36:47,  3.43s/it]"
     ]
    },
    {
     "name": "stdout",
     "output_type": "stream",
     "text": [
      "[155] train loss: 0.004531 \n",
      "[155] \u001b[94mvalidate\u001b[0m loss: 0.005280\n",
      "EarlyStopping counter: 1 out of 40\n"
     ]
    },
    {
     "name": "stderr",
     "output_type": "stream",
     "text": [
      "  3%|███▉                                                                                                                            | 156/5000 [09:01<4:50:24,  3.60s/it]"
     ]
    },
    {
     "name": "stdout",
     "output_type": "stream",
     "text": [
      "[156] train loss: 0.004526 \n",
      "[156] \u001b[94mvalidate\u001b[0m loss: 0.005274\n",
      "Validation loss decreased (0.004530 --> 0.004526).  Saving model ...\n"
     ]
    },
    {
     "name": "stderr",
     "output_type": "stream",
     "text": [
      "  3%|████                                                                                                                            | 157/5000 [09:05<4:48:09,  3.57s/it]"
     ]
    },
    {
     "name": "stdout",
     "output_type": "stream",
     "text": [
      "[157] train loss: 0.004530 \n",
      "[157] \u001b[94mvalidate\u001b[0m loss: 0.005286\n",
      "EarlyStopping counter: 1 out of 40\n"
     ]
    },
    {
     "name": "stderr",
     "output_type": "stream",
     "text": [
      "  3%|████                                                                                                                            | 158/5000 [09:08<4:39:02,  3.46s/it]"
     ]
    },
    {
     "name": "stdout",
     "output_type": "stream",
     "text": [
      "[158] train loss: 0.004528 \n",
      "[158] \u001b[94mvalidate\u001b[0m loss: 0.005283\n",
      "EarlyStopping counter: 2 out of 40\n"
     ]
    },
    {
     "name": "stderr",
     "output_type": "stream",
     "text": [
      "  3%|████                                                                                                                            | 159/5000 [09:11<4:40:27,  3.48s/it]"
     ]
    },
    {
     "name": "stdout",
     "output_type": "stream",
     "text": [
      "[159] train loss: 0.004528 \n",
      "[159] \u001b[94mvalidate\u001b[0m loss: 0.005293\n",
      "EarlyStopping counter: 3 out of 40\n"
     ]
    },
    {
     "name": "stderr",
     "output_type": "stream",
     "text": [
      "  3%|████                                                                                                                            | 160/5000 [09:15<4:41:44,  3.49s/it]"
     ]
    },
    {
     "name": "stdout",
     "output_type": "stream",
     "text": [
      "[160] train loss: 0.004527 \n",
      "[160] \u001b[94mvalidate\u001b[0m loss: 0.005276\n",
      "EarlyStopping counter: 4 out of 40\n"
     ]
    },
    {
     "name": "stderr",
     "output_type": "stream",
     "text": [
      "  3%|████                                                                                                                            | 161/5000 [09:18<4:40:19,  3.48s/it]"
     ]
    },
    {
     "name": "stdout",
     "output_type": "stream",
     "text": [
      "[161] train loss: 0.004525 \n",
      "[161] \u001b[94mvalidate\u001b[0m loss: 0.005274\n",
      "Validation loss decreased (0.004526 --> 0.004525).  Saving model ...\n"
     ]
    },
    {
     "name": "stderr",
     "output_type": "stream",
     "text": [
      "  3%|████▏                                                                                                                           | 162/5000 [09:22<4:43:39,  3.52s/it]"
     ]
    },
    {
     "name": "stdout",
     "output_type": "stream",
     "text": [
      "[162] train loss: 0.004525 \n",
      "[162] \u001b[94mvalidate\u001b[0m loss: 0.005289\n",
      "EarlyStopping counter: 1 out of 40\n"
     ]
    },
    {
     "name": "stderr",
     "output_type": "stream",
     "text": [
      "  3%|████▏                                                                                                                           | 163/5000 [09:25<4:41:58,  3.50s/it]"
     ]
    },
    {
     "name": "stdout",
     "output_type": "stream",
     "text": [
      "[163] train loss: 0.004524 \n",
      "[163] \u001b[94mvalidate\u001b[0m loss: 0.005273\n",
      "Validation loss decreased (0.004525 --> 0.004524).  Saving model ...\n"
     ]
    },
    {
     "name": "stderr",
     "output_type": "stream",
     "text": [
      "  3%|████▏                                                                                                                           | 164/5000 [09:29<4:47:01,  3.56s/it]"
     ]
    },
    {
     "name": "stdout",
     "output_type": "stream",
     "text": [
      "[164] train loss: 0.004525 \n",
      "[164] \u001b[94mvalidate\u001b[0m loss: 0.005275\n",
      "EarlyStopping counter: 1 out of 40\n"
     ]
    },
    {
     "name": "stderr",
     "output_type": "stream",
     "text": [
      "  3%|████▏                                                                                                                           | 165/5000 [09:32<4:39:35,  3.47s/it]"
     ]
    },
    {
     "name": "stdout",
     "output_type": "stream",
     "text": [
      "[165] train loss: 0.004525 \n",
      "[165] \u001b[94mvalidate\u001b[0m loss: 0.005299\n",
      "EarlyStopping counter: 2 out of 40\n"
     ]
    },
    {
     "name": "stderr",
     "output_type": "stream",
     "text": [
      "  3%|████▏                                                                                                                           | 166/5000 [09:35<4:30:23,  3.36s/it]"
     ]
    },
    {
     "name": "stdout",
     "output_type": "stream",
     "text": [
      "[166] train loss: 0.004526 \n",
      "[166] \u001b[94mvalidate\u001b[0m loss: 0.005287\n",
      "EarlyStopping counter: 3 out of 40\n"
     ]
    },
    {
     "name": "stderr",
     "output_type": "stream",
     "text": [
      "  3%|████▎                                                                                                                           | 167/5000 [09:39<4:36:36,  3.43s/it]"
     ]
    },
    {
     "name": "stdout",
     "output_type": "stream",
     "text": [
      "[167] train loss: 0.004524 \n",
      "[167] \u001b[94mvalidate\u001b[0m loss: 0.005274\n",
      "EarlyStopping counter: 4 out of 40\n"
     ]
    },
    {
     "name": "stderr",
     "output_type": "stream",
     "text": [
      "  3%|████▎                                                                                                                           | 168/5000 [09:43<4:39:41,  3.47s/it]"
     ]
    },
    {
     "name": "stdout",
     "output_type": "stream",
     "text": [
      "[168] train loss: 0.004520 \n",
      "[168] \u001b[94mvalidate\u001b[0m loss: 0.005300\n",
      "Validation loss decreased (0.004524 --> 0.004520).  Saving model ...\n"
     ]
    },
    {
     "name": "stderr",
     "output_type": "stream",
     "text": [
      "  3%|████▎                                                                                                                           | 169/5000 [09:46<4:45:00,  3.54s/it]"
     ]
    },
    {
     "name": "stdout",
     "output_type": "stream",
     "text": [
      "[169] train loss: 0.004524 \n",
      "[169] \u001b[94mvalidate\u001b[0m loss: 0.005272\n",
      "EarlyStopping counter: 1 out of 40\n"
     ]
    },
    {
     "name": "stderr",
     "output_type": "stream",
     "text": [
      "  3%|████▎                                                                                                                           | 170/5000 [09:50<4:48:06,  3.58s/it]"
     ]
    },
    {
     "name": "stdout",
     "output_type": "stream",
     "text": [
      "[170] train loss: 0.004519 \n",
      "[170] \u001b[94mvalidate\u001b[0m loss: 0.005294\n",
      "Validation loss decreased (0.004520 --> 0.004519).  Saving model ...\n"
     ]
    },
    {
     "name": "stderr",
     "output_type": "stream",
     "text": [
      "  3%|████▍                                                                                                                           | 171/5000 [09:53<4:36:01,  3.43s/it]"
     ]
    },
    {
     "name": "stdout",
     "output_type": "stream",
     "text": [
      "[171] train loss: 0.004520 \n",
      "[171] \u001b[94mvalidate\u001b[0m loss: 0.005270\n",
      "EarlyStopping counter: 1 out of 40\n"
     ]
    },
    {
     "name": "stderr",
     "output_type": "stream",
     "text": [
      "  3%|████▍                                                                                                                           | 172/5000 [09:56<4:37:45,  3.45s/it]"
     ]
    },
    {
     "name": "stdout",
     "output_type": "stream",
     "text": [
      "[172] train loss: 0.004523 \n",
      "[172] \u001b[94mvalidate\u001b[0m loss: 0.005301\n",
      "EarlyStopping counter: 2 out of 40\n"
     ]
    },
    {
     "name": "stderr",
     "output_type": "stream",
     "text": [
      "  3%|████▍                                                                                                                           | 173/5000 [10:00<4:39:32,  3.47s/it]"
     ]
    },
    {
     "name": "stdout",
     "output_type": "stream",
     "text": [
      "[173] train loss: 0.004520 \n",
      "[173] \u001b[94mvalidate\u001b[0m loss: 0.005276\n",
      "EarlyStopping counter: 3 out of 40\n"
     ]
    },
    {
     "name": "stderr",
     "output_type": "stream",
     "text": [
      "  3%|████▍                                                                                                                           | 174/5000 [10:04<4:39:54,  3.48s/it]"
     ]
    },
    {
     "name": "stdout",
     "output_type": "stream",
     "text": [
      "[174] train loss: 0.004521 \n",
      "[174] \u001b[94mvalidate\u001b[0m loss: 0.005274\n",
      "EarlyStopping counter: 4 out of 40\n"
     ]
    },
    {
     "name": "stderr",
     "output_type": "stream",
     "text": [
      "  4%|████▍                                                                                                                           | 175/5000 [10:07<4:38:33,  3.46s/it]"
     ]
    },
    {
     "name": "stdout",
     "output_type": "stream",
     "text": [
      "[175] train loss: 0.004521 \n",
      "[175] \u001b[94mvalidate\u001b[0m loss: 0.005279\n",
      "EarlyStopping counter: 5 out of 40\n"
     ]
    },
    {
     "name": "stderr",
     "output_type": "stream",
     "text": [
      "  4%|████▌                                                                                                                           | 176/5000 [10:10<4:36:05,  3.43s/it]"
     ]
    },
    {
     "name": "stdout",
     "output_type": "stream",
     "text": [
      "[176] train loss: 0.004521 \n",
      "[176] \u001b[94mvalidate\u001b[0m loss: 0.005269\n",
      "EarlyStopping counter: 6 out of 40\n"
     ]
    },
    {
     "name": "stderr",
     "output_type": "stream",
     "text": [
      "  4%|████▌                                                                                                                           | 177/5000 [10:14<4:33:26,  3.40s/it]"
     ]
    },
    {
     "name": "stdout",
     "output_type": "stream",
     "text": [
      "[177] train loss: 0.004520 \n",
      "[177] \u001b[94mvalidate\u001b[0m loss: 0.005276\n",
      "EarlyStopping counter: 7 out of 40\n"
     ]
    },
    {
     "name": "stderr",
     "output_type": "stream",
     "text": [
      "  4%|████▌                                                                                                                           | 178/5000 [10:17<4:43:21,  3.53s/it]"
     ]
    },
    {
     "name": "stdout",
     "output_type": "stream",
     "text": [
      "[178] train loss: 0.004520 \n",
      "[178] \u001b[94mvalidate\u001b[0m loss: 0.005298\n",
      "EarlyStopping counter: 8 out of 40\n"
     ]
    },
    {
     "name": "stderr",
     "output_type": "stream",
     "text": [
      "  4%|████▌                                                                                                                           | 179/5000 [10:21<4:40:26,  3.49s/it]"
     ]
    },
    {
     "name": "stdout",
     "output_type": "stream",
     "text": [
      "[179] train loss: 0.004516 \n",
      "[179] \u001b[94mvalidate\u001b[0m loss: 0.005278\n",
      "Validation loss decreased (0.004519 --> 0.004516).  Saving model ...\n"
     ]
    },
    {
     "name": "stderr",
     "output_type": "stream",
     "text": [
      "  4%|████▌                                                                                                                           | 180/5000 [10:24<4:38:39,  3.47s/it]"
     ]
    },
    {
     "name": "stdout",
     "output_type": "stream",
     "text": [
      "[180] train loss: 0.004515 \n",
      "[180] \u001b[94mvalidate\u001b[0m loss: 0.005269\n",
      "Validation loss decreased (0.004516 --> 0.004515).  Saving model ...\n"
     ]
    },
    {
     "name": "stderr",
     "output_type": "stream",
     "text": [
      "  4%|████▋                                                                                                                           | 181/5000 [10:28<4:36:15,  3.44s/it]"
     ]
    },
    {
     "name": "stdout",
     "output_type": "stream",
     "text": [
      "[181] train loss: 0.004516 \n",
      "[181] \u001b[94mvalidate\u001b[0m loss: 0.005272\n",
      "EarlyStopping counter: 1 out of 40\n"
     ]
    },
    {
     "name": "stderr",
     "output_type": "stream",
     "text": [
      "  4%|████▋                                                                                                                           | 182/5000 [10:32<4:48:52,  3.60s/it]"
     ]
    },
    {
     "name": "stdout",
     "output_type": "stream",
     "text": [
      "[182] train loss: 0.004517 \n",
      "[182] \u001b[94mvalidate\u001b[0m loss: 0.005279\n",
      "EarlyStopping counter: 2 out of 40\n"
     ]
    },
    {
     "name": "stderr",
     "output_type": "stream",
     "text": [
      "  4%|████▋                                                                                                                           | 183/5000 [10:35<4:46:21,  3.57s/it]"
     ]
    },
    {
     "name": "stdout",
     "output_type": "stream",
     "text": [
      "[183] train loss: 0.004516 \n",
      "[183] \u001b[94mvalidate\u001b[0m loss: 0.005271\n",
      "EarlyStopping counter: 3 out of 40\n"
     ]
    },
    {
     "name": "stderr",
     "output_type": "stream",
     "text": [
      "  4%|████▋                                                                                                                           | 184/5000 [10:39<4:49:45,  3.61s/it]"
     ]
    },
    {
     "name": "stdout",
     "output_type": "stream",
     "text": [
      "[184] train loss: 0.004514 \n",
      "[184] \u001b[94mvalidate\u001b[0m loss: 0.005285\n",
      "Validation loss decreased (0.004515 --> 0.004514).  Saving model ...\n"
     ]
    },
    {
     "name": "stderr",
     "output_type": "stream",
     "text": [
      "  4%|████▋                                                                                                                           | 185/5000 [10:42<4:50:15,  3.62s/it]"
     ]
    },
    {
     "name": "stdout",
     "output_type": "stream",
     "text": [
      "[185] train loss: 0.004514 \n",
      "[185] \u001b[94mvalidate\u001b[0m loss: 0.005281\n",
      "Validation loss decreased (0.004514 --> 0.004514).  Saving model ...\n"
     ]
    },
    {
     "name": "stderr",
     "output_type": "stream",
     "text": [
      "  4%|████▊                                                                                                                           | 186/5000 [10:46<4:45:34,  3.56s/it]"
     ]
    },
    {
     "name": "stdout",
     "output_type": "stream",
     "text": [
      "[186] train loss: 0.004512 \n",
      "[186] \u001b[94mvalidate\u001b[0m loss: 0.005269\n",
      "Validation loss decreased (0.004514 --> 0.004512).  Saving model ...\n"
     ]
    },
    {
     "name": "stderr",
     "output_type": "stream",
     "text": [
      "  4%|████▊                                                                                                                           | 187/5000 [10:49<4:45:39,  3.56s/it]"
     ]
    },
    {
     "name": "stdout",
     "output_type": "stream",
     "text": [
      "[187] train loss: 0.004510 \n",
      "[187] \u001b[94mvalidate\u001b[0m loss: 0.005267\n",
      "Validation loss decreased (0.004512 --> 0.004510).  Saving model ...\n"
     ]
    },
    {
     "name": "stderr",
     "output_type": "stream",
     "text": [
      "  4%|████▊                                                                                                                           | 188/5000 [10:53<4:40:06,  3.49s/it]"
     ]
    },
    {
     "name": "stdout",
     "output_type": "stream",
     "text": [
      "[188] train loss: 0.004512 \n",
      "[188] \u001b[94mvalidate\u001b[0m loss: 0.005276\n",
      "EarlyStopping counter: 1 out of 40\n"
     ]
    },
    {
     "name": "stderr",
     "output_type": "stream",
     "text": [
      "  4%|████▊                                                                                                                           | 189/5000 [10:56<4:41:51,  3.52s/it]"
     ]
    },
    {
     "name": "stdout",
     "output_type": "stream",
     "text": [
      "[189] train loss: 0.004512 \n",
      "[189] \u001b[94mvalidate\u001b[0m loss: 0.005304\n",
      "EarlyStopping counter: 2 out of 40\n"
     ]
    },
    {
     "name": "stderr",
     "output_type": "stream",
     "text": [
      "  4%|████▊                                                                                                                           | 190/5000 [10:59<4:21:15,  3.26s/it]"
     ]
    },
    {
     "name": "stdout",
     "output_type": "stream",
     "text": [
      "[190] train loss: 0.004513 \n",
      "[190] \u001b[94mvalidate\u001b[0m loss: 0.005284\n",
      "EarlyStopping counter: 3 out of 40\n"
     ]
    },
    {
     "name": "stderr",
     "output_type": "stream",
     "text": [
      "  4%|████▉                                                                                                                           | 191/5000 [11:03<4:31:21,  3.39s/it]"
     ]
    },
    {
     "name": "stdout",
     "output_type": "stream",
     "text": [
      "[191] train loss: 0.004510 \n",
      "[191] \u001b[94mvalidate\u001b[0m loss: 0.005273\n",
      "Validation loss decreased (0.004510 --> 0.004510).  Saving model ...\n"
     ]
    },
    {
     "name": "stderr",
     "output_type": "stream",
     "text": [
      "  4%|████▉                                                                                                                           | 192/5000 [11:06<4:35:51,  3.44s/it]"
     ]
    },
    {
     "name": "stdout",
     "output_type": "stream",
     "text": [
      "[192] train loss: 0.004510 \n",
      "[192] \u001b[94mvalidate\u001b[0m loss: 0.005280\n",
      "Validation loss decreased (0.004510 --> 0.004510).  Saving model ...\n"
     ]
    },
    {
     "name": "stderr",
     "output_type": "stream",
     "text": [
      "  4%|████▉                                                                                                                           | 193/5000 [11:10<4:51:02,  3.63s/it]"
     ]
    },
    {
     "name": "stdout",
     "output_type": "stream",
     "text": [
      "[193] train loss: 0.004512 \n",
      "[193] \u001b[94mvalidate\u001b[0m loss: 0.005275\n",
      "EarlyStopping counter: 1 out of 40\n"
     ]
    },
    {
     "name": "stderr",
     "output_type": "stream",
     "text": [
      "  4%|████▉                                                                                                                           | 194/5000 [11:14<4:46:25,  3.58s/it]"
     ]
    },
    {
     "name": "stdout",
     "output_type": "stream",
     "text": [
      "[194] train loss: 0.004510 \n",
      "[194] \u001b[94mvalidate\u001b[0m loss: 0.005287\n",
      "Validation loss decreased (0.004510 --> 0.004510).  Saving model ...\n"
     ]
    },
    {
     "name": "stderr",
     "output_type": "stream",
     "text": [
      "  4%|████▉                                                                                                                           | 195/5000 [11:17<4:47:53,  3.59s/it]"
     ]
    },
    {
     "name": "stdout",
     "output_type": "stream",
     "text": [
      "[195] train loss: 0.004509 \n",
      "[195] \u001b[94mvalidate\u001b[0m loss: 0.005275\n",
      "Validation loss decreased (0.004510 --> 0.004509).  Saving model ...\n"
     ]
    },
    {
     "name": "stderr",
     "output_type": "stream",
     "text": [
      "  4%|█████                                                                                                                           | 196/5000 [11:20<4:35:08,  3.44s/it]"
     ]
    },
    {
     "name": "stdout",
     "output_type": "stream",
     "text": [
      "[196] train loss: 0.004510 \n",
      "[196] \u001b[94mvalidate\u001b[0m loss: 0.005296\n",
      "EarlyStopping counter: 1 out of 40\n"
     ]
    },
    {
     "name": "stderr",
     "output_type": "stream",
     "text": [
      "  4%|█████                                                                                                                           | 197/5000 [11:24<4:38:10,  3.47s/it]"
     ]
    },
    {
     "name": "stdout",
     "output_type": "stream",
     "text": [
      "[197] train loss: 0.004513 \n",
      "[197] \u001b[94mvalidate\u001b[0m loss: 0.005271\n",
      "EarlyStopping counter: 2 out of 40\n"
     ]
    },
    {
     "name": "stderr",
     "output_type": "stream",
     "text": [
      "  4%|█████                                                                                                                           | 198/5000 [11:28<4:46:38,  3.58s/it]"
     ]
    },
    {
     "name": "stdout",
     "output_type": "stream",
     "text": [
      "[198] train loss: 0.004507 \n",
      "[198] \u001b[94mvalidate\u001b[0m loss: 0.005271\n",
      "Validation loss decreased (0.004509 --> 0.004507).  Saving model ...\n"
     ]
    },
    {
     "name": "stderr",
     "output_type": "stream",
     "text": [
      "  4%|█████                                                                                                                           | 199/5000 [11:31<4:47:07,  3.59s/it]"
     ]
    },
    {
     "name": "stdout",
     "output_type": "stream",
     "text": [
      "[199] train loss: 0.004494 \n",
      "[199] \u001b[94mvalidate\u001b[0m loss: 0.005265\n",
      "Validation loss decreased (0.004507 --> 0.004494).  Saving model ...\n"
     ]
    },
    {
     "name": "stderr",
     "output_type": "stream",
     "text": [
      "  4%|█████                                                                                                                           | 200/5000 [11:35<4:53:10,  3.66s/it]"
     ]
    },
    {
     "name": "stdout",
     "output_type": "stream",
     "text": [
      "[200] train loss: 0.004495 \n",
      "[200] \u001b[94mvalidate\u001b[0m loss: 0.005265\n",
      "EarlyStopping counter: 1 out of 40\n"
     ]
    },
    {
     "name": "stderr",
     "output_type": "stream",
     "text": [
      "  4%|█████▏                                                                                                                          | 201/5000 [11:39<4:51:48,  3.65s/it]"
     ]
    },
    {
     "name": "stdout",
     "output_type": "stream",
     "text": [
      "[201] train loss: 0.004494 \n",
      "[201] \u001b[94mvalidate\u001b[0m loss: 0.005265\n",
      "Validation loss decreased (0.004494 --> 0.004494).  Saving model ...\n"
     ]
    },
    {
     "name": "stderr",
     "output_type": "stream",
     "text": [
      "  4%|█████▏                                                                                                                          | 202/5000 [11:43<4:50:25,  3.63s/it]"
     ]
    },
    {
     "name": "stdout",
     "output_type": "stream",
     "text": [
      "[202] train loss: 0.004494 \n",
      "[202] \u001b[94mvalidate\u001b[0m loss: 0.005265\n",
      "EarlyStopping counter: 1 out of 40\n"
     ]
    },
    {
     "name": "stderr",
     "output_type": "stream",
     "text": [
      "  4%|█████▏                                                                                                                          | 203/5000 [11:46<4:49:07,  3.62s/it]"
     ]
    },
    {
     "name": "stdout",
     "output_type": "stream",
     "text": [
      "[203] train loss: 0.004493 \n",
      "[203] \u001b[94mvalidate\u001b[0m loss: 0.005267\n",
      "Validation loss decreased (0.004494 --> 0.004493).  Saving model ...\n"
     ]
    },
    {
     "name": "stderr",
     "output_type": "stream",
     "text": [
      "  4%|█████▏                                                                                                                          | 204/5000 [11:50<4:47:00,  3.59s/it]"
     ]
    },
    {
     "name": "stdout",
     "output_type": "stream",
     "text": [
      "[204] train loss: 0.004494 \n",
      "[204] \u001b[94mvalidate\u001b[0m loss: 0.005265\n",
      "EarlyStopping counter: 1 out of 40\n"
     ]
    },
    {
     "name": "stderr",
     "output_type": "stream",
     "text": [
      "  4%|█████▏                                                                                                                          | 205/5000 [11:53<4:43:24,  3.55s/it]"
     ]
    },
    {
     "name": "stdout",
     "output_type": "stream",
     "text": [
      "[205] train loss: 0.004494 \n",
      "[205] \u001b[94mvalidate\u001b[0m loss: 0.005264\n",
      "EarlyStopping counter: 2 out of 40\n"
     ]
    },
    {
     "name": "stderr",
     "output_type": "stream",
     "text": [
      "  4%|█████▎                                                                                                                          | 206/5000 [11:57<4:41:46,  3.53s/it]"
     ]
    },
    {
     "name": "stdout",
     "output_type": "stream",
     "text": [
      "[206] train loss: 0.004493 \n",
      "[206] \u001b[94mvalidate\u001b[0m loss: 0.005264\n",
      "EarlyStopping counter: 3 out of 40\n"
     ]
    },
    {
     "name": "stderr",
     "output_type": "stream",
     "text": [
      "  4%|█████▎                                                                                                                          | 207/5000 [12:00<4:48:20,  3.61s/it]"
     ]
    },
    {
     "name": "stdout",
     "output_type": "stream",
     "text": [
      "[207] train loss: 0.004494 \n",
      "[207] \u001b[94mvalidate\u001b[0m loss: 0.005268\n",
      "EarlyStopping counter: 4 out of 40\n"
     ]
    },
    {
     "name": "stderr",
     "output_type": "stream",
     "text": [
      "  4%|█████▎                                                                                                                          | 208/5000 [12:04<4:47:49,  3.60s/it]"
     ]
    },
    {
     "name": "stdout",
     "output_type": "stream",
     "text": [
      "[208] train loss: 0.004494 \n",
      "[208] \u001b[94mvalidate\u001b[0m loss: 0.005265\n",
      "EarlyStopping counter: 5 out of 40\n"
     ]
    },
    {
     "name": "stderr",
     "output_type": "stream",
     "text": [
      "  4%|█████▎                                                                                                                          | 209/5000 [12:07<4:45:50,  3.58s/it]"
     ]
    },
    {
     "name": "stdout",
     "output_type": "stream",
     "text": [
      "[209] train loss: 0.004494 \n",
      "[209] \u001b[94mvalidate\u001b[0m loss: 0.005267\n",
      "EarlyStopping counter: 6 out of 40\n"
     ]
    },
    {
     "name": "stderr",
     "output_type": "stream",
     "text": [
      "  4%|█████▍                                                                                                                          | 210/5000 [12:11<4:36:32,  3.46s/it]"
     ]
    },
    {
     "name": "stdout",
     "output_type": "stream",
     "text": [
      "[210] train loss: 0.004494 \n",
      "[210] \u001b[94mvalidate\u001b[0m loss: 0.005269\n",
      "EarlyStopping counter: 7 out of 40\n"
     ]
    },
    {
     "name": "stderr",
     "output_type": "stream",
     "text": [
      "  4%|█████▍                                                                                                                          | 211/5000 [12:14<4:40:01,  3.51s/it]"
     ]
    },
    {
     "name": "stdout",
     "output_type": "stream",
     "text": [
      "[211] train loss: 0.004494 \n",
      "[211] \u001b[94mvalidate\u001b[0m loss: 0.005267\n",
      "EarlyStopping counter: 8 out of 40\n"
     ]
    },
    {
     "name": "stderr",
     "output_type": "stream",
     "text": [
      "  4%|█████▍                                                                                                                          | 212/5000 [12:18<4:43:22,  3.55s/it]"
     ]
    },
    {
     "name": "stdout",
     "output_type": "stream",
     "text": [
      "[212] train loss: 0.004492 \n",
      "[212] \u001b[94mvalidate\u001b[0m loss: 0.005266\n",
      "Validation loss decreased (0.004493 --> 0.004492).  Saving model ...\n"
     ]
    },
    {
     "name": "stderr",
     "output_type": "stream",
     "text": [
      "  4%|█████▍                                                                                                                          | 213/5000 [12:22<4:44:02,  3.56s/it]"
     ]
    },
    {
     "name": "stdout",
     "output_type": "stream",
     "text": [
      "[213] train loss: 0.004492 \n",
      "[213] \u001b[94mvalidate\u001b[0m loss: 0.005265\n",
      "Validation loss decreased (0.004492 --> 0.004492).  Saving model ...\n"
     ]
    },
    {
     "name": "stderr",
     "output_type": "stream",
     "text": [
      "  4%|█████▍                                                                                                                          | 214/5000 [12:25<4:39:29,  3.50s/it]"
     ]
    },
    {
     "name": "stdout",
     "output_type": "stream",
     "text": [
      "[214] train loss: 0.004491 \n",
      "[214] \u001b[94mvalidate\u001b[0m loss: 0.005265\n",
      "Validation loss decreased (0.004492 --> 0.004491).  Saving model ...\n"
     ]
    },
    {
     "name": "stderr",
     "output_type": "stream",
     "text": [
      "  4%|█████▌                                                                                                                          | 215/5000 [12:28<4:28:51,  3.37s/it]"
     ]
    },
    {
     "name": "stdout",
     "output_type": "stream",
     "text": [
      "[215] train loss: 0.004491 \n",
      "[215] \u001b[94mvalidate\u001b[0m loss: 0.005265\n",
      "EarlyStopping counter: 1 out of 40\n"
     ]
    },
    {
     "name": "stderr",
     "output_type": "stream",
     "text": [
      "  4%|█████▌                                                                                                                          | 216/5000 [12:32<4:33:23,  3.43s/it]"
     ]
    },
    {
     "name": "stdout",
     "output_type": "stream",
     "text": [
      "[216] train loss: 0.004492 \n",
      "[216] \u001b[94mvalidate\u001b[0m loss: 0.005265\n",
      "EarlyStopping counter: 2 out of 40\n"
     ]
    },
    {
     "name": "stderr",
     "output_type": "stream",
     "text": [
      "  4%|█████▌                                                                                                                          | 217/5000 [12:35<4:34:34,  3.44s/it]"
     ]
    },
    {
     "name": "stdout",
     "output_type": "stream",
     "text": [
      "[217] train loss: 0.004492 \n",
      "[217] \u001b[94mvalidate\u001b[0m loss: 0.005265\n",
      "EarlyStopping counter: 3 out of 40\n"
     ]
    },
    {
     "name": "stderr",
     "output_type": "stream",
     "text": [
      "  4%|█████▌                                                                                                                          | 218/5000 [12:38<4:33:40,  3.43s/it]"
     ]
    },
    {
     "name": "stdout",
     "output_type": "stream",
     "text": [
      "[218] train loss: 0.004491 \n",
      "[218] \u001b[94mvalidate\u001b[0m loss: 0.005265\n",
      "Validation loss decreased (0.004491 --> 0.004491).  Saving model ...\n"
     ]
    },
    {
     "name": "stderr",
     "output_type": "stream",
     "text": [
      "  4%|█████▌                                                                                                                          | 219/5000 [12:42<4:37:43,  3.49s/it]"
     ]
    },
    {
     "name": "stdout",
     "output_type": "stream",
     "text": [
      "[219] train loss: 0.004492 \n",
      "[219] \u001b[94mvalidate\u001b[0m loss: 0.005265\n",
      "EarlyStopping counter: 1 out of 40\n"
     ]
    },
    {
     "name": "stderr",
     "output_type": "stream",
     "text": [
      "  4%|█████▋                                                                                                                          | 220/5000 [12:46<4:42:44,  3.55s/it]"
     ]
    },
    {
     "name": "stdout",
     "output_type": "stream",
     "text": [
      "[220] train loss: 0.004491 \n",
      "[220] \u001b[94mvalidate\u001b[0m loss: 0.005265\n",
      "EarlyStopping counter: 2 out of 40\n"
     ]
    },
    {
     "name": "stderr",
     "output_type": "stream",
     "text": [
      "  4%|█████▋                                                                                                                          | 221/5000 [12:49<4:43:14,  3.56s/it]"
     ]
    },
    {
     "name": "stdout",
     "output_type": "stream",
     "text": [
      "[221] train loss: 0.004492 \n",
      "[221] \u001b[94mvalidate\u001b[0m loss: 0.005265\n",
      "EarlyStopping counter: 3 out of 40\n"
     ]
    },
    {
     "name": "stderr",
     "output_type": "stream",
     "text": [
      "  4%|█████▋                                                                                                                          | 222/5000 [12:53<4:44:15,  3.57s/it]"
     ]
    },
    {
     "name": "stdout",
     "output_type": "stream",
     "text": [
      "[222] train loss: 0.004491 \n",
      "[222] \u001b[94mvalidate\u001b[0m loss: 0.005265\n",
      "EarlyStopping counter: 4 out of 40\n"
     ]
    },
    {
     "name": "stderr",
     "output_type": "stream",
     "text": [
      "  4%|█████▋                                                                                                                          | 223/5000 [12:56<4:41:08,  3.53s/it]"
     ]
    },
    {
     "name": "stdout",
     "output_type": "stream",
     "text": [
      "[223] train loss: 0.004491 \n",
      "[223] \u001b[94mvalidate\u001b[0m loss: 0.005265\n",
      "EarlyStopping counter: 5 out of 40\n"
     ]
    },
    {
     "name": "stderr",
     "output_type": "stream",
     "text": [
      "  4%|█████▋                                                                                                                          | 224/5000 [13:00<4:42:01,  3.54s/it]"
     ]
    },
    {
     "name": "stdout",
     "output_type": "stream",
     "text": [
      "[224] train loss: 0.004491 \n",
      "[224] \u001b[94mvalidate\u001b[0m loss: 0.005265\n",
      "EarlyStopping counter: 6 out of 40\n"
     ]
    },
    {
     "name": "stderr",
     "output_type": "stream",
     "text": [
      "  4%|█████▊                                                                                                                          | 225/5000 [13:03<4:29:20,  3.38s/it]"
     ]
    },
    {
     "name": "stdout",
     "output_type": "stream",
     "text": [
      "[225] train loss: 0.004491 \n",
      "[225] \u001b[94mvalidate\u001b[0m loss: 0.005265\n",
      "EarlyStopping counter: 7 out of 40\n"
     ]
    },
    {
     "name": "stderr",
     "output_type": "stream",
     "text": [
      "  5%|█████▊                                                                                                                          | 226/5000 [13:06<4:28:42,  3.38s/it]"
     ]
    },
    {
     "name": "stdout",
     "output_type": "stream",
     "text": [
      "[226] train loss: 0.004491 \n",
      "[226] \u001b[94mvalidate\u001b[0m loss: 0.005265\n",
      "EarlyStopping counter: 8 out of 40\n"
     ]
    },
    {
     "name": "stderr",
     "output_type": "stream",
     "text": [
      "  5%|█████▊                                                                                                                          | 227/5000 [13:10<4:32:24,  3.42s/it]"
     ]
    },
    {
     "name": "stdout",
     "output_type": "stream",
     "text": [
      "[227] train loss: 0.004492 \n",
      "[227] \u001b[94mvalidate\u001b[0m loss: 0.005265\n",
      "EarlyStopping counter: 9 out of 40\n"
     ]
    },
    {
     "name": "stderr",
     "output_type": "stream",
     "text": [
      "  5%|█████▊                                                                                                                          | 228/5000 [13:14<4:47:39,  3.62s/it]"
     ]
    },
    {
     "name": "stdout",
     "output_type": "stream",
     "text": [
      "[228] train loss: 0.004492 \n",
      "[228] \u001b[94mvalidate\u001b[0m loss: 0.005265\n",
      "EarlyStopping counter: 10 out of 40\n"
     ]
    },
    {
     "name": "stderr",
     "output_type": "stream",
     "text": [
      "  5%|█████▊                                                                                                                          | 229/5000 [13:17<4:45:18,  3.59s/it]"
     ]
    },
    {
     "name": "stdout",
     "output_type": "stream",
     "text": [
      "[229] train loss: 0.004491 \n",
      "[229] \u001b[94mvalidate\u001b[0m loss: 0.005265\n",
      "EarlyStopping counter: 11 out of 40\n"
     ]
    },
    {
     "name": "stderr",
     "output_type": "stream",
     "text": [
      "  5%|█████▉                                                                                                                          | 230/5000 [13:21<4:44:25,  3.58s/it]"
     ]
    },
    {
     "name": "stdout",
     "output_type": "stream",
     "text": [
      "[230] train loss: 0.004492 \n",
      "[230] \u001b[94mvalidate\u001b[0m loss: 0.005265\n",
      "EarlyStopping counter: 12 out of 40\n"
     ]
    },
    {
     "name": "stderr",
     "output_type": "stream",
     "text": [
      "  5%|█████▉                                                                                                                          | 231/5000 [13:24<4:42:18,  3.55s/it]"
     ]
    },
    {
     "name": "stdout",
     "output_type": "stream",
     "text": [
      "[231] train loss: 0.004492 \n",
      "[231] \u001b[94mvalidate\u001b[0m loss: 0.005265\n",
      "EarlyStopping counter: 13 out of 40\n"
     ]
    },
    {
     "name": "stderr",
     "output_type": "stream",
     "text": [
      "  5%|█████▉                                                                                                                          | 232/5000 [13:28<4:44:05,  3.57s/it]"
     ]
    },
    {
     "name": "stdout",
     "output_type": "stream",
     "text": [
      "[232] train loss: 0.004491 \n",
      "[232] \u001b[94mvalidate\u001b[0m loss: 0.005265\n",
      "EarlyStopping counter: 14 out of 40\n"
     ]
    },
    {
     "name": "stderr",
     "output_type": "stream",
     "text": [
      "  5%|█████▉                                                                                                                          | 233/5000 [13:31<4:40:34,  3.53s/it]"
     ]
    },
    {
     "name": "stdout",
     "output_type": "stream",
     "text": [
      "[233] train loss: 0.004492 \n",
      "[233] \u001b[94mvalidate\u001b[0m loss: 0.005265\n",
      "EarlyStopping counter: 15 out of 40\n"
     ]
    },
    {
     "name": "stderr",
     "output_type": "stream",
     "text": [
      "  5%|█████▉                                                                                                                          | 234/5000 [13:35<4:45:11,  3.59s/it]"
     ]
    },
    {
     "name": "stdout",
     "output_type": "stream",
     "text": [
      "[234] train loss: 0.004491 \n",
      "[234] \u001b[94mvalidate\u001b[0m loss: 0.005265\n",
      "EarlyStopping counter: 16 out of 40\n"
     ]
    },
    {
     "name": "stderr",
     "output_type": "stream",
     "text": [
      "  5%|██████                                                                                                                          | 235/5000 [13:39<4:43:10,  3.57s/it]"
     ]
    },
    {
     "name": "stdout",
     "output_type": "stream",
     "text": [
      "[235] train loss: 0.004491 \n",
      "[235] \u001b[94mvalidate\u001b[0m loss: 0.005265\n",
      "EarlyStopping counter: 17 out of 40\n"
     ]
    },
    {
     "name": "stderr",
     "output_type": "stream",
     "text": [
      "  5%|██████                                                                                                                          | 236/5000 [13:42<4:41:01,  3.54s/it]"
     ]
    },
    {
     "name": "stdout",
     "output_type": "stream",
     "text": [
      "[236] train loss: 0.004492 \n",
      "[236] \u001b[94mvalidate\u001b[0m loss: 0.005265\n",
      "EarlyStopping counter: 18 out of 40\n"
     ]
    },
    {
     "name": "stderr",
     "output_type": "stream",
     "text": [
      "  5%|██████                                                                                                                          | 237/5000 [13:46<4:40:28,  3.53s/it]"
     ]
    },
    {
     "name": "stdout",
     "output_type": "stream",
     "text": [
      "[237] train loss: 0.004491 \n",
      "[237] \u001b[94mvalidate\u001b[0m loss: 0.005265\n",
      "EarlyStopping counter: 19 out of 40\n"
     ]
    },
    {
     "name": "stderr",
     "output_type": "stream",
     "text": [
      "  5%|██████                                                                                                                          | 238/5000 [13:49<4:36:18,  3.48s/it]"
     ]
    },
    {
     "name": "stdout",
     "output_type": "stream",
     "text": [
      "[238] train loss: 0.004492 \n",
      "[238] \u001b[94mvalidate\u001b[0m loss: 0.005265\n",
      "EarlyStopping counter: 20 out of 40\n"
     ]
    },
    {
     "name": "stderr",
     "output_type": "stream",
     "text": [
      "  5%|██████                                                                                                                          | 239/5000 [13:52<4:33:57,  3.45s/it]"
     ]
    },
    {
     "name": "stdout",
     "output_type": "stream",
     "text": [
      "[239] train loss: 0.004492 \n",
      "[239] \u001b[94mvalidate\u001b[0m loss: 0.005265\n",
      "EarlyStopping counter: 21 out of 40\n"
     ]
    },
    {
     "name": "stderr",
     "output_type": "stream",
     "text": [
      "  5%|██████▏                                                                                                                         | 240/5000 [13:56<4:38:14,  3.51s/it]"
     ]
    },
    {
     "name": "stdout",
     "output_type": "stream",
     "text": [
      "[240] train loss: 0.004492 \n",
      "[240] \u001b[94mvalidate\u001b[0m loss: 0.005265\n",
      "EarlyStopping counter: 22 out of 40\n"
     ]
    },
    {
     "name": "stderr",
     "output_type": "stream",
     "text": [
      "  5%|██████▏                                                                                                                         | 241/5000 [14:00<4:36:16,  3.48s/it]"
     ]
    },
    {
     "name": "stdout",
     "output_type": "stream",
     "text": [
      "[241] train loss: 0.004492 \n",
      "[241] \u001b[94mvalidate\u001b[0m loss: 0.005265\n",
      "EarlyStopping counter: 23 out of 40\n"
     ]
    },
    {
     "name": "stderr",
     "output_type": "stream",
     "text": [
      "  5%|██████▏                                                                                                                         | 242/5000 [14:03<4:39:23,  3.52s/it]"
     ]
    },
    {
     "name": "stdout",
     "output_type": "stream",
     "text": [
      "[242] train loss: 0.004492 \n",
      "[242] \u001b[94mvalidate\u001b[0m loss: 0.005265\n",
      "EarlyStopping counter: 24 out of 40\n"
     ]
    },
    {
     "name": "stderr",
     "output_type": "stream",
     "text": [
      "  5%|██████▏                                                                                                                         | 243/5000 [14:07<4:39:05,  3.52s/it]"
     ]
    },
    {
     "name": "stdout",
     "output_type": "stream",
     "text": [
      "[243] train loss: 0.004492 \n",
      "[243] \u001b[94mvalidate\u001b[0m loss: 0.005265\n",
      "EarlyStopping counter: 25 out of 40\n"
     ]
    },
    {
     "name": "stderr",
     "output_type": "stream",
     "text": [
      "  5%|██████▏                                                                                                                         | 244/5000 [14:10<4:36:42,  3.49s/it]"
     ]
    },
    {
     "name": "stdout",
     "output_type": "stream",
     "text": [
      "[244] train loss: 0.004491 \n",
      "[244] \u001b[94mvalidate\u001b[0m loss: 0.005265\n",
      "EarlyStopping counter: 26 out of 40\n"
     ]
    },
    {
     "name": "stderr",
     "output_type": "stream",
     "text": [
      "  5%|██████▎                                                                                                                         | 245/5000 [14:14<4:39:19,  3.52s/it]"
     ]
    },
    {
     "name": "stdout",
     "output_type": "stream",
     "text": [
      "[245] train loss: 0.004492 \n",
      "[245] \u001b[94mvalidate\u001b[0m loss: 0.005265\n",
      "EarlyStopping counter: 27 out of 40\n"
     ]
    },
    {
     "name": "stderr",
     "output_type": "stream",
     "text": [
      "  5%|██████▎                                                                                                                         | 246/5000 [14:17<4:43:59,  3.58s/it]"
     ]
    },
    {
     "name": "stdout",
     "output_type": "stream",
     "text": [
      "[246] train loss: 0.004492 \n",
      "[246] \u001b[94mvalidate\u001b[0m loss: 0.005265\n",
      "EarlyStopping counter: 28 out of 40\n"
     ]
    },
    {
     "name": "stderr",
     "output_type": "stream",
     "text": [
      "  5%|██████▎                                                                                                                         | 247/5000 [14:21<4:41:03,  3.55s/it]"
     ]
    },
    {
     "name": "stdout",
     "output_type": "stream",
     "text": [
      "[247] train loss: 0.004492 \n",
      "[247] \u001b[94mvalidate\u001b[0m loss: 0.005265\n",
      "EarlyStopping counter: 29 out of 40\n"
     ]
    },
    {
     "name": "stderr",
     "output_type": "stream",
     "text": [
      "  5%|██████▎                                                                                                                         | 248/5000 [14:24<4:39:58,  3.54s/it]"
     ]
    },
    {
     "name": "stdout",
     "output_type": "stream",
     "text": [
      "[248] train loss: 0.004491 \n",
      "[248] \u001b[94mvalidate\u001b[0m loss: 0.005265\n",
      "EarlyStopping counter: 30 out of 40\n"
     ]
    },
    {
     "name": "stderr",
     "output_type": "stream",
     "text": [
      "  5%|██████▎                                                                                                                         | 249/5000 [14:28<4:44:13,  3.59s/it]"
     ]
    },
    {
     "name": "stdout",
     "output_type": "stream",
     "text": [
      "[249] train loss: 0.004491 \n",
      "[249] \u001b[94mvalidate\u001b[0m loss: 0.005265\n",
      "Validation loss decreased (0.004491 --> 0.004491).  Saving model ...\n"
     ]
    },
    {
     "name": "stderr",
     "output_type": "stream",
     "text": [
      "  5%|██████▍                                                                                                                         | 250/5000 [14:32<4:48:21,  3.64s/it]"
     ]
    },
    {
     "name": "stdout",
     "output_type": "stream",
     "text": [
      "[250] train loss: 0.004492 \n",
      "[250] \u001b[94mvalidate\u001b[0m loss: 0.005265\n",
      "EarlyStopping counter: 1 out of 40\n"
     ]
    },
    {
     "name": "stderr",
     "output_type": "stream",
     "text": [
      "  5%|██████▍                                                                                                                         | 251/5000 [14:35<4:47:31,  3.63s/it]"
     ]
    },
    {
     "name": "stdout",
     "output_type": "stream",
     "text": [
      "[251] train loss: 0.004491 \n",
      "[251] \u001b[94mvalidate\u001b[0m loss: 0.005265\n",
      "EarlyStopping counter: 2 out of 40\n"
     ]
    },
    {
     "name": "stderr",
     "output_type": "stream",
     "text": [
      "  5%|██████▍                                                                                                                         | 252/5000 [14:39<4:44:03,  3.59s/it]"
     ]
    },
    {
     "name": "stdout",
     "output_type": "stream",
     "text": [
      "[252] train loss: 0.004492 \n",
      "[252] \u001b[94mvalidate\u001b[0m loss: 0.005265\n",
      "EarlyStopping counter: 3 out of 40\n"
     ]
    },
    {
     "name": "stderr",
     "output_type": "stream",
     "text": [
      "  5%|██████▍                                                                                                                         | 253/5000 [14:43<4:42:58,  3.58s/it]"
     ]
    },
    {
     "name": "stdout",
     "output_type": "stream",
     "text": [
      "[253] train loss: 0.004491 \n",
      "[253] \u001b[94mvalidate\u001b[0m loss: 0.005265\n",
      "EarlyStopping counter: 4 out of 40\n"
     ]
    },
    {
     "name": "stderr",
     "output_type": "stream",
     "text": [
      "  5%|██████▌                                                                                                                         | 254/5000 [14:46<4:45:43,  3.61s/it]"
     ]
    },
    {
     "name": "stdout",
     "output_type": "stream",
     "text": [
      "[254] train loss: 0.004491 \n",
      "[254] \u001b[94mvalidate\u001b[0m loss: 0.005265\n",
      "EarlyStopping counter: 5 out of 40\n"
     ]
    },
    {
     "name": "stderr",
     "output_type": "stream",
     "text": [
      "  5%|██████▌                                                                                                                         | 255/5000 [14:50<4:40:07,  3.54s/it]"
     ]
    },
    {
     "name": "stdout",
     "output_type": "stream",
     "text": [
      "[255] train loss: 0.004491 \n",
      "[255] \u001b[94mvalidate\u001b[0m loss: 0.005265\n",
      "EarlyStopping counter: 6 out of 40\n"
     ]
    },
    {
     "name": "stderr",
     "output_type": "stream",
     "text": [
      "  5%|██████▌                                                                                                                         | 256/5000 [14:53<4:38:17,  3.52s/it]"
     ]
    },
    {
     "name": "stdout",
     "output_type": "stream",
     "text": [
      "[256] train loss: 0.004492 \n",
      "[256] \u001b[94mvalidate\u001b[0m loss: 0.005265\n",
      "EarlyStopping counter: 7 out of 40\n"
     ]
    },
    {
     "name": "stderr",
     "output_type": "stream",
     "text": [
      "  5%|██████▌                                                                                                                         | 257/5000 [14:57<4:44:47,  3.60s/it]"
     ]
    },
    {
     "name": "stdout",
     "output_type": "stream",
     "text": [
      "[257] train loss: 0.004491 \n",
      "[257] \u001b[94mvalidate\u001b[0m loss: 0.005265\n",
      "EarlyStopping counter: 8 out of 40\n"
     ]
    },
    {
     "name": "stderr",
     "output_type": "stream",
     "text": [
      "  5%|██████▌                                                                                                                         | 258/5000 [15:01<4:52:27,  3.70s/it]"
     ]
    },
    {
     "name": "stdout",
     "output_type": "stream",
     "text": [
      "[258] train loss: 0.004491 \n",
      "[258] \u001b[94mvalidate\u001b[0m loss: 0.005265\n",
      "EarlyStopping counter: 9 out of 40\n"
     ]
    },
    {
     "name": "stderr",
     "output_type": "stream",
     "text": [
      "  5%|██████▋                                                                                                                         | 259/5000 [15:05<4:59:33,  3.79s/it]"
     ]
    },
    {
     "name": "stdout",
     "output_type": "stream",
     "text": [
      "[259] train loss: 0.004492 \n",
      "[259] \u001b[94mvalidate\u001b[0m loss: 0.005265\n",
      "EarlyStopping counter: 10 out of 40\n"
     ]
    },
    {
     "name": "stderr",
     "output_type": "stream",
     "text": [
      "  5%|██████▋                                                                                                                         | 260/5000 [15:09<5:04:55,  3.86s/it]"
     ]
    },
    {
     "name": "stdout",
     "output_type": "stream",
     "text": [
      "[260] train loss: 0.004491 \n",
      "[260] \u001b[94mvalidate\u001b[0m loss: 0.005265\n",
      "EarlyStopping counter: 11 out of 40\n"
     ]
    },
    {
     "name": "stderr",
     "output_type": "stream",
     "text": [
      "  5%|██████▋                                                                                                                         | 261/5000 [15:13<5:06:14,  3.88s/it]"
     ]
    },
    {
     "name": "stdout",
     "output_type": "stream",
     "text": [
      "[261] train loss: 0.004491 \n",
      "[261] \u001b[94mvalidate\u001b[0m loss: 0.005265\n",
      "EarlyStopping counter: 12 out of 40\n"
     ]
    },
    {
     "name": "stderr",
     "output_type": "stream",
     "text": [
      "  5%|██████▋                                                                                                                         | 262/5000 [15:17<5:07:13,  3.89s/it]"
     ]
    },
    {
     "name": "stdout",
     "output_type": "stream",
     "text": [
      "[262] train loss: 0.004491 \n",
      "[262] \u001b[94mvalidate\u001b[0m loss: 0.005265\n",
      "EarlyStopping counter: 13 out of 40\n"
     ]
    },
    {
     "name": "stderr",
     "output_type": "stream",
     "text": [
      "  5%|██████▋                                                                                                                         | 263/5000 [15:21<5:07:58,  3.90s/it]"
     ]
    },
    {
     "name": "stdout",
     "output_type": "stream",
     "text": [
      "[263] train loss: 0.004492 \n",
      "[263] \u001b[94mvalidate\u001b[0m loss: 0.005265\n",
      "EarlyStopping counter: 14 out of 40\n"
     ]
    },
    {
     "name": "stderr",
     "output_type": "stream",
     "text": [
      "  5%|██████▊                                                                                                                         | 264/5000 [15:24<5:04:43,  3.86s/it]"
     ]
    },
    {
     "name": "stdout",
     "output_type": "stream",
     "text": [
      "[264] train loss: 0.004491 \n",
      "[264] \u001b[94mvalidate\u001b[0m loss: 0.005265\n",
      "Validation loss decreased (0.004491 --> 0.004491).  Saving model ...\n"
     ]
    },
    {
     "name": "stderr",
     "output_type": "stream",
     "text": [
      "  5%|██████▊                                                                                                                         | 265/5000 [15:28<5:10:09,  3.93s/it]"
     ]
    },
    {
     "name": "stdout",
     "output_type": "stream",
     "text": [
      "[265] train loss: 0.004491 \n",
      "[265] \u001b[94mvalidate\u001b[0m loss: 0.005265\n",
      "EarlyStopping counter: 1 out of 40\n"
     ]
    },
    {
     "name": "stderr",
     "output_type": "stream",
     "text": [
      "  5%|██████▊                                                                                                                         | 266/5000 [15:32<4:59:46,  3.80s/it]"
     ]
    },
    {
     "name": "stdout",
     "output_type": "stream",
     "text": [
      "[266] train loss: 0.004491 \n",
      "[266] \u001b[94mvalidate\u001b[0m loss: 0.005265\n",
      "EarlyStopping counter: 2 out of 40\n"
     ]
    },
    {
     "name": "stderr",
     "output_type": "stream",
     "text": [
      "  5%|██████▊                                                                                                                         | 267/5000 [15:36<5:02:05,  3.83s/it]"
     ]
    },
    {
     "name": "stdout",
     "output_type": "stream",
     "text": [
      "[267] train loss: 0.004491 \n",
      "[267] \u001b[94mvalidate\u001b[0m loss: 0.005265\n",
      "EarlyStopping counter: 3 out of 40\n"
     ]
    },
    {
     "name": "stderr",
     "output_type": "stream",
     "text": [
      "  5%|██████▊                                                                                                                         | 268/5000 [15:39<4:57:01,  3.77s/it]"
     ]
    },
    {
     "name": "stdout",
     "output_type": "stream",
     "text": [
      "[268] train loss: 0.004492 \n",
      "[268] \u001b[94mvalidate\u001b[0m loss: 0.005265\n",
      "EarlyStopping counter: 4 out of 40\n"
     ]
    },
    {
     "name": "stderr",
     "output_type": "stream",
     "text": [
      "  5%|██████▉                                                                                                                         | 269/5000 [15:43<4:58:52,  3.79s/it]"
     ]
    },
    {
     "name": "stdout",
     "output_type": "stream",
     "text": [
      "[269] train loss: 0.004491 \n",
      "[269] \u001b[94mvalidate\u001b[0m loss: 0.005265\n",
      "EarlyStopping counter: 5 out of 40\n"
     ]
    },
    {
     "name": "stderr",
     "output_type": "stream",
     "text": [
      "  5%|██████▉                                                                                                                         | 270/5000 [15:47<5:02:32,  3.84s/it]"
     ]
    },
    {
     "name": "stdout",
     "output_type": "stream",
     "text": [
      "[270] train loss: 0.004491 \n",
      "[270] \u001b[94mvalidate\u001b[0m loss: 0.005265\n",
      "EarlyStopping counter: 6 out of 40\n"
     ]
    },
    {
     "name": "stderr",
     "output_type": "stream",
     "text": [
      "  5%|██████▉                                                                                                                         | 271/5000 [15:51<5:06:11,  3.88s/it]"
     ]
    },
    {
     "name": "stdout",
     "output_type": "stream",
     "text": [
      "[271] train loss: 0.004491 \n",
      "[271] \u001b[94mvalidate\u001b[0m loss: 0.005265\n",
      "EarlyStopping counter: 7 out of 40\n"
     ]
    },
    {
     "name": "stderr",
     "output_type": "stream",
     "text": [
      "  5%|██████▉                                                                                                                         | 272/5000 [15:55<5:14:06,  3.99s/it]"
     ]
    },
    {
     "name": "stdout",
     "output_type": "stream",
     "text": [
      "[272] train loss: 0.004491 \n",
      "[272] \u001b[94mvalidate\u001b[0m loss: 0.005265\n",
      "EarlyStopping counter: 8 out of 40\n"
     ]
    },
    {
     "name": "stderr",
     "output_type": "stream",
     "text": [
      "  5%|██████▉                                                                                                                         | 273/5000 [15:59<5:09:00,  3.92s/it]"
     ]
    },
    {
     "name": "stdout",
     "output_type": "stream",
     "text": [
      "[273] train loss: 0.004492 \n",
      "[273] \u001b[94mvalidate\u001b[0m loss: 0.005265\n",
      "EarlyStopping counter: 9 out of 40\n"
     ]
    },
    {
     "name": "stderr",
     "output_type": "stream",
     "text": [
      "  5%|███████                                                                                                                         | 274/5000 [16:03<5:07:10,  3.90s/it]"
     ]
    },
    {
     "name": "stdout",
     "output_type": "stream",
     "text": [
      "[274] train loss: 0.004491 \n",
      "[274] \u001b[94mvalidate\u001b[0m loss: 0.005265\n",
      "EarlyStopping counter: 10 out of 40\n"
     ]
    },
    {
     "name": "stderr",
     "output_type": "stream",
     "text": [
      "  6%|███████                                                                                                                         | 275/5000 [16:07<5:10:54,  3.95s/it]"
     ]
    },
    {
     "name": "stdout",
     "output_type": "stream",
     "text": [
      "[275] train loss: 0.004492 \n",
      "[275] \u001b[94mvalidate\u001b[0m loss: 0.005265\n",
      "EarlyStopping counter: 11 out of 40\n"
     ]
    },
    {
     "name": "stderr",
     "output_type": "stream",
     "text": [
      "  6%|███████                                                                                                                         | 276/5000 [16:11<5:11:19,  3.95s/it]"
     ]
    },
    {
     "name": "stdout",
     "output_type": "stream",
     "text": [
      "[276] train loss: 0.004491 \n",
      "[276] \u001b[94mvalidate\u001b[0m loss: 0.005265\n",
      "Validation loss decreased (0.004491 --> 0.004491).  Saving model ...\n"
     ]
    },
    {
     "name": "stderr",
     "output_type": "stream",
     "text": [
      "  6%|███████                                                                                                                         | 277/5000 [16:15<5:10:18,  3.94s/it]"
     ]
    },
    {
     "name": "stdout",
     "output_type": "stream",
     "text": [
      "[277] train loss: 0.004492 \n",
      "[277] \u001b[94mvalidate\u001b[0m loss: 0.005265\n",
      "EarlyStopping counter: 1 out of 40\n"
     ]
    },
    {
     "name": "stderr",
     "output_type": "stream",
     "text": [
      "  6%|███████                                                                                                                         | 278/5000 [16:19<5:04:21,  3.87s/it]"
     ]
    },
    {
     "name": "stdout",
     "output_type": "stream",
     "text": [
      "[278] train loss: 0.004491 \n",
      "[278] \u001b[94mvalidate\u001b[0m loss: 0.005265\n",
      "EarlyStopping counter: 2 out of 40\n"
     ]
    },
    {
     "name": "stderr",
     "output_type": "stream",
     "text": [
      "  6%|███████▏                                                                                                                        | 279/5000 [16:22<4:59:47,  3.81s/it]"
     ]
    },
    {
     "name": "stdout",
     "output_type": "stream",
     "text": [
      "[279] train loss: 0.004492 \n",
      "[279] \u001b[94mvalidate\u001b[0m loss: 0.005265\n",
      "EarlyStopping counter: 3 out of 40\n"
     ]
    },
    {
     "name": "stderr",
     "output_type": "stream",
     "text": [
      "  6%|███████▏                                                                                                                        | 280/5000 [16:26<4:57:17,  3.78s/it]"
     ]
    },
    {
     "name": "stdout",
     "output_type": "stream",
     "text": [
      "[280] train loss: 0.004491 \n",
      "[280] \u001b[94mvalidate\u001b[0m loss: 0.005265\n",
      "EarlyStopping counter: 4 out of 40\n"
     ]
    },
    {
     "name": "stderr",
     "output_type": "stream",
     "text": [
      "  6%|███████▏                                                                                                                        | 281/5000 [16:30<5:03:01,  3.85s/it]"
     ]
    },
    {
     "name": "stdout",
     "output_type": "stream",
     "text": [
      "[281] train loss: 0.004491 \n",
      "[281] \u001b[94mvalidate\u001b[0m loss: 0.005265\n",
      "EarlyStopping counter: 5 out of 40\n"
     ]
    },
    {
     "name": "stderr",
     "output_type": "stream",
     "text": [
      "  6%|███████▏                                                                                                                        | 282/5000 [16:34<4:58:24,  3.79s/it]"
     ]
    },
    {
     "name": "stdout",
     "output_type": "stream",
     "text": [
      "[282] train loss: 0.004492 \n",
      "[282] \u001b[94mvalidate\u001b[0m loss: 0.005265\n",
      "EarlyStopping counter: 6 out of 40\n"
     ]
    },
    {
     "name": "stderr",
     "output_type": "stream",
     "text": [
      "  6%|███████▏                                                                                                                        | 283/5000 [16:37<4:53:16,  3.73s/it]"
     ]
    },
    {
     "name": "stdout",
     "output_type": "stream",
     "text": [
      "[283] train loss: 0.004491 \n",
      "[283] \u001b[94mvalidate\u001b[0m loss: 0.005265\n",
      "EarlyStopping counter: 7 out of 40\n"
     ]
    },
    {
     "name": "stderr",
     "output_type": "stream",
     "text": [
      "  6%|███████▎                                                                                                                        | 284/5000 [16:42<5:04:05,  3.87s/it]"
     ]
    },
    {
     "name": "stdout",
     "output_type": "stream",
     "text": [
      "[284] train loss: 0.004491 \n",
      "[284] \u001b[94mvalidate\u001b[0m loss: 0.005265\n",
      "EarlyStopping counter: 8 out of 40\n"
     ]
    },
    {
     "name": "stderr",
     "output_type": "stream",
     "text": [
      "  6%|███████▎                                                                                                                        | 285/5000 [16:45<5:04:51,  3.88s/it]"
     ]
    },
    {
     "name": "stdout",
     "output_type": "stream",
     "text": [
      "[285] train loss: 0.004492 \n",
      "[285] \u001b[94mvalidate\u001b[0m loss: 0.005265\n",
      "EarlyStopping counter: 9 out of 40\n"
     ]
    },
    {
     "name": "stderr",
     "output_type": "stream",
     "text": [
      "  6%|███████▎                                                                                                                        | 286/5000 [16:49<5:05:20,  3.89s/it]"
     ]
    },
    {
     "name": "stdout",
     "output_type": "stream",
     "text": [
      "[286] train loss: 0.004492 \n",
      "[286] \u001b[94mvalidate\u001b[0m loss: 0.005265\n",
      "EarlyStopping counter: 10 out of 40\n"
     ]
    },
    {
     "name": "stderr",
     "output_type": "stream",
     "text": [
      "  6%|███████▎                                                                                                                        | 287/5000 [16:53<5:06:40,  3.90s/it]"
     ]
    },
    {
     "name": "stdout",
     "output_type": "stream",
     "text": [
      "[287] train loss: 0.004491 \n",
      "[287] \u001b[94mvalidate\u001b[0m loss: 0.005265\n",
      "EarlyStopping counter: 11 out of 40\n"
     ]
    },
    {
     "name": "stderr",
     "output_type": "stream",
     "text": [
      "  6%|███████▎                                                                                                                        | 288/5000 [16:57<5:02:29,  3.85s/it]"
     ]
    },
    {
     "name": "stdout",
     "output_type": "stream",
     "text": [
      "[288] train loss: 0.004491 \n",
      "[288] \u001b[94mvalidate\u001b[0m loss: 0.005265\n",
      "Validation loss decreased (0.004491 --> 0.004491).  Saving model ...\n"
     ]
    },
    {
     "name": "stderr",
     "output_type": "stream",
     "text": [
      "  6%|███████▍                                                                                                                        | 289/5000 [17:01<4:57:33,  3.79s/it]"
     ]
    },
    {
     "name": "stdout",
     "output_type": "stream",
     "text": [
      "[289] train loss: 0.004491 \n",
      "[289] \u001b[94mvalidate\u001b[0m loss: 0.005265\n",
      "EarlyStopping counter: 1 out of 40\n"
     ]
    },
    {
     "name": "stderr",
     "output_type": "stream",
     "text": [
      "  6%|███████▍                                                                                                                        | 290/5000 [17:05<4:59:10,  3.81s/it]"
     ]
    },
    {
     "name": "stdout",
     "output_type": "stream",
     "text": [
      "[290] train loss: 0.004491 \n",
      "[290] \u001b[94mvalidate\u001b[0m loss: 0.005265\n",
      "EarlyStopping counter: 2 out of 40\n"
     ]
    },
    {
     "name": "stderr",
     "output_type": "stream",
     "text": [
      "  6%|███████▍                                                                                                                        | 291/5000 [17:08<5:00:57,  3.83s/it]"
     ]
    },
    {
     "name": "stdout",
     "output_type": "stream",
     "text": [
      "[291] train loss: 0.004491 \n",
      "[291] \u001b[94mvalidate\u001b[0m loss: 0.005265\n",
      "EarlyStopping counter: 3 out of 40\n"
     ]
    },
    {
     "name": "stderr",
     "output_type": "stream",
     "text": [
      "  6%|███████▍                                                                                                                        | 292/5000 [17:12<5:04:26,  3.88s/it]"
     ]
    },
    {
     "name": "stdout",
     "output_type": "stream",
     "text": [
      "[292] train loss: 0.004491 \n",
      "[292] \u001b[94mvalidate\u001b[0m loss: 0.005265\n",
      "EarlyStopping counter: 4 out of 40\n"
     ]
    },
    {
     "name": "stderr",
     "output_type": "stream",
     "text": [
      "  6%|███████▌                                                                                                                        | 293/5000 [17:16<5:05:14,  3.89s/it]"
     ]
    },
    {
     "name": "stdout",
     "output_type": "stream",
     "text": [
      "[293] train loss: 0.004492 \n",
      "[293] \u001b[94mvalidate\u001b[0m loss: 0.005265\n",
      "EarlyStopping counter: 5 out of 40\n"
     ]
    },
    {
     "name": "stderr",
     "output_type": "stream",
     "text": [
      "  6%|███████▌                                                                                                                        | 294/5000 [17:20<5:02:41,  3.86s/it]"
     ]
    },
    {
     "name": "stdout",
     "output_type": "stream",
     "text": [
      "[294] train loss: 0.004491 \n",
      "[294] \u001b[94mvalidate\u001b[0m loss: 0.005265\n",
      "EarlyStopping counter: 6 out of 40\n"
     ]
    },
    {
     "name": "stderr",
     "output_type": "stream",
     "text": [
      "  6%|███████▌                                                                                                                        | 295/5000 [17:24<5:01:11,  3.84s/it]"
     ]
    },
    {
     "name": "stdout",
     "output_type": "stream",
     "text": [
      "[295] train loss: 0.004491 \n",
      "[295] \u001b[94mvalidate\u001b[0m loss: 0.005265\n",
      "EarlyStopping counter: 7 out of 40\n"
     ]
    },
    {
     "name": "stderr",
     "output_type": "stream",
     "text": [
      "  6%|███████▌                                                                                                                        | 296/5000 [17:28<5:00:11,  3.83s/it]"
     ]
    },
    {
     "name": "stdout",
     "output_type": "stream",
     "text": [
      "[296] train loss: 0.004492 \n",
      "[296] \u001b[94mvalidate\u001b[0m loss: 0.005265\n",
      "EarlyStopping counter: 8 out of 40\n"
     ]
    },
    {
     "name": "stderr",
     "output_type": "stream",
     "text": [
      "  6%|███████▌                                                                                                                        | 297/5000 [17:32<5:15:10,  4.02s/it]"
     ]
    },
    {
     "name": "stdout",
     "output_type": "stream",
     "text": [
      "[297] train loss: 0.004491 \n",
      "[297] \u001b[94mvalidate\u001b[0m loss: 0.005265\n",
      "EarlyStopping counter: 9 out of 40\n"
     ]
    },
    {
     "name": "stderr",
     "output_type": "stream",
     "text": [
      "  6%|███████▋                                                                                                                        | 298/5000 [17:36<5:15:22,  4.02s/it]"
     ]
    },
    {
     "name": "stdout",
     "output_type": "stream",
     "text": [
      "[298] train loss: 0.004491 \n",
      "[298] \u001b[94mvalidate\u001b[0m loss: 0.005265\n",
      "EarlyStopping counter: 10 out of 40\n"
     ]
    },
    {
     "name": "stderr",
     "output_type": "stream",
     "text": [
      "  6%|███████▋                                                                                                                        | 299/5000 [17:40<5:15:22,  4.03s/it]"
     ]
    },
    {
     "name": "stdout",
     "output_type": "stream",
     "text": [
      "[299] train loss: 0.004491 \n",
      "[299] \u001b[94mvalidate\u001b[0m loss: 0.005265\n",
      "EarlyStopping counter: 11 out of 40\n"
     ]
    },
    {
     "name": "stderr",
     "output_type": "stream",
     "text": [
      "  6%|███████▋                                                                                                                        | 300/5000 [17:44<5:08:14,  3.93s/it]"
     ]
    },
    {
     "name": "stdout",
     "output_type": "stream",
     "text": [
      "[300] train loss: 0.004492 \n",
      "[300] \u001b[94mvalidate\u001b[0m loss: 0.005265\n",
      "EarlyStopping counter: 12 out of 40\n"
     ]
    },
    {
     "name": "stderr",
     "output_type": "stream",
     "text": [
      "  6%|███████▋                                                                                                                        | 301/5000 [17:46<4:34:39,  3.51s/it]"
     ]
    },
    {
     "name": "stdout",
     "output_type": "stream",
     "text": [
      "[301] train loss: 0.004492 \n",
      "[301] \u001b[94mvalidate\u001b[0m loss: 0.005265\n",
      "EarlyStopping counter: 13 out of 40\n"
     ]
    },
    {
     "name": "stderr",
     "output_type": "stream",
     "text": [
      "  6%|███████▋                                                                                                                        | 302/5000 [17:50<4:45:19,  3.64s/it]"
     ]
    },
    {
     "name": "stdout",
     "output_type": "stream",
     "text": [
      "[302] train loss: 0.004491 \n",
      "[302] \u001b[94mvalidate\u001b[0m loss: 0.005265\n",
      "EarlyStopping counter: 14 out of 40\n"
     ]
    },
    {
     "name": "stderr",
     "output_type": "stream",
     "text": [
      "  6%|███████▊                                                                                                                        | 303/5000 [17:54<4:46:23,  3.66s/it]"
     ]
    },
    {
     "name": "stdout",
     "output_type": "stream",
     "text": [
      "[303] train loss: 0.004491 \n",
      "[303] \u001b[94mvalidate\u001b[0m loss: 0.005265\n",
      "EarlyStopping counter: 15 out of 40\n"
     ]
    },
    {
     "name": "stderr",
     "output_type": "stream",
     "text": [
      "  6%|███████▊                                                                                                                        | 304/5000 [17:57<4:23:18,  3.36s/it]"
     ]
    },
    {
     "name": "stdout",
     "output_type": "stream",
     "text": [
      "[304] train loss: 0.004491 \n",
      "[304] \u001b[94mvalidate\u001b[0m loss: 0.005265\n",
      "EarlyStopping counter: 16 out of 40\n"
     ]
    },
    {
     "name": "stderr",
     "output_type": "stream",
     "text": [
      "  6%|███████▊                                                                                                                        | 305/5000 [18:01<4:46:35,  3.66s/it]"
     ]
    },
    {
     "name": "stdout",
     "output_type": "stream",
     "text": [
      "[305] train loss: 0.004491 \n",
      "[305] \u001b[94mvalidate\u001b[0m loss: 0.005265\n",
      "EarlyStopping counter: 17 out of 40\n"
     ]
    },
    {
     "name": "stderr",
     "output_type": "stream",
     "text": [
      "  6%|███████▊                                                                                                                        | 306/5000 [18:05<4:50:37,  3.71s/it]"
     ]
    },
    {
     "name": "stdout",
     "output_type": "stream",
     "text": [
      "[306] train loss: 0.004491 \n",
      "[306] \u001b[94mvalidate\u001b[0m loss: 0.005265\n",
      "EarlyStopping counter: 18 out of 40\n"
     ]
    },
    {
     "name": "stderr",
     "output_type": "stream",
     "text": [
      "  6%|███████▊                                                                                                                        | 307/5000 [18:09<4:56:48,  3.79s/it]"
     ]
    },
    {
     "name": "stdout",
     "output_type": "stream",
     "text": [
      "[307] train loss: 0.004491 \n",
      "[307] \u001b[94mvalidate\u001b[0m loss: 0.005265\n",
      "EarlyStopping counter: 19 out of 40\n"
     ]
    },
    {
     "name": "stderr",
     "output_type": "stream",
     "text": [
      "  6%|███████▉                                                                                                                        | 308/5000 [18:13<5:00:55,  3.85s/it]"
     ]
    },
    {
     "name": "stdout",
     "output_type": "stream",
     "text": [
      "[308] train loss: 0.004491 \n",
      "[308] \u001b[94mvalidate\u001b[0m loss: 0.005265\n",
      "EarlyStopping counter: 20 out of 40\n"
     ]
    },
    {
     "name": "stderr",
     "output_type": "stream",
     "text": [
      "  6%|███████▉                                                                                                                        | 309/5000 [18:17<5:01:42,  3.86s/it]"
     ]
    },
    {
     "name": "stdout",
     "output_type": "stream",
     "text": [
      "[309] train loss: 0.004492 \n",
      "[309] \u001b[94mvalidate\u001b[0m loss: 0.005265\n",
      "EarlyStopping counter: 21 out of 40\n"
     ]
    },
    {
     "name": "stderr",
     "output_type": "stream",
     "text": [
      "  6%|███████▉                                                                                                                        | 310/5000 [18:21<5:03:12,  3.88s/it]"
     ]
    },
    {
     "name": "stdout",
     "output_type": "stream",
     "text": [
      "[310] train loss: 0.004491 \n",
      "[310] \u001b[94mvalidate\u001b[0m loss: 0.005265\n",
      "EarlyStopping counter: 22 out of 40\n"
     ]
    },
    {
     "name": "stderr",
     "output_type": "stream",
     "text": [
      "  6%|███████▉                                                                                                                        | 311/5000 [18:24<4:57:28,  3.81s/it]"
     ]
    },
    {
     "name": "stdout",
     "output_type": "stream",
     "text": [
      "[311] train loss: 0.004491 \n",
      "[311] \u001b[94mvalidate\u001b[0m loss: 0.005265\n",
      "EarlyStopping counter: 23 out of 40\n"
     ]
    },
    {
     "name": "stderr",
     "output_type": "stream",
     "text": [
      "  6%|███████▉                                                                                                                        | 312/5000 [18:28<4:54:59,  3.78s/it]"
     ]
    },
    {
     "name": "stdout",
     "output_type": "stream",
     "text": [
      "[312] train loss: 0.004491 \n",
      "[312] \u001b[94mvalidate\u001b[0m loss: 0.005265\n",
      "EarlyStopping counter: 24 out of 40\n"
     ]
    },
    {
     "name": "stderr",
     "output_type": "stream",
     "text": [
      "  6%|████████                                                                                                                        | 313/5000 [18:32<4:54:32,  3.77s/it]"
     ]
    },
    {
     "name": "stdout",
     "output_type": "stream",
     "text": [
      "[313] train loss: 0.004491 \n",
      "[313] \u001b[94mvalidate\u001b[0m loss: 0.005265\n",
      "EarlyStopping counter: 25 out of 40\n"
     ]
    },
    {
     "name": "stderr",
     "output_type": "stream",
     "text": [
      "  6%|████████                                                                                                                        | 314/5000 [18:36<4:57:36,  3.81s/it]"
     ]
    },
    {
     "name": "stdout",
     "output_type": "stream",
     "text": [
      "[314] train loss: 0.004491 \n",
      "[314] \u001b[94mvalidate\u001b[0m loss: 0.005265\n",
      "EarlyStopping counter: 26 out of 40\n"
     ]
    },
    {
     "name": "stderr",
     "output_type": "stream",
     "text": [
      "  6%|████████                                                                                                                        | 315/5000 [18:40<5:03:49,  3.89s/it]"
     ]
    },
    {
     "name": "stdout",
     "output_type": "stream",
     "text": [
      "[315] train loss: 0.004491 \n",
      "[315] \u001b[94mvalidate\u001b[0m loss: 0.005265\n",
      "EarlyStopping counter: 27 out of 40\n"
     ]
    },
    {
     "name": "stderr",
     "output_type": "stream",
     "text": [
      "  6%|████████                                                                                                                        | 316/5000 [18:44<4:59:55,  3.84s/it]"
     ]
    },
    {
     "name": "stdout",
     "output_type": "stream",
     "text": [
      "[316] train loss: 0.004491 \n",
      "[316] \u001b[94mvalidate\u001b[0m loss: 0.005265\n",
      "Validation loss decreased (0.004491 --> 0.004491).  Saving model ...\n"
     ]
    },
    {
     "name": "stderr",
     "output_type": "stream",
     "text": [
      "  6%|████████                                                                                                                        | 317/5000 [18:47<4:56:24,  3.80s/it]"
     ]
    },
    {
     "name": "stdout",
     "output_type": "stream",
     "text": [
      "[317] train loss: 0.004491 \n",
      "[317] \u001b[94mvalidate\u001b[0m loss: 0.005265\n",
      "EarlyStopping counter: 1 out of 40\n"
     ]
    },
    {
     "name": "stderr",
     "output_type": "stream",
     "text": [
      "  6%|████████▏                                                                                                                       | 318/5000 [18:49<4:15:15,  3.27s/it]"
     ]
    },
    {
     "name": "stdout",
     "output_type": "stream",
     "text": [
      "[318] train loss: 0.004492 \n",
      "[318] \u001b[94mvalidate\u001b[0m loss: 0.005265\n",
      "EarlyStopping counter: 2 out of 40\n"
     ]
    },
    {
     "name": "stderr",
     "output_type": "stream",
     "text": [
      "  6%|████████▏                                                                                                                       | 319/5000 [18:51<3:46:37,  2.90s/it]"
     ]
    },
    {
     "name": "stdout",
     "output_type": "stream",
     "text": [
      "[319] train loss: 0.004491 \n",
      "[319] \u001b[94mvalidate\u001b[0m loss: 0.005265\n",
      "EarlyStopping counter: 3 out of 40\n"
     ]
    },
    {
     "name": "stderr",
     "output_type": "stream",
     "text": [
      "  6%|████████▏                                                                                                                       | 320/5000 [18:54<3:39:16,  2.81s/it]"
     ]
    },
    {
     "name": "stdout",
     "output_type": "stream",
     "text": [
      "[320] train loss: 0.004492 \n",
      "[320] \u001b[94mvalidate\u001b[0m loss: 0.005265\n",
      "EarlyStopping counter: 4 out of 40\n"
     ]
    },
    {
     "name": "stderr",
     "output_type": "stream",
     "text": [
      "  6%|████████▏                                                                                                                       | 321/5000 [18:58<4:07:16,  3.17s/it]"
     ]
    },
    {
     "name": "stdout",
     "output_type": "stream",
     "text": [
      "[321] train loss: 0.004491 \n",
      "[321] \u001b[94mvalidate\u001b[0m loss: 0.005265\n",
      "EarlyStopping counter: 5 out of 40\n"
     ]
    },
    {
     "name": "stderr",
     "output_type": "stream",
     "text": [
      "  6%|████████▏                                                                                                                       | 322/5000 [19:02<4:28:21,  3.44s/it]"
     ]
    },
    {
     "name": "stdout",
     "output_type": "stream",
     "text": [
      "[322] train loss: 0.004491 \n",
      "[322] \u001b[94mvalidate\u001b[0m loss: 0.005265\n",
      "EarlyStopping counter: 6 out of 40\n"
     ]
    },
    {
     "name": "stderr",
     "output_type": "stream",
     "text": [
      "  6%|████████▎                                                                                                                       | 323/5000 [19:06<4:39:22,  3.58s/it]"
     ]
    },
    {
     "name": "stdout",
     "output_type": "stream",
     "text": [
      "[323] train loss: 0.004491 \n",
      "[323] \u001b[94mvalidate\u001b[0m loss: 0.005265\n",
      "EarlyStopping counter: 7 out of 40\n"
     ]
    },
    {
     "name": "stderr",
     "output_type": "stream",
     "text": [
      "  6%|████████▎                                                                                                                       | 324/5000 [19:10<4:48:17,  3.70s/it]"
     ]
    },
    {
     "name": "stdout",
     "output_type": "stream",
     "text": [
      "[324] train loss: 0.004491 \n",
      "[324] \u001b[94mvalidate\u001b[0m loss: 0.005265\n",
      "Validation loss decreased (0.004491 --> 0.004491).  Saving model ...\n"
     ]
    },
    {
     "name": "stderr",
     "output_type": "stream",
     "text": [
      "  6%|████████▎                                                                                                                       | 325/5000 [19:14<4:50:44,  3.73s/it]"
     ]
    },
    {
     "name": "stdout",
     "output_type": "stream",
     "text": [
      "[325] train loss: 0.004491 \n",
      "[325] \u001b[94mvalidate\u001b[0m loss: 0.005265\n",
      "EarlyStopping counter: 1 out of 40\n"
     ]
    },
    {
     "name": "stderr",
     "output_type": "stream",
     "text": [
      "  7%|████████▎                                                                                                                       | 326/5000 [19:18<4:59:45,  3.85s/it]"
     ]
    },
    {
     "name": "stdout",
     "output_type": "stream",
     "text": [
      "[326] train loss: 0.004491 \n",
      "[326] \u001b[94mvalidate\u001b[0m loss: 0.005265\n",
      "EarlyStopping counter: 2 out of 40\n"
     ]
    },
    {
     "name": "stderr",
     "output_type": "stream",
     "text": [
      "  7%|████████▎                                                                                                                       | 327/5000 [19:22<4:56:57,  3.81s/it]"
     ]
    },
    {
     "name": "stdout",
     "output_type": "stream",
     "text": [
      "[327] train loss: 0.004491 \n",
      "[327] \u001b[94mvalidate\u001b[0m loss: 0.005265\n",
      "EarlyStopping counter: 3 out of 40\n"
     ]
    },
    {
     "name": "stderr",
     "output_type": "stream",
     "text": [
      "  7%|████████▍                                                                                                                       | 328/5000 [19:26<5:00:21,  3.86s/it]"
     ]
    },
    {
     "name": "stdout",
     "output_type": "stream",
     "text": [
      "[328] train loss: 0.004491 \n",
      "[328] \u001b[94mvalidate\u001b[0m loss: 0.005265\n",
      "EarlyStopping counter: 4 out of 40\n"
     ]
    },
    {
     "name": "stderr",
     "output_type": "stream",
     "text": [
      "  7%|████████▍                                                                                                                       | 329/5000 [19:30<5:13:01,  4.02s/it]"
     ]
    },
    {
     "name": "stdout",
     "output_type": "stream",
     "text": [
      "[329] train loss: 0.004491 \n",
      "[329] \u001b[94mvalidate\u001b[0m loss: 0.005265\n",
      "EarlyStopping counter: 5 out of 40\n"
     ]
    },
    {
     "name": "stderr",
     "output_type": "stream",
     "text": [
      "  7%|████████▍                                                                                                                       | 330/5000 [19:34<5:12:24,  4.01s/it]"
     ]
    },
    {
     "name": "stdout",
     "output_type": "stream",
     "text": [
      "[330] train loss: 0.004491 \n",
      "[330] \u001b[94mvalidate\u001b[0m loss: 0.005265\n",
      "EarlyStopping counter: 6 out of 40\n"
     ]
    },
    {
     "name": "stderr",
     "output_type": "stream",
     "text": [
      "  7%|████████▍                                                                                                                       | 331/5000 [19:38<5:10:28,  3.99s/it]"
     ]
    },
    {
     "name": "stdout",
     "output_type": "stream",
     "text": [
      "[331] train loss: 0.004491 \n",
      "[331] \u001b[94mvalidate\u001b[0m loss: 0.005265\n",
      "EarlyStopping counter: 7 out of 40\n"
     ]
    },
    {
     "name": "stderr",
     "output_type": "stream",
     "text": [
      "  7%|████████▍                                                                                                                       | 332/5000 [19:42<5:11:32,  4.00s/it]"
     ]
    },
    {
     "name": "stdout",
     "output_type": "stream",
     "text": [
      "[332] train loss: 0.004491 \n",
      "[332] \u001b[94mvalidate\u001b[0m loss: 0.005265\n",
      "EarlyStopping counter: 8 out of 40\n"
     ]
    },
    {
     "name": "stderr",
     "output_type": "stream",
     "text": [
      "  7%|████████▌                                                                                                                       | 333/5000 [19:46<5:10:24,  3.99s/it]"
     ]
    },
    {
     "name": "stdout",
     "output_type": "stream",
     "text": [
      "[333] train loss: 0.004491 \n",
      "[333] \u001b[94mvalidate\u001b[0m loss: 0.005265\n",
      "EarlyStopping counter: 9 out of 40\n"
     ]
    },
    {
     "name": "stderr",
     "output_type": "stream",
     "text": [
      "  7%|████████▌                                                                                                                       | 334/5000 [19:50<5:12:36,  4.02s/it]"
     ]
    },
    {
     "name": "stdout",
     "output_type": "stream",
     "text": [
      "[334] train loss: 0.004491 \n",
      "[334] \u001b[94mvalidate\u001b[0m loss: 0.005265\n",
      "EarlyStopping counter: 10 out of 40\n"
     ]
    },
    {
     "name": "stderr",
     "output_type": "stream",
     "text": [
      "  7%|████████▌                                                                                                                       | 335/5000 [19:54<5:05:59,  3.94s/it]"
     ]
    },
    {
     "name": "stdout",
     "output_type": "stream",
     "text": [
      "[335] train loss: 0.004491 \n",
      "[335] \u001b[94mvalidate\u001b[0m loss: 0.005265\n",
      "EarlyStopping counter: 11 out of 40\n"
     ]
    },
    {
     "name": "stderr",
     "output_type": "stream",
     "text": [
      "  7%|████████▌                                                                                                                       | 336/5000 [19:58<5:05:29,  3.93s/it]"
     ]
    },
    {
     "name": "stdout",
     "output_type": "stream",
     "text": [
      "[336] train loss: 0.004491 \n",
      "[336] \u001b[94mvalidate\u001b[0m loss: 0.005265\n",
      "EarlyStopping counter: 12 out of 40\n"
     ]
    },
    {
     "name": "stderr",
     "output_type": "stream",
     "text": [
      "  7%|████████▋                                                                                                                       | 337/5000 [20:02<5:16:37,  4.07s/it]"
     ]
    },
    {
     "name": "stdout",
     "output_type": "stream",
     "text": [
      "[337] train loss: 0.004491 \n",
      "[337] \u001b[94mvalidate\u001b[0m loss: 0.005265\n",
      "EarlyStopping counter: 13 out of 40\n"
     ]
    },
    {
     "name": "stderr",
     "output_type": "stream",
     "text": [
      "  7%|████████▋                                                                                                                       | 338/5000 [20:06<5:13:37,  4.04s/it]"
     ]
    },
    {
     "name": "stdout",
     "output_type": "stream",
     "text": [
      "[338] train loss: 0.004491 \n",
      "[338] \u001b[94mvalidate\u001b[0m loss: 0.005265\n",
      "EarlyStopping counter: 14 out of 40\n"
     ]
    },
    {
     "name": "stderr",
     "output_type": "stream",
     "text": [
      "  7%|████████▋                                                                                                                       | 339/5000 [20:10<5:13:59,  4.04s/it]"
     ]
    },
    {
     "name": "stdout",
     "output_type": "stream",
     "text": [
      "[339] train loss: 0.004491 \n",
      "[339] \u001b[94mvalidate\u001b[0m loss: 0.005265\n",
      "EarlyStopping counter: 15 out of 40\n"
     ]
    },
    {
     "name": "stderr",
     "output_type": "stream",
     "text": [
      "  7%|████████▋                                                                                                                       | 340/5000 [20:14<5:11:28,  4.01s/it]"
     ]
    },
    {
     "name": "stdout",
     "output_type": "stream",
     "text": [
      "[340] train loss: 0.004491 \n",
      "[340] \u001b[94mvalidate\u001b[0m loss: 0.005265\n",
      "EarlyStopping counter: 16 out of 40\n"
     ]
    },
    {
     "name": "stderr",
     "output_type": "stream",
     "text": [
      "  7%|████████▋                                                                                                                       | 341/5000 [20:18<5:12:04,  4.02s/it]"
     ]
    },
    {
     "name": "stdout",
     "output_type": "stream",
     "text": [
      "[341] train loss: 0.004491 \n",
      "[341] \u001b[94mvalidate\u001b[0m loss: 0.005265\n",
      "EarlyStopping counter: 17 out of 40\n"
     ]
    },
    {
     "name": "stderr",
     "output_type": "stream",
     "text": [
      "  7%|████████▊                                                                                                                       | 342/5000 [20:22<5:06:00,  3.94s/it]"
     ]
    },
    {
     "name": "stdout",
     "output_type": "stream",
     "text": [
      "[342] train loss: 0.004491 \n",
      "[342] \u001b[94mvalidate\u001b[0m loss: 0.005265\n",
      "EarlyStopping counter: 18 out of 40\n"
     ]
    },
    {
     "name": "stderr",
     "output_type": "stream",
     "text": [
      "  7%|████████▊                                                                                                                       | 343/5000 [20:26<5:02:14,  3.89s/it]"
     ]
    },
    {
     "name": "stdout",
     "output_type": "stream",
     "text": [
      "[343] train loss: 0.004491 \n",
      "[343] \u001b[94mvalidate\u001b[0m loss: 0.005265\n",
      "EarlyStopping counter: 19 out of 40\n"
     ]
    },
    {
     "name": "stderr",
     "output_type": "stream",
     "text": [
      "  7%|████████▊                                                                                                                       | 344/5000 [20:30<5:04:39,  3.93s/it]"
     ]
    },
    {
     "name": "stdout",
     "output_type": "stream",
     "text": [
      "[344] train loss: 0.004491 \n",
      "[344] \u001b[94mvalidate\u001b[0m loss: 0.005265\n",
      "EarlyStopping counter: 20 out of 40\n"
     ]
    },
    {
     "name": "stderr",
     "output_type": "stream",
     "text": [
      "  7%|████████▊                                                                                                                       | 345/5000 [20:34<5:05:47,  3.94s/it]"
     ]
    },
    {
     "name": "stdout",
     "output_type": "stream",
     "text": [
      "[345] train loss: 0.004491 \n",
      "[345] \u001b[94mvalidate\u001b[0m loss: 0.005265\n",
      "EarlyStopping counter: 21 out of 40\n"
     ]
    },
    {
     "name": "stderr",
     "output_type": "stream",
     "text": [
      "  7%|████████▊                                                                                                                       | 346/5000 [20:38<5:13:07,  4.04s/it]"
     ]
    },
    {
     "name": "stdout",
     "output_type": "stream",
     "text": [
      "[346] train loss: 0.004491 \n",
      "[346] \u001b[94mvalidate\u001b[0m loss: 0.005265\n",
      "EarlyStopping counter: 22 out of 40\n"
     ]
    },
    {
     "name": "stderr",
     "output_type": "stream",
     "text": [
      "  7%|████████▉                                                                                                                       | 347/5000 [20:42<5:12:33,  4.03s/it]"
     ]
    },
    {
     "name": "stdout",
     "output_type": "stream",
     "text": [
      "[347] train loss: 0.004491 \n",
      "[347] \u001b[94mvalidate\u001b[0m loss: 0.005265\n",
      "EarlyStopping counter: 23 out of 40\n"
     ]
    },
    {
     "name": "stderr",
     "output_type": "stream",
     "text": [
      "  7%|████████▉                                                                                                                       | 348/5000 [20:46<5:09:33,  3.99s/it]"
     ]
    },
    {
     "name": "stdout",
     "output_type": "stream",
     "text": [
      "[348] train loss: 0.004491 \n",
      "[348] \u001b[94mvalidate\u001b[0m loss: 0.005265\n",
      "EarlyStopping counter: 24 out of 40\n"
     ]
    },
    {
     "name": "stderr",
     "output_type": "stream",
     "text": [
      "  7%|████████▉                                                                                                                       | 349/5000 [20:50<5:09:53,  4.00s/it]"
     ]
    },
    {
     "name": "stdout",
     "output_type": "stream",
     "text": [
      "[349] train loss: 0.004491 \n",
      "[349] \u001b[94mvalidate\u001b[0m loss: 0.005265\n",
      "EarlyStopping counter: 25 out of 40\n"
     ]
    },
    {
     "name": "stderr",
     "output_type": "stream",
     "text": [
      "  7%|████████▉                                                                                                                       | 350/5000 [20:54<5:08:26,  3.98s/it]"
     ]
    },
    {
     "name": "stdout",
     "output_type": "stream",
     "text": [
      "[350] train loss: 0.004491 \n",
      "[350] \u001b[94mvalidate\u001b[0m loss: 0.005265\n",
      "EarlyStopping counter: 26 out of 40\n"
     ]
    },
    {
     "name": "stderr",
     "output_type": "stream",
     "text": [
      "  7%|████████▉                                                                                                                       | 351/5000 [20:58<5:09:54,  4.00s/it]"
     ]
    },
    {
     "name": "stdout",
     "output_type": "stream",
     "text": [
      "[351] train loss: 0.004491 \n",
      "[351] \u001b[94mvalidate\u001b[0m loss: 0.005265\n",
      "EarlyStopping counter: 27 out of 40\n"
     ]
    },
    {
     "name": "stderr",
     "output_type": "stream",
     "text": [
      "  7%|█████████                                                                                                                       | 352/5000 [21:02<5:08:41,  3.98s/it]"
     ]
    },
    {
     "name": "stdout",
     "output_type": "stream",
     "text": [
      "[352] train loss: 0.004491 \n",
      "[352] \u001b[94mvalidate\u001b[0m loss: 0.005265\n",
      "EarlyStopping counter: 28 out of 40\n"
     ]
    },
    {
     "name": "stderr",
     "output_type": "stream",
     "text": [
      "  7%|█████████                                                                                                                       | 353/5000 [21:06<5:06:15,  3.95s/it]"
     ]
    },
    {
     "name": "stdout",
     "output_type": "stream",
     "text": [
      "[353] train loss: 0.004491 \n",
      "[353] \u001b[94mvalidate\u001b[0m loss: 0.005265\n",
      "EarlyStopping counter: 29 out of 40\n"
     ]
    },
    {
     "name": "stderr",
     "output_type": "stream",
     "text": [
      "  7%|█████████                                                                                                                       | 354/5000 [21:09<5:01:10,  3.89s/it]"
     ]
    },
    {
     "name": "stdout",
     "output_type": "stream",
     "text": [
      "[354] train loss: 0.004491 \n",
      "[354] \u001b[94mvalidate\u001b[0m loss: 0.005265\n",
      "EarlyStopping counter: 30 out of 40\n"
     ]
    },
    {
     "name": "stderr",
     "output_type": "stream",
     "text": [
      "  7%|█████████                                                                                                                       | 355/5000 [21:13<5:01:48,  3.90s/it]"
     ]
    },
    {
     "name": "stdout",
     "output_type": "stream",
     "text": [
      "[355] train loss: 0.004491 \n",
      "[355] \u001b[94mvalidate\u001b[0m loss: 0.005265\n",
      "EarlyStopping counter: 31 out of 40\n"
     ]
    },
    {
     "name": "stderr",
     "output_type": "stream",
     "text": [
      "  7%|█████████                                                                                                                       | 356/5000 [21:17<4:55:55,  3.82s/it]"
     ]
    },
    {
     "name": "stdout",
     "output_type": "stream",
     "text": [
      "[356] train loss: 0.004491 \n",
      "[356] \u001b[94mvalidate\u001b[0m loss: 0.005265\n",
      "EarlyStopping counter: 32 out of 40\n"
     ]
    },
    {
     "name": "stderr",
     "output_type": "stream",
     "text": [
      "  7%|█████████▏                                                                                                                      | 357/5000 [21:21<4:57:27,  3.84s/it]"
     ]
    },
    {
     "name": "stdout",
     "output_type": "stream",
     "text": [
      "[357] train loss: 0.004491 \n",
      "[357] \u001b[94mvalidate\u001b[0m loss: 0.005265\n",
      "EarlyStopping counter: 33 out of 40\n"
     ]
    },
    {
     "name": "stderr",
     "output_type": "stream",
     "text": [
      "  7%|█████████▏                                                                                                                      | 358/5000 [21:25<4:57:43,  3.85s/it]"
     ]
    },
    {
     "name": "stdout",
     "output_type": "stream",
     "text": [
      "[358] train loss: 0.004491 \n",
      "[358] \u001b[94mvalidate\u001b[0m loss: 0.005265\n",
      "EarlyStopping counter: 34 out of 40\n"
     ]
    },
    {
     "name": "stderr",
     "output_type": "stream",
     "text": [
      "  7%|█████████▏                                                                                                                      | 359/5000 [21:28<4:58:31,  3.86s/it]"
     ]
    },
    {
     "name": "stdout",
     "output_type": "stream",
     "text": [
      "[359] train loss: 0.004491 \n",
      "[359] \u001b[94mvalidate\u001b[0m loss: 0.005265\n",
      "EarlyStopping counter: 35 out of 40\n"
     ]
    },
    {
     "name": "stderr",
     "output_type": "stream",
     "text": [
      "  7%|█████████▏                                                                                                                      | 360/5000 [21:33<5:05:58,  3.96s/it]"
     ]
    },
    {
     "name": "stdout",
     "output_type": "stream",
     "text": [
      "[360] train loss: 0.004491 \n",
      "[360] \u001b[94mvalidate\u001b[0m loss: 0.005265\n",
      "EarlyStopping counter: 36 out of 40\n"
     ]
    },
    {
     "name": "stderr",
     "output_type": "stream",
     "text": [
      "  7%|█████████▏                                                                                                                      | 361/5000 [21:37<5:03:27,  3.92s/it]"
     ]
    },
    {
     "name": "stdout",
     "output_type": "stream",
     "text": [
      "[361] train loss: 0.004491 \n",
      "[361] \u001b[94mvalidate\u001b[0m loss: 0.005265\n",
      "EarlyStopping counter: 37 out of 40\n"
     ]
    },
    {
     "name": "stderr",
     "output_type": "stream",
     "text": [
      "  7%|█████████▎                                                                                                                      | 362/5000 [21:40<4:59:41,  3.88s/it]"
     ]
    },
    {
     "name": "stdout",
     "output_type": "stream",
     "text": [
      "[362] train loss: 0.004491 \n",
      "[362] \u001b[94mvalidate\u001b[0m loss: 0.005265\n",
      "EarlyStopping counter: 38 out of 40\n"
     ]
    },
    {
     "name": "stderr",
     "output_type": "stream",
     "text": [
      "  7%|█████████▎                                                                                                                      | 363/5000 [21:44<5:02:10,  3.91s/it]"
     ]
    },
    {
     "name": "stdout",
     "output_type": "stream",
     "text": [
      "[363] train loss: 0.004491 \n",
      "[363] \u001b[94mvalidate\u001b[0m loss: 0.005265\n",
      "EarlyStopping counter: 39 out of 40\n"
     ]
    },
    {
     "name": "stderr",
     "output_type": "stream",
     "text": [
      "  7%|█████████▎                                                                                                                      | 363/5000 [21:48<4:38:35,  3.60s/it]"
     ]
    },
    {
     "name": "stdout",
     "output_type": "stream",
     "text": [
      "[364] train loss: 0.004491 \n",
      "[364] \u001b[94mvalidate\u001b[0m loss: 0.005265\n",
      "EarlyStopping counter: 40 out of 40\n",
      "Early stopping\n"
     ]
    },
    {
     "name": "stderr",
     "output_type": "stream",
     "text": [
      "\n"
     ]
    },
    {
     "name": "stdout",
     "output_type": "stream",
     "text": [
      "R2 of test is:  0.9247267271910061\n",
      "Test set results for 11309 samples:\n",
      "MSE: 0.0049529984\n",
      "MAE: 0.042119555\n",
      "MSE loss on test set is: 3.893242470174962e-05\n",
      "time used to train model with 40/1000 patience is:  21.9355857372672 mins\n"
     ]
    }
   ],
   "source": [
    "import time \n",
    "start_time = time.perf_counter()\n",
    "train_main(config) \n",
    "end_time = time.perf_counter() \n",
    "print('time used to train model with 40/1000 patience is: ', (end_time - start_time)/60, 'mins')"
   ]
  },
  {
   "cell_type": "markdown",
   "id": "dca211f7-aaf8-4b3c-8a59-61f8660ec72c",
   "metadata": {},
   "source": [
    "# get prediction on training/experiment data"
   ]
  },
  {
   "cell_type": "code",
   "execution_count": 12,
   "id": "ef3078bb-efb6-40dc-b7b2-54c64b307fcb",
   "metadata": {},
   "outputs": [],
   "source": [
    "def predict_on_test(config): \n",
    "    \n",
    "    data_dir = 'datasets/train/'\n",
    "    exp_cscl_dir = 'datasets/exp/rutitle_cscl'\n",
    "    exp_licl_dir = 'datasets/exp/rutitle_LiCl'\n",
    "\n",
    "    # get training dataset \n",
    "    train_set, _, _ = load_data(exp_cscl_dir)\n",
    "    # train_set, _, _ = load_data(exp_licl_dir)\n",
    "\n",
    "    train_loader = torch.utils.data.DataLoader(\n",
    "        train_set,\n",
    "        batch_size=int(config[\"batch_size\"]),\n",
    "        shuffle=True)\n",
    "            \n",
    "    print(\"Creating model\")\n",
    "    Model = getattr(models, config['model'])\n",
    "    print('created model is: ', Model)\n",
    "    \n",
    "    if config['model'] == 'DeepNet4LayerTune': \n",
    "        model = Model(config['batch_norm'], config['layer_norm'], config['constraint'],\n",
    "                      config[\"l1\"], config[\"l2\"], config[\"l3\"],)\n",
    "    elif config['model'] == 'DeepNet5LayerTune': \n",
    "        model = Model(config['batch_norm'], config['layer_norm'], config['constraint'],\n",
    "                     config[\"l1\"], config[\"l2\"], config[\"l3\"], config[\"l4\"])\n",
    "    else: \n",
    "        model = Model(config['batch_norm'], config['layer_norm'], config['constraint'],\n",
    "                     config[\"l1\"], config[\"l2\"], config[\"l3\"], config[\"l4\"], config[\"l5\"])\n",
    "        \n",
    "    name = f\"{config['model']}_171inputs_{config['l1']}{config['l2']}{config['l3']}{config['l4']}{config['l5']}lr{config['lr']}BS{config['batch_size']}isB{config['batch_norm']}ln{config['layer_norm']}cons{config['constraint']}Opt{config['optimizer']}sch{config['lr_scheduler']}\"\n",
    "    name1 = f\"cscl_{config['model']}_171inputs_{config['l1']}{config['l2']}{config['l3']}{config['l4']}{config['l5']}lr{config['lr']}BS{config['batch_size']}isB{config['batch_norm']}ln{config['layer_norm']}cons{config['constraint']}Opt{config['optimizer']}sch{config['lr_scheduler']}\"\n",
    "   \n",
    "    device = torch.device(\"cuda:1\" if torch.cuda.is_available() else \"cpu\")\n",
    "    # device = torch.device(\"cuda\")\n",
    "    # if torch.cuda.device_count() > 1:\n",
    "    #     model = nn.DataParallel(model)\n",
    "    model.to(device)\n",
    "\n",
    "    optimizer, lr_scheduler = build_optimizer(model, config['optimizer'], config['lr'])\n",
    "    model.to(device)\n",
    "\n",
    "    res_dir = 'simpleDNN/res/'\n",
    "    \n",
    "    checkpoint_dir = os.path.join(res_dir, 'checkpoints')\n",
    "    checkpoint_path = os.path.join(checkpoint_dir, f'{name}.pt')\n",
    "\n",
    "    model.load_state_dict(torch.load(checkpoint_path))\n",
    "\n",
    "    # test on test set \n",
    "    test_accuracy(model, train_loader, res_dir, name1, device)   "
   ]
  },
  {
   "cell_type": "code",
   "execution_count": 13,
   "id": "d1a1f89c-b7f2-4dde-a37e-1e3c5c9ccbdd",
   "metadata": {},
   "outputs": [
    {
     "name": "stdout",
     "output_type": "stream",
     "text": [
      "Creating model\n",
      "created model is:  <class 'model.net.DeepNet5LayerTune'>\n",
      "R2 of test is:  nan\n",
      "Test set results for 1 samples:\n",
      "MSE: 0.11755475\n",
      "MAE: 0.29246107\n",
      "MSE loss on test set is: 0.11755474656820297\n",
      "time used to train model with 20/250 patience is:  0.028642237186431885 secs\n"
     ]
    },
    {
     "name": "stderr",
     "output_type": "stream",
     "text": [
      "/home/chunhui/ENTER/envs/ML/lib/python3.10/site-packages/sklearn/metrics/_regression.py:796: UndefinedMetricWarning: R^2 score is not well-defined with less than two samples.\n",
      "  warnings.warn(msg, UndefinedMetricWarning)\n"
     ]
    }
   ],
   "source": [
    "import time  \n",
    "start_time = time.perf_counter()\n",
    "predict_on_test(config)\n",
    "end_time = time.perf_counter() \n",
    "print('time used to train model with 20/250 patience is: ', (end_time - start_time), 'secs')"
   ]
  }
 ],
 "metadata": {
  "kernelspec": {
   "display_name": "Python 3 (ipykernel)",
   "language": "python",
   "name": "python3"
  },
  "language_info": {
   "codemirror_mode": {
    "name": "ipython",
    "version": 3
   },
   "file_extension": ".py",
   "mimetype": "text/x-python",
   "name": "python",
   "nbconvert_exporter": "python",
   "pygments_lexer": "ipython3",
   "version": "3.10.10"
  }
 },
 "nbformat": 4,
 "nbformat_minor": 5
}
